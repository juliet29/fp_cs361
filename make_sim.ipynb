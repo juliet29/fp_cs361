{
 "cells": [
  {
   "cell_type": "code",
   "execution_count": null,
   "metadata": {},
   "outputs": [],
   "source": [
    "\"\"\"\n",
    "# parameter vector (16 + 135 = 151) or (16 + 36 = 52 )\n",
    "\n",
    "--\n",
    "## materials (6)\n",
    "\n",
    "# glazing material (1)\n",
    "glazing u val (0.01, 5)\n",
    "glazing shgc (0,1)\n",
    "\n",
    "# construction material (5)\n",
    "-> (m2-K)/W (0.01, 5)\n",
    "ceiling r val \n",
    "roof r val \n",
    "floor r val \n",
    "interior wall r val\n",
    "exterior wall r val \n",
    "\n",
    "---\n",
    "## def vals (10)\n",
    "\n",
    "# equip def vals (3)\n",
    "-> watts/ zone floor area (1,16.7,50)\n",
    "auditorium \n",
    "lab \n",
    "office\n",
    "\n",
    "# light def vals (4)\n",
    "-> watts/ zone floor area (1,10.6,15)\n",
    "-> https://www.scilights.com/docs/SCI/T24-Lighting-Guide.pdf\n",
    "-> https://energycodeace.com/site/custom/public/reference-ace-2019/index.html#!Documents/section1406prescriptiverequirementsforindoorlighting.htm\n",
    "-> 0.95 w/ft2 , 0.13 => w/ m2 \n",
    "auditorium \n",
    "lab \n",
    "office\n",
    "stairs \n",
    "\n",
    "# infil def vals (2)\n",
    "-> flow / exterior surface area (0.00001,0.0003,0.008) m3/s-m2\n",
    "-> good is 0.25 cfm50 per square foot of envelope, bad is 10 cfm50 per square (0.0001 = good, 0.00471 bad)\n",
    "-> https://www.energyvanguard.com/blog/how-much-air-leakage-in-your-home-is-too-much/\n",
    "building \n",
    "stairs \n",
    "\n",
    "# occ def vals (1)\n",
    "-> people / zone floor area (0.001,0.053,0.5) person/m\n",
    "2\n",
    "-> https://ccpia.org/occupancy-load-signs/ ->1/ 50ft2 ~ 1/ 4.6m2 => 0.2\n",
    "building \n",
    "\n",
    "--- \n",
    "## schedules (15 * 9 = 135) or (4 * 9 = 36)\n",
    "\n",
    "# for each sched\n",
    "\n",
    "winterspring weekdays = fallwinter weekdays => onseason \n",
    "    midnight - 8 => night\n",
    "    8 - noon = 1 - 5 => working_hours\n",
    "    noon - 1 = 5 - midnight  => break_hours\n",
    "    # 1 - 5 => afternoon, working_hours\n",
    "    #5 - midnight => evening, break_hours\n",
    "summer weekdays = winterspring * var_to_tune => offseason_fraction\n",
    "    # midnight - 8 \n",
    "    # 8 - noon \n",
    "    # noon - 1 \n",
    "    # 1 - 5\n",
    "    # 5 - midnight \n",
    "# fallwinter weekdays\n",
    "#     midnight - 8 \n",
    "#     8 - noon \n",
    "#     noon - 1 \n",
    "#     1 - 5\n",
    "#     5 - midnight \n",
    "\n",
    "\n",
    "# equip schedules\n",
    "auditorium \n",
    "lab \n",
    "office\n",
    "\n",
    "\n",
    "# light scheds \n",
    "auditorium \n",
    "lab \n",
    "office\n",
    "stairs \n",
    "\n",
    "\n",
    "# infil scheds\n",
    "building\n",
    "\n",
    "\n",
    "# occ sched\n",
    "building \n",
    "\n",
    "\"\"\""
   ]
  },
  {
   "cell_type": "code",
   "execution_count": 1,
   "metadata": {},
   "outputs": [],
   "source": [
    "def map_samples(input, output_start, output_end, input_start=0, input_end=1):\n",
    "    slope = (output_end - output_start) / (input_end - input_start)\n",
    "    output = output_start + slope * (input - input_start)\n",
    "    return output"
   ]
  },
  {
   "cell_type": "code",
   "execution_count": 5,
   "metadata": {},
   "outputs": [
    {
     "data": {
      "text/plain": [
       "4.25"
      ]
     },
     "execution_count": 5,
     "metadata": {},
     "output_type": "execute_result"
    }
   ],
   "source": [
    "# light, (1,16.7,50)\n",
    "map_samples(input=0.5, output_start=1, output_end=7.5)"
   ]
  },
  {
   "cell_type": "code",
   "execution_count": 7,
   "metadata": {},
   "outputs": [
    {
     "data": {
      "text/plain": [
       "{'b': 1, 'c': {'d': 1, 'e': 3}}"
      ]
     },
     "execution_count": 7,
     "metadata": {},
     "output_type": "execute_result"
    }
   ],
   "source": [
    "a = {\n",
    "    \"b\": 1,\n",
    "    \"c\": {\n",
    "        \"d\": 1,\n",
    "        \"e\":3\n",
    "    }\n",
    "}\n",
    "a"
   ]
  },
  {
   "cell_type": "code",
   "execution_count": 2,
   "metadata": {},
   "outputs": [
    {
     "data": {
      "text/plain": [
       "2"
      ]
     },
     "execution_count": 2,
     "metadata": {},
     "output_type": "execute_result"
    }
   ],
   "source": [
    "a = ...\n",
    "b = ...\n",
    "c = ...\n",
    "2"
   ]
  },
  {
   "cell_type": "code",
   "execution_count": 3,
   "metadata": {},
   "outputs": [],
   "source": [
    "dp = [0]\n",
    "dp_dict = {\n",
    "            \"materials\": {\n",
    "                \"glazing\": {\n",
    "                    \"u_val\": dp[0],\n",
    "                    \"shgc\": dp[0]\n",
    "                },\n",
    "                \"construction_r_vals\": {\n",
    "                    \"ceiling\": dp[0],\n",
    "                    \"roof\": dp[0],\n",
    "                    \"floor\": dp[0],\n",
    "                    \"interior_wall\": dp[0],\n",
    "                    \"exterior_wall\": dp[0],\n",
    "                }\n",
    "\n",
    "            }}"
   ]
  },
  {
   "cell_type": "code",
   "execution_count": 9,
   "metadata": {},
   "outputs": [],
   "source": [
    "import flatdict\n",
    "from collections import OrderedDict"
   ]
  },
  {
   "cell_type": "code",
   "execution_count": 24,
   "metadata": {},
   "outputs": [
    {
     "data": {
      "text/plain": [
       "[0, 1, 2, 3, 4, 5, 6]"
      ]
     },
     "execution_count": 24,
     "metadata": {},
     "output_type": "execute_result"
    }
   ],
   "source": [
    "var = list(range(7))\n",
    "var"
   ]
  },
  {
   "cell_type": "code",
   "execution_count": 25,
   "metadata": {},
   "outputs": [
    {
     "data": {
      "text/plain": [
       "<FlatDict id=4393805136 {'materials.glazing.u_val': 0, 'materials.glazing.shgc': 0, 'materials.construction_r_vals.ceiling': 0, 'materials.construction_r_vals.roof': 0, 'materials.construction_r_vals.floor': 0, 'materials.construction_r_vals.interior_wall': 0, 'materials.construction_r_vals.exterior_wall': 0}>\""
      ]
     },
     "execution_count": 25,
     "metadata": {},
     "output_type": "execute_result"
    }
   ],
   "source": [
    "d =  flatdict.FlatDict(dp_dict, delimiter='.')\n",
    "d"
   ]
  },
  {
   "cell_type": "code",
   "execution_count": 26,
   "metadata": {},
   "outputs": [],
   "source": [
    "for key, v in zip(d,var):\n",
    "    d[key] = v"
   ]
  },
  {
   "cell_type": "code",
   "execution_count": 27,
   "metadata": {},
   "outputs": [
    {
     "data": {
      "text/plain": [
       "{'materials': {'glazing': {'u_val': 0, 'shgc': 1},\n",
       "  'construction_r_vals': {'ceiling': 2,\n",
       "   'roof': 3,\n",
       "   'floor': 4,\n",
       "   'interior_wall': 5,\n",
       "   'exterior_wall': 6}}}"
      ]
     },
     "execution_count": 27,
     "metadata": {},
     "output_type": "execute_result"
    }
   ],
   "source": [
    "d.as_dict()"
   ]
  },
  {
   "cell_type": "code",
   "execution_count": 20,
   "metadata": {},
   "outputs": [
    {
     "data": {
      "text/plain": [
       "{'ac': 33, 'gw': 20, 'ap': 102, 'za': 321, 'bs': 10}"
      ]
     },
     "execution_count": 20,
     "metadata": {},
     "output_type": "execute_result"
    }
   ],
   "source": [
    "d = {'ac':33, 'gw':20, 'ap':102, 'za':321, 'bs':10}\n",
    "d"
   ]
  },
  {
   "cell_type": "code",
   "execution_count": 22,
   "metadata": {},
   "outputs": [
    {
     "data": {
      "text/plain": [
       "{'ac': 44, 'gw': 20, 'ap': 102, 'za': 321, 'bs': 10}"
      ]
     },
     "execution_count": 22,
     "metadata": {},
     "output_type": "execute_result"
    }
   ],
   "source": [
    "d[\"ac\"] = 44\n",
    "d"
   ]
  },
  {
   "cell_type": "code",
   "execution_count": 28,
   "metadata": {},
   "outputs": [],
   "source": [
    "import random"
   ]
  },
  {
   "cell_type": "code",
   "execution_count": 29,
   "metadata": {},
   "outputs": [
    {
     "data": {
      "text/plain": [
       "[0.9011834766513294,\n",
       " 0.8256201660312945,\n",
       " 0.5750211183385388,\n",
       " 0.49208207491899814,\n",
       " 0.1798206374169179,\n",
       " 0.4331243215709659,\n",
       " 0.2689180788258865,\n",
       " 0.5061111625677045,\n",
       " 0.5702944902333612,\n",
       " 0.8970912350112165,\n",
       " 0.8509186347001552,\n",
       " 0.8161327642026082,\n",
       " 0.4617322349341678,\n",
       " 0.41335084896838103,\n",
       " 0.034252662644291054,\n",
       " 0.5745487776215161,\n",
       " 0.19970460679393065,\n",
       " 0.9710378344366807,\n",
       " 0.5420696183980843,\n",
       " 0.9125156224362209,\n",
       " 0.3876345613762783,\n",
       " 0.7817295042872134,\n",
       " 0.9190387041417118,\n",
       " 0.86497151144691,\n",
       " 0.07595110443709163,\n",
       " 0.15734834055621072,\n",
       " 0.0402050178621981,\n",
       " 0.14467656658043349,\n",
       " 0.7355382173709254,\n",
       " 0.07780132143548857,\n",
       " 0.961754378322815,\n",
       " 0.7559624985523113,\n",
       " 0.5380503171658861,\n",
       " 0.9183776183885097,\n",
       " 0.42895389142198725,\n",
       " 0.3547389698632675,\n",
       " 0.563996067577756,\n",
       " 0.12898052217429,\n",
       " 0.05281294024790517,\n",
       " 0.6897551877672632,\n",
       " 0.8644868600581084,\n",
       " 0.9721655705971601,\n",
       " 0.6483113640638175,\n",
       " 0.8213615683123157,\n",
       " 0.8402733788532063,\n",
       " 0.9179627849619916,\n",
       " 0.011119209517238438,\n",
       " 0.6116161691106811,\n",
       " 0.3689058313946295,\n",
       " 0.001811235371415365,\n",
       " 0.7729768733876685,\n",
       " 0.07614301814697044,\n",
       " 0.008636504443509274,\n",
       " 0.22340259116096972,\n",
       " 0.30955460747563224,\n",
       " 0.1589886519883943,\n",
       " 0.24640689959157458,\n",
       " 0.5760318590420944,\n",
       " 0.1579737193701347,\n",
       " 0.5751189000536887,\n",
       " 0.3466978436745006]"
      ]
     },
     "execution_count": 29,
     "metadata": {},
     "output_type": "execute_result"
    }
   ],
   "source": [
    "[random.random() for i in range(0,61)]"
   ]
  }
 ],
 "metadata": {
  "interpreter": {
   "hash": "b2ee25b096eb6dc3289fa938db5d31020ca2de215c290f792ace3d0f2520e3be"
  },
  "kernelspec": {
   "display_name": "Python 3.9.10 ('cs361env': venv)",
   "language": "python",
   "name": "python3"
  },
  "language_info": {
   "codemirror_mode": {
    "name": "ipython",
    "version": 3
   },
   "file_extension": ".py",
   "mimetype": "text/x-python",
   "name": "python",
   "nbconvert_exporter": "python",
   "pygments_lexer": "ipython3",
   "version": "3.9.12"
  },
  "orig_nbformat": 4
 },
 "nbformat": 4,
 "nbformat_minor": 2
}
