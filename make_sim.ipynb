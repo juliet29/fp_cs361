{
 "cells": [
  {
   "cell_type": "code",
   "execution_count": null,
   "metadata": {},
   "outputs": [],
   "source": [
    "\"\"\"\n",
    "# parameter vector (16 + 135 = 151) or (16 + 36 = 52 )\n",
    "\n",
    "--\n",
    "## materials (6)\n",
    "\n",
    "# glazing material (1)\n",
    "glazing u val (0.01, 5)\n",
    "glazing shgc (0,1)\n",
    "\n",
    "# construction material (5)\n",
    "-> (m2-K)/W (0.01, 5)\n",
    "ceiling r val \n",
    "roof r val \n",
    "floor r val \n",
    "interior wall r val\n",
    "exterior wall r val \n",
    "\n",
    "---\n",
    "## def vals (10)\n",
    "\n",
    "# equip def vals (3)\n",
    "-> watts/ zone floor area (1,16.7,50)\n",
    "auditorium \n",
    "lab \n",
    "office\n",
    "\n",
    "# light def vals (4)\n",
    "-> watts/ zone floor area (1,10.6,15)\n",
    "-> https://www.scilights.com/docs/SCI/T24-Lighting-Guide.pdf\n",
    "-> https://energycodeace.com/site/custom/public/reference-ace-2019/index.html#!Documents/section1406prescriptiverequirementsforindoorlighting.htm\n",
    "-> 0.95 w/ft2 , 0.13 => w/ m2 \n",
    "auditorium \n",
    "lab \n",
    "office\n",
    "stairs \n",
    "\n",
    "# infil def vals (2)\n",
    "-> flow / exterior surface area (0.00001,0.0003,0.008) m3/s-m2\n",
    "-> good is 0.25 cfm50 per square foot of envelope, bad is 10 cfm50 per square (0.0001 = good, 0.00471 bad)\n",
    "-> https://www.energyvanguard.com/blog/how-much-air-leakage-in-your-home-is-too-much/\n",
    "building \n",
    "stairs \n",
    "\n",
    "# occ def vals (1)\n",
    "-> people / zone floor area (0.001,0.053,0.5) person/m\n",
    "2\n",
    "-> https://ccpia.org/occupancy-load-signs/ ->1/ 50ft2 ~ 1/ 4.6m2 => 0.2\n",
    "building \n",
    "\n",
    "--- \n",
    "## schedules (15 * 9 = 135) or (4 * 9 = 36)\n",
    "\n",
    "# for each sched\n",
    "\n",
    "winterspring weekdays = fallwinter weekdays => onseason \n",
    "    midnight - 8 => night\n",
    "    8 - noon = 1 - 5 => working_hours\n",
    "    noon - 1 = 5 - midnight  => break_hours\n",
    "    # 1 - 5 => afternoon, working_hours\n",
    "    #5 - midnight => evening, break_hours\n",
    "summer weekdays = winterspring * var_to_tune => offseason_fraction\n",
    "    # midnight - 8 \n",
    "    # 8 - noon \n",
    "    # noon - 1 \n",
    "    # 1 - 5\n",
    "    # 5 - midnight \n",
    "# fallwinter weekdays\n",
    "#     midnight - 8 \n",
    "#     8 - noon \n",
    "#     noon - 1 \n",
    "#     1 - 5\n",
    "#     5 - midnight \n",
    "\n",
    "\n",
    "# equip schedules\n",
    "auditorium \n",
    "lab \n",
    "office\n",
    "\n",
    "\n",
    "# light scheds \n",
    "auditorium \n",
    "lab \n",
    "office\n",
    "stairs \n",
    "\n",
    "\n",
    "# infil scheds\n",
    "building\n",
    "\n",
    "\n",
    "# occ sched\n",
    "building \n",
    "\n",
    "\"\"\""
   ]
  },
  {
   "cell_type": "code",
   "execution_count": 1,
   "metadata": {},
   "outputs": [],
   "source": [
    "def map_samples(input, output_start, output_end, input_start=0, input_end=1):\n",
    "    slope = (output_end - output_start) / (input_end - input_start)\n",
    "    output = output_start + slope * (input - input_start)\n",
    "    return output"
   ]
  },
  {
   "cell_type": "code",
   "execution_count": 5,
   "metadata": {},
   "outputs": [
    {
     "data": {
      "text/plain": [
       "4.25"
      ]
     },
     "execution_count": 5,
     "metadata": {},
     "output_type": "execute_result"
    }
   ],
   "source": [
    "# light, (1,16.7,50)\n",
    "map_samples(input=0.5, output_start=1, output_end=7.5)"
   ]
  },
  {
   "cell_type": "code",
   "execution_count": 7,
   "metadata": {},
   "outputs": [
    {
     "data": {
      "text/plain": [
       "{'b': 1, 'c': {'d': 1, 'e': 3}}"
      ]
     },
     "execution_count": 7,
     "metadata": {},
     "output_type": "execute_result"
    }
   ],
   "source": [
    "a = {\n",
    "    \"b\": 1,\n",
    "    \"c\": {\n",
    "        \"d\": 1,\n",
    "        \"e\":3\n",
    "    }\n",
    "}\n",
    "a"
   ]
  },
  {
   "cell_type": "code",
   "execution_count": 2,
   "metadata": {},
   "outputs": [
    {
     "data": {
      "text/plain": [
       "2"
      ]
     },
     "execution_count": 2,
     "metadata": {},
     "output_type": "execute_result"
    }
   ],
   "source": [
    "a = ...\n",
    "b = ...\n",
    "c = ...\n",
    "2"
   ]
  }
 ],
 "metadata": {
  "interpreter": {
   "hash": "31f2aee4e71d21fbe5cf8b01ff0e069b9275f58929596ceb00d14d90e3e16cd6"
  },
  "kernelspec": {
   "display_name": "Python 3.8.9 64-bit",
   "language": "python",
   "name": "python3"
  },
  "language_info": {
   "codemirror_mode": {
    "name": "ipython",
    "version": 3
   },
   "file_extension": ".py",
   "mimetype": "text/x-python",
   "name": "python",
   "nbconvert_exporter": "python",
   "pygments_lexer": "ipython3",
   "version": "3.8.9"
  },
  "orig_nbformat": 4
 },
 "nbformat": 4,
 "nbformat_minor": 2
}
