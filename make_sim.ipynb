{
 "cells": [
  {
   "cell_type": "code",
   "execution_count": null,
   "metadata": {},
   "outputs": [],
   "source": [
    "\"\"\"\n",
    "# parameter vector (16 + 135 = 151) or (16 + 36 = 52 )\n",
    "\n",
    "--\n",
    "## materials (6)\n",
    "\n",
    "# glazing material (1)\n",
    "glazing u val (0.01, 5)\n",
    "glazing shgc (0,1)\n",
    "\n",
    "# construction material (5)\n",
    "-> (m2-K)/W (0.01, 5)\n",
    "ceiling r val \n",
    "roof r val \n",
    "floor r val \n",
    "interior wall r val\n",
    "exterior wall r val \n",
    "\n",
    "---\n",
    "## def vals (10)\n",
    "\n",
    "# equip def vals (3)\n",
    "-> watts/ zone floor area (1,16.7,50)\n",
    "auditorium \n",
    "lab \n",
    "office\n",
    "\n",
    "# light def vals (4)\n",
    "-> watts/ zone floor area (1,10.6,15)\n",
    "-> https://www.scilights.com/docs/SCI/T24-Lighting-Guide.pdf\n",
    "-> https://energycodeace.com/site/custom/public/reference-ace-2019/index.html#!Documents/section1406prescriptiverequirementsforindoorlighting.htm\n",
    "-> 0.95 w/ft2 , 0.13 => w/ m2 \n",
    "auditorium \n",
    "lab \n",
    "office\n",
    "stairs \n",
    "\n",
    "# infil def vals (2)\n",
    "-> flow / exterior surface area (0.00001,0.0003,0.008) m3/s-m2\n",
    "-> good is 0.25 cfm50 per square foot of envelope, bad is 10 cfm50 per square (0.0001 = good, 0.00471 bad)\n",
    "-> https://www.energyvanguard.com/blog/how-much-air-leakage-in-your-home-is-too-much/\n",
    "building \n",
    "stairs \n",
    "\n",
    "# occ def vals (1)\n",
    "-> people / zone floor area (0.001,0.053,0.5) person/m\n",
    "2\n",
    "-> https://ccpia.org/occupancy-load-signs/ ->1/ 50ft2 ~ 1/ 4.6m2 => 0.2\n",
    "building \n",
    "\n",
    "--- \n",
    "## schedules (15 * 9 = 135) or (4 * 9 = 36)\n",
    "\n",
    "# for each sched\n",
    "\n",
    "winterspring weekdays = fallwinter weekdays => onseason \n",
    "    midnight - 8 => night\n",
    "    8 - noon = 1 - 5 => working_hours\n",
    "    noon - 1 = 5 - midnight  => break_hours\n",
    "    # 1 - 5 => afternoon, working_hours\n",
    "    #5 - midnight => evening, break_hours\n",
    "summer weekdays = winterspring * var_to_tune => offseason_fraction\n",
    "    # midnight - 8 \n",
    "    # 8 - noon \n",
    "    # noon - 1 \n",
    "    # 1 - 5\n",
    "    # 5 - midnight \n",
    "# fallwinter weekdays\n",
    "#     midnight - 8 \n",
    "#     8 - noon \n",
    "#     noon - 1 \n",
    "#     1 - 5\n",
    "#     5 - midnight \n",
    "\n",
    "\n",
    "# equip schedules\n",
    "auditorium \n",
    "lab \n",
    "office\n",
    "\n",
    "\n",
    "# light scheds \n",
    "auditorium \n",
    "lab \n",
    "office\n",
    "stairs \n",
    "\n",
    "\n",
    "# infil scheds\n",
    "building\n",
    "\n",
    "\n",
    "# occ sched\n",
    "building \n",
    "\n",
    "\"\"\""
   ]
  },
  {
   "cell_type": "code",
   "execution_count": 1,
   "metadata": {},
   "outputs": [],
   "source": [
    "def map_samples(input, output_start, output_end, input_start=0, input_end=1):\n",
    "    slope = (output_end - output_start) / (input_end - input_start)\n",
    "    output = output_start + slope * (input - input_start)\n",
    "    return output"
   ]
  },
  {
   "cell_type": "code",
   "execution_count": 5,
   "metadata": {},
   "outputs": [
    {
     "data": {
      "text/plain": [
       "4.25"
      ]
     },
     "execution_count": 5,
     "metadata": {},
     "output_type": "execute_result"
    }
   ],
   "source": [
    "# light, (1,16.7,50)\n",
    "map_samples(input=0.5, output_start=1, output_end=7.5)"
   ]
  },
  {
   "cell_type": "code",
   "execution_count": 7,
   "metadata": {},
   "outputs": [
    {
     "data": {
      "text/plain": [
       "{'b': 1, 'c': {'d': 1, 'e': 3}}"
      ]
     },
     "execution_count": 7,
     "metadata": {},
     "output_type": "execute_result"
    }
   ],
   "source": [
    "a = {\n",
    "    \"b\": 1,\n",
    "    \"c\": {\n",
    "        \"d\": 1,\n",
    "        \"e\":3\n",
    "    }\n",
    "}\n",
    "a"
   ]
  },
  {
   "cell_type": "code",
   "execution_count": 2,
   "metadata": {},
   "outputs": [
    {
     "data": {
      "text/plain": [
       "2"
      ]
     },
     "execution_count": 2,
     "metadata": {},
     "output_type": "execute_result"
    }
   ],
   "source": [
    "a = ...\n",
    "b = ...\n",
    "c = ...\n",
    "2"
   ]
  },
  {
   "cell_type": "code",
   "execution_count": 3,
   "metadata": {},
   "outputs": [],
   "source": [
    "dp = [0]\n",
    "dp_dict = {\n",
    "            \"materials\": {\n",
    "                \"glazing\": {\n",
    "                    \"u_val\": dp[0],\n",
    "                    \"shgc\": dp[0]\n",
    "                },\n",
    "                \"construction_r_vals\": {\n",
    "                    \"ceiling\": dp[0],\n",
    "                    \"roof\": dp[0],\n",
    "                    \"floor\": dp[0],\n",
    "                    \"interior_wall\": dp[0],\n",
    "                    \"exterior_wall\": dp[0],\n",
    "                }\n",
    "\n",
    "            }}"
   ]
  },
  {
   "cell_type": "code",
   "execution_count": 9,
   "metadata": {},
   "outputs": [],
   "source": [
    "import flatdict\n",
    "from collections import OrderedDict"
   ]
  },
  {
   "cell_type": "code",
   "execution_count": 24,
   "metadata": {},
   "outputs": [
    {
     "data": {
      "text/plain": [
       "[0, 1, 2, 3, 4, 5, 6]"
      ]
     },
     "execution_count": 24,
     "metadata": {},
     "output_type": "execute_result"
    }
   ],
   "source": [
    "var = list(range(7))\n",
    "var"
   ]
  },
  {
   "cell_type": "code",
   "execution_count": 25,
   "metadata": {},
   "outputs": [
    {
     "data": {
      "text/plain": [
       "<FlatDict id=4393805136 {'materials.glazing.u_val': 0, 'materials.glazing.shgc': 0, 'materials.construction_r_vals.ceiling': 0, 'materials.construction_r_vals.roof': 0, 'materials.construction_r_vals.floor': 0, 'materials.construction_r_vals.interior_wall': 0, 'materials.construction_r_vals.exterior_wall': 0}>\""
      ]
     },
     "execution_count": 25,
     "metadata": {},
     "output_type": "execute_result"
    }
   ],
   "source": [
    "d =  flatdict.FlatDict(dp_dict, delimiter='.')\n",
    "d"
   ]
  },
  {
   "cell_type": "code",
   "execution_count": 26,
   "metadata": {},
   "outputs": [],
   "source": [
    "for key, v in zip(d,var):\n",
    "    d[key] = v"
   ]
  },
  {
   "cell_type": "code",
   "execution_count": 27,
   "metadata": {},
   "outputs": [
    {
     "data": {
      "text/plain": [
       "{'materials': {'glazing': {'u_val': 0, 'shgc': 1},\n",
       "  'construction_r_vals': {'ceiling': 2,\n",
       "   'roof': 3,\n",
       "   'floor': 4,\n",
       "   'interior_wall': 5,\n",
       "   'exterior_wall': 6}}}"
      ]
     },
     "execution_count": 27,
     "metadata": {},
     "output_type": "execute_result"
    }
   ],
   "source": [
    "d.as_dict()"
   ]
  },
  {
   "cell_type": "code",
   "execution_count": 20,
   "metadata": {},
   "outputs": [
    {
     "data": {
      "text/plain": [
       "{'ac': 33, 'gw': 20, 'ap': 102, 'za': 321, 'bs': 10}"
      ]
     },
     "execution_count": 20,
     "metadata": {},
     "output_type": "execute_result"
    }
   ],
   "source": [
    "d = {'ac':33, 'gw':20, 'ap':102, 'za':321, 'bs':10}\n",
    "d"
   ]
  },
  {
   "cell_type": "code",
   "execution_count": 22,
   "metadata": {},
   "outputs": [
    {
     "data": {
      "text/plain": [
       "{'ac': 44, 'gw': 20, 'ap': 102, 'za': 321, 'bs': 10}"
      ]
     },
     "execution_count": 22,
     "metadata": {},
     "output_type": "execute_result"
    }
   ],
   "source": [
    "d[\"ac\"] = 44\n",
    "d"
   ]
  },
  {
   "cell_type": "code",
   "execution_count": 28,
   "metadata": {},
   "outputs": [],
   "source": [
    "import random"
   ]
  },
  {
   "cell_type": "code",
   "execution_count": 37,
   "metadata": {},
   "outputs": [
    {
     "data": {
      "text/plain": [
       "[0.6229016948897019,\n",
       " 0.7417869892607294,\n",
       " 0.7951935655656966,\n",
       " 0.9424502837770503,\n",
       " 0.7398985747399307,\n",
       " 0.922324996665417,\n",
       " 0.029005228283614737,\n",
       " 0.46562265437810535,\n",
       " 0.9433567169983137,\n",
       " 0.6489745531369242,\n",
       " 0.9009004917506227,\n",
       " 0.11320596465314436,\n",
       " 0.46906904778216374,\n",
       " 0.24657283261983032,\n",
       " 0.5437608592359304,\n",
       " 0.5739411879281008,\n",
       " 0.013114189588902203,\n",
       " 0.21672980046384815,\n",
       " 0.2794823660111103,\n",
       " 0.9163453718085519,\n",
       " 0.7657254516291417,\n",
       " 0.15960421235803823,\n",
       " 0.7971469914312045,\n",
       " 0.13876741839890316,\n",
       " 0.6174525204661166,\n",
       " 0.1266992325502697,\n",
       " 0.0017748622025346439,\n",
       " 0.8714047447242821,\n",
       " 0.2094563824951179,\n",
       " 0.21548116922473226,\n",
       " 0.9824211088259253,\n",
       " 0.8724077654368019,\n",
       " 0.2893051677469265,\n",
       " 0.9614779889500835,\n",
       " 0.5392234688708106,\n",
       " 0.6778304772505923,\n",
       " 0.20477951453379284,\n",
       " 0.9409760010879991,\n",
       " 0.6906419411069082,\n",
       " 0.9665643123171954,\n",
       " 0.8937416775764785,\n",
       " 0.29878889785386775,\n",
       " 0.36118993472238414,\n",
       " 0.1659560571297456,\n",
       " 0.14570190954068252,\n",
       " 0.06513971337567626,\n",
       " 0.3013591007694625,\n",
       " 0.6031099974076544,\n",
       " 0.003383119374356758,\n",
       " 0.6779342495476912,\n",
       " 0.33789686162786514,\n",
       " 0.3099579316031288,\n",
       " 0.8185180746470708,\n",
       " 0.48074518663003896,\n",
       " 0.31579310584644404,\n",
       " 0.48121838623686386,\n",
       " 0.7046691341409093,\n",
       " 0.057000929535789946,\n",
       " 0.9750995631442353,\n",
       " 0.02286556325272071,\n",
       " 0.7497950222912733]"
      ]
     },
     "execution_count": 37,
     "metadata": {},
     "output_type": "execute_result"
    }
   ],
   "source": [
    "random.seed(5)\n",
    "[random.random() for i in range(0,61)]"
   ]
  }
 ],
 "metadata": {
  "interpreter": {
   "hash": "b2ee25b096eb6dc3289fa938db5d31020ca2de215c290f792ace3d0f2520e3be"
  },
  "kernelspec": {
   "display_name": "Python 3.9.10 ('cs361env': venv)",
   "language": "python",
   "name": "python3"
  },
  "language_info": {
   "codemirror_mode": {
    "name": "ipython",
    "version": 3
   },
   "file_extension": ".py",
   "mimetype": "text/x-python",
   "name": "python",
   "nbconvert_exporter": "python",
   "pygments_lexer": "ipython3",
   "version": "3.9.12"
  },
  "orig_nbformat": 4
 },
 "nbformat": 4,
 "nbformat_minor": 2
}
