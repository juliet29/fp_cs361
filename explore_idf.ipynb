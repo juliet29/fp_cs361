{
 "cells": [
  {
   "cell_type": "code",
   "execution_count": 1,
   "metadata": {},
   "outputs": [],
   "source": [
    "from eppy import *\n",
    "from eppy.modeleditor import IDF\n",
    "import os"
   ]
  },
  {
   "cell_type": "code",
   "execution_count": 2,
   "metadata": {},
   "outputs": [],
   "source": [
    "# set the idd\n",
    "iddfile = \"/Applications/OpenStudioApplication-1.1.1/EnergyPlus/Energy+.idd\"\n",
    "IDF.setiddname(iddfile)"
   ]
  },
  {
   "cell_type": "code",
   "execution_count": 3,
   "metadata": {},
   "outputs": [],
   "source": [
    "# get the idf \n",
    "idf_path = \"/Users/julietnwagwuume-ezeoke/My Drive/CS361_Optim/_fplocal_cs361/eppy_energy_models/05_18/th_0518_00c/in3.idf\"\n",
    "\n",
    "# get the weather file \n",
    "epw = \"/Users/julietnwagwuume-ezeoke/Documents/cee256_local/weather_files/CA_PALO-ALTO-AP_724937S_19.epw\"\n",
    "\n",
    "# create our idf for exploring \n",
    "idf0 = IDF(idf_path, epw)"
   ]
  },
  {
   "cell_type": "code",
   "execution_count": 8,
   "metadata": {},
   "outputs": [
    {
     "data": {
      "text/plain": [
       "\n",
       "Schedule:Compact,\n",
       "    Office Bldg Equip2,       !- Name\n",
       "    Fraction,                 !- Schedule Type Limits Name\n",
       "    Through: 12/31,           !- Field 1\n",
       "    For: Weekdays,            !- Field 2\n",
       "    Until: 8:00,              !- Field 3\n",
       "    0.4,                      !- Field 4\n",
       "    Until: 12:00,             !- Field 5\n",
       "    0.9,                      !- Field 6\n",
       "    Until: 13:00,             !- Field 7\n",
       "    0.8,                      !- Field 8\n",
       "    Until: 17:00,             !- Field 9\n",
       "    0.9,                      !- Field 10\n",
       "    Until: 19:00,             !- Field 11\n",
       "    0.6,                      !- Field 12\n",
       "    Until: 24:00,             !- Field 13\n",
       "    0.4,                      !- Field 14\n",
       "    For: Weekends Holidays,    !- Field 15\n",
       "    Until: 8:00,              !- Field 16\n",
       "    0.3,                      !- Field 17\n",
       "    Until: 12:00,             !- Field 18\n",
       "    0.4,                      !- Field 19\n",
       "    Until: 13:00,             !- Field 20\n",
       "    0.3,                      !- Field 21\n",
       "    Until: 17:00,             !- Field 22\n",
       "    0.4,                      !- Field 23\n",
       "    Until: 19:00,             !- Field 24\n",
       "    0.4,                      !- Field 25\n",
       "    Until: 24:00,             !- Field 26\n",
       "    0.3,                      !- Field 27\n",
       "    For: SummerDesignDay,     !- Field 28\n",
       "    Until: 24:00,             !- Field 29\n",
       "    1,                        !- Field 30\n",
       "    For: WinterDesignDay,     !- Field 31\n",
       "    Until: 24:00,             !- Field 32\n",
       "    0,                        !- Field 33\n",
       "    For: AllOtherDays,        !- Field 34\n",
       "    Until: 8:00,              !- Field 35\n",
       "    0.4,                      !- Field 36\n",
       "    Until: 12:00,             !- Field 37\n",
       "    0.9,                      !- Field 38\n",
       "    Until: 13:00,             !- Field 39\n",
       "    0.8,                      !- Field 40\n",
       "    Until: 17:00,             !- Field 41\n",
       "    0.9,                      !- Field 42\n",
       "    Until: 19:00,             !- Field 43\n",
       "    0.6,                      !- Field 44\n",
       "    Until: 24:00,             !- Field 45\n",
       "    0.4;                      !- Field 46"
      ]
     },
     "execution_count": 8,
     "metadata": {},
     "output_type": "execute_result"
    }
   ],
   "source": [
    "bequip_sched = idf0.idfobjects[\"Schedule:Compact\"][1]\n",
    "bequip_sched"
   ]
  },
  {
   "cell_type": "code",
   "execution_count": 9,
   "metadata": {},
   "outputs": [
    {
     "data": {
      "text/plain": [
       "eppy.bunch_subclass.EpBunch"
      ]
     },
     "execution_count": 9,
     "metadata": {},
     "output_type": "execute_result"
    }
   ],
   "source": [
    "type(bequip_sched) # eppy.bunch_subclass.EpBunch\n",
    "# https://eppy.readthedocs.io/en/latest/eppy.html"
   ]
  },
  {
   "cell_type": "code",
   "execution_count": 11,
   "metadata": {},
   "outputs": [
    {
     "data": {
      "text/plain": [
       "['Schedule:Compact',\n",
       " 'Office Bldg Equip2',\n",
       " 'Fraction',\n",
       " 'Through: 12/31',\n",
       " 'For: Weekdays',\n",
       " 'Until: 8:00',\n",
       " '0.4',\n",
       " 'Until: 12:00',\n",
       " '0.9',\n",
       " 'Until: 13:00',\n",
       " '0.8',\n",
       " 'Until: 17:00',\n",
       " '0.9',\n",
       " 'Until: 19:00',\n",
       " '0.6',\n",
       " 'Until: 24:00',\n",
       " '0.4',\n",
       " 'For: Weekends Holidays',\n",
       " 'Until: 8:00',\n",
       " '0.3',\n",
       " 'Until: 12:00',\n",
       " '0.4',\n",
       " 'Until: 13:00',\n",
       " '0.3',\n",
       " 'Until: 17:00',\n",
       " '0.4',\n",
       " 'Until: 19:00',\n",
       " '0.4',\n",
       " 'Until: 24:00',\n",
       " '0.3',\n",
       " 'For: SummerDesignDay',\n",
       " 'Until: 24:00',\n",
       " '1',\n",
       " 'For: WinterDesignDay',\n",
       " 'Until: 24:00',\n",
       " '0',\n",
       " 'For: AllOtherDays',\n",
       " 'Until: 8:00',\n",
       " '0.4',\n",
       " 'Until: 12:00',\n",
       " '0.9',\n",
       " 'Until: 13:00',\n",
       " '0.8',\n",
       " 'Until: 17:00',\n",
       " '0.9',\n",
       " 'Until: 19:00',\n",
       " '0.6',\n",
       " 'Until: 24:00',\n",
       " '0.4']"
      ]
     },
     "execution_count": 11,
     "metadata": {},
     "output_type": "execute_result"
    }
   ],
   "source": [
    "vals = bequip_sched.fieldvalues\n",
    "vals"
   ]
  },
  {
   "cell_type": "code",
   "execution_count": 16,
   "metadata": {},
   "outputs": [
    {
     "data": {
      "text/plain": [
       "17"
      ]
     },
     "execution_count": 16,
     "metadata": {},
     "output_type": "execute_result"
    }
   ],
   "source": [
    "# want to set the value on weekends -> find index of weekend\n",
    "anchor = vals.index(\"For: Weekends Holidays\")\n",
    "anchor"
   ]
  },
  {
   "cell_type": "code",
   "execution_count": 17,
   "metadata": {},
   "outputs": [
    {
     "data": {
      "text/plain": [
       "1"
      ]
     },
     "execution_count": 17,
     "metadata": {},
     "output_type": "execute_result"
    }
   ],
   "source": [
    "chain = vals[17:-1].index(\"Until: 8:00\")\n",
    "chain"
   ]
  },
  {
   "cell_type": "code",
   "execution_count": 19,
   "metadata": {},
   "outputs": [],
   "source": [
    "keys = bequip_sched.fieldnames"
   ]
  },
  {
   "cell_type": "code",
   "execution_count": 24,
   "metadata": {},
   "outputs": [
    {
     "data": {
      "text/plain": [
       "'Field_17'"
      ]
     },
     "execution_count": 24,
     "metadata": {},
     "output_type": "execute_result"
    }
   ],
   "source": [
    "goal = keys[anchor + chain + 1] # to get to the value\n",
    "goal"
   ]
  },
  {
   "cell_type": "code",
   "execution_count": 26,
   "metadata": {},
   "outputs": [],
   "source": [
    "bequip_sched[goal] = 0.7"
   ]
  },
  {
   "cell_type": "code",
   "execution_count": 27,
   "metadata": {},
   "outputs": [
    {
     "data": {
      "text/plain": [
       "\n",
       "Schedule:Compact,\n",
       "    Office Bldg Equip2,       !- Name\n",
       "    Fraction,                 !- Schedule Type Limits Name\n",
       "    Through: 12/31,           !- Field 1\n",
       "    For: Weekdays,            !- Field 2\n",
       "    Until: 8:00,              !- Field 3\n",
       "    0.4,                      !- Field 4\n",
       "    Until: 12:00,             !- Field 5\n",
       "    0.9,                      !- Field 6\n",
       "    Until: 13:00,             !- Field 7\n",
       "    0.8,                      !- Field 8\n",
       "    Until: 17:00,             !- Field 9\n",
       "    0.9,                      !- Field 10\n",
       "    Until: 19:00,             !- Field 11\n",
       "    0.6,                      !- Field 12\n",
       "    Until: 24:00,             !- Field 13\n",
       "    0.4,                      !- Field 14\n",
       "    For: Weekends Holidays,    !- Field 15\n",
       "    Until: 8:00,              !- Field 16\n",
       "    0.7,                      !- Field 17\n",
       "    Until: 12:00,             !- Field 18\n",
       "    0.4,                      !- Field 19\n",
       "    Until: 13:00,             !- Field 20\n",
       "    0.3,                      !- Field 21\n",
       "    Until: 17:00,             !- Field 22\n",
       "    0.4,                      !- Field 23\n",
       "    Until: 19:00,             !- Field 24\n",
       "    0.4,                      !- Field 25\n",
       "    Until: 24:00,             !- Field 26\n",
       "    0.3,                      !- Field 27\n",
       "    For: SummerDesignDay,     !- Field 28\n",
       "    Until: 24:00,             !- Field 29\n",
       "    1,                        !- Field 30\n",
       "    For: WinterDesignDay,     !- Field 31\n",
       "    Until: 24:00,             !- Field 32\n",
       "    0,                        !- Field 33\n",
       "    For: AllOtherDays,        !- Field 34\n",
       "    Until: 8:00,              !- Field 35\n",
       "    0.4,                      !- Field 36\n",
       "    Until: 12:00,             !- Field 37\n",
       "    0.9,                      !- Field 38\n",
       "    Until: 13:00,             !- Field 39\n",
       "    0.8,                      !- Field 40\n",
       "    Until: 17:00,             !- Field 41\n",
       "    0.9,                      !- Field 42\n",
       "    Until: 19:00,             !- Field 43\n",
       "    0.6,                      !- Field 44\n",
       "    Until: 24:00,             !- Field 45\n",
       "    0.4;                      !- Field 46"
      ]
     },
     "execution_count": 27,
     "metadata": {},
     "output_type": "execute_result"
    }
   ],
   "source": [
    "bequip_sched"
   ]
  }
 ],
 "metadata": {
  "interpreter": {
   "hash": "b2ee25b096eb6dc3289fa938db5d31020ca2de215c290f792ace3d0f2520e3be"
  },
  "kernelspec": {
   "display_name": "Python 3.9.10 ('cs361env': venv)",
   "language": "python",
   "name": "python3"
  },
  "language_info": {
   "codemirror_mode": {
    "name": "ipython",
    "version": 3
   },
   "file_extension": ".py",
   "mimetype": "text/x-python",
   "name": "python",
   "nbconvert_exporter": "python",
   "pygments_lexer": "ipython3",
   "version": "3.9.10"
  },
  "orig_nbformat": 4
 },
 "nbformat": 4,
 "nbformat_minor": 2
}
