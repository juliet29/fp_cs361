{
 "cells": [
  {
   "cell_type": "code",
   "execution_count": 1,
   "metadata": {},
   "outputs": [],
   "source": [
    "from eppy import *\n",
    "from eppy.modeleditor import IDF\n",
    "import os"
   ]
  },
  {
   "cell_type": "code",
   "execution_count": 31,
   "metadata": {},
   "outputs": [],
   "source": [
    "from assign_params import AssignParams"
   ]
  },
  {
   "cell_type": "code",
   "execution_count": 32,
   "metadata": {},
   "outputs": [],
   "source": [
    "a = AssignParams()\n",
    "dp_dict = a.make_a_dict()"
   ]
  },
  {
   "cell_type": "code",
   "execution_count": 38,
   "metadata": {},
   "outputs": [
    {
     "data": {
      "text/plain": [
       "1"
      ]
     },
     "execution_count": 38,
     "metadata": {},
     "output_type": "execute_result"
    }
   ],
   "source": [
    "dp_dict.materials[\"glazing\"][\"u_val\"]"
   ]
  },
  {
   "cell_type": "code",
   "execution_count": 2,
   "metadata": {},
   "outputs": [],
   "source": [
    "# set the idd\n",
    "iddfile = \"/Applications/OpenStudioApplication-1.1.1/EnergyPlus/Energy+.idd\"\n",
    "IDF.setiddname(iddfile)"
   ]
  },
  {
   "cell_type": "code",
   "execution_count": 16,
   "metadata": {},
   "outputs": [],
   "source": [
    "# get the idf \n",
    "idf_path = \"/Users/julietnwagwuume-ezeoke/My Drive/CS361_Optim/_fplocal_cs361/eppy_energy_models/05_18/th_0518_00h/in3.idf\"\n",
    "\n",
    "# get the weather file \n",
    "epw = \"/Users/julietnwagwuume-ezeoke/Documents/cee256_local/weather_files/CA_PALO-ALTO-AP_724937S_19.epw\"\n",
    "\n",
    "# create our idf for exploring \n",
    "idf0 = IDF(idf_path, epw)"
   ]
  },
  {
   "cell_type": "code",
   "execution_count": null,
   "metadata": {},
   "outputs": [],
   "source": [
    "# Surface Type = Ceiling, roof\n",
    "# surface type = wall outside boundary condition = surface, outdoors\n",
    "# st = floor\n"
   ]
  },
  {
   "cell_type": "code",
   "execution_count": 9,
   "metadata": {},
   "outputs": [],
   "source": [
    "surface_names = [\"CEILING\", \"ROOF\", \"FLOOR\", \"INTERIOR_WALL\", \"EXTERIOR_WALL\"]"
   ]
  },
  {
   "cell_type": "code",
   "execution_count": 17,
   "metadata": {},
   "outputs": [],
   "source": [
    "# create materials and constructions\n",
    "for name in surface_names:\n",
    "    # materials\n",
    "    idf0.newidfobject(\n",
    "    \"Material:NoMass\",\n",
    "    Name=f\"{name}_VAR_MAT\",\n",
    "    Roughness=\"Smooth\",\n",
    "    Thermal_Resistance=0.1,\n",
    "    Thermal_Absorptance=0.9,\n",
    "    Solar_Absorptance=0.7,\n",
    "    Visible_Absorptance=0.7\n",
    "    )\n",
    "    # constructions \n",
    "    idf0.newidfobject(\n",
    "    \"Construction\",\n",
    "    Name=f\"{name}_VAR_CONST\",\n",
    "    Outside_Layer=f\"{name}_VAR_MAT\"\n",
    "    )"
   ]
  },
  {
   "cell_type": "code",
   "execution_count": 39,
   "metadata": {},
   "outputs": [
    {
     "data": {
      "text/plain": [
       "[\n",
       " MATERIAL:NOMASS,\n",
       "     CEILING_VAR_MAT,          !- Name\n",
       "     Smooth,                   !- Roughness\n",
       "     0.1,                      !- Thermal Resistance\n",
       "     0.9,                      !- Thermal Absorptance\n",
       "     0.7,                      !- Solar Absorptance\n",
       "     0.7;                      !- Visible Absorptance]"
      ]
     },
     "execution_count": 39,
     "metadata": {},
     "output_type": "execute_result"
    }
   ],
   "source": [
    "var = \"CEILING\"\n",
    "[m for m in idf0.idfobjects[\"Material:NoMass\"] if m.Name == f\"{var}_VAR_MAT\"]"
   ]
  },
  {
   "cell_type": "code",
   "execution_count": 27,
   "metadata": {},
   "outputs": [],
   "source": [
    "s = idf0.idfobjects[\"BuildingSurface:Detailed\"]\n",
    "\n",
    "for surface in s:\n",
    "    if surface.Surface_Type == \"Floor\":\n",
    "        surface.Construction_Name = \"FLOOR_VAR_CONST\"\n",
    "    if surface.Surface_Type == \"Ceiling\":\n",
    "        surface.Construction_Name = \"CEILING_VAR_CONST\"\n",
    "    if surface.Surface_Type == \"Roof\":\n",
    "        surface.Construction_Name = \"ROOF_VAR_CONST\"\n",
    "    if surface.Surface_Type == \"Wall\":\n",
    "        if surface.Outside_Boundary_Condition == \"Surface\":\n",
    "            surface.Construction_Name = \"INTERIOR_WALL_VAR_CONST\"\n",
    "        else: \n",
    "            surface.Construction_Name = \"EXTERIOR_WALL_VAR_CONST\""
   ]
  },
  {
   "cell_type": "code",
   "execution_count": 29,
   "metadata": {},
   "outputs": [],
   "source": [
    "save_path = \"/Users/julietnwagwuume-ezeoke/My Drive/CS361_Optim/_fplocal_cs361/eppy_energy_models/05_18/th_0518_01_materials\""
   ]
  },
  {
   "cell_type": "code",
   "execution_count": 30,
   "metadata": {},
   "outputs": [],
   "source": [
    "idf0.save(os.path.join(save_path, \"in.idf\"))"
   ]
  }
 ],
 "metadata": {
  "interpreter": {
   "hash": "b2ee25b096eb6dc3289fa938db5d31020ca2de215c290f792ace3d0f2520e3be"
  },
  "kernelspec": {
   "display_name": "Python 3.9.10 ('cs361env': venv)",
   "language": "python",
   "name": "python3"
  },
  "language_info": {
   "codemirror_mode": {
    "name": "ipython",
    "version": 3
   },
   "file_extension": ".py",
   "mimetype": "text/x-python",
   "name": "python",
   "nbconvert_exporter": "python",
   "pygments_lexer": "ipython3",
   "version": "3.9.12"
  },
  "orig_nbformat": 4
 },
 "nbformat": 4,
 "nbformat_minor": 2
}
