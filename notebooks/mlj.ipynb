{
 "cells": [
  {
   "cell_type": "code",
   "execution_count": 1,
   "metadata": {},
   "outputs": [],
   "source": [
    "using MLJ\n",
    "# using MLJDecisionTreeInterface\n",
    "using DataFrames"
   ]
  },
  {
   "cell_type": "code",
   "execution_count": 80,
   "metadata": {},
   "outputs": [
    {
     "name": "stdout",
     "output_type": "stream",
     "text": [
      "Table{AbstractVector{Continuous}}\n"
     ]
    },
    {
     "data": {
      "text/plain": [
       "fpred (generic function with 1 method)"
      ]
     },
     "metadata": {},
     "output_type": "display_data"
    }
   ],
   "source": [
    "include(\"/Users/julietnwagwuume-ezeoke/My Drive/CS361_Optim/_fp_cs361/gp_main.jl\")"
   ]
  },
  {
   "cell_type": "code",
   "execution_count": 54,
   "metadata": {},
   "outputs": [
    {
     "data": {
      "text/plain": [
       "quick_eval (generic function with 1 method)"
      ]
     },
     "metadata": {},
     "output_type": "display_data"
    }
   ],
   "source": [
    "function create_filter(name)\n",
    "    filter(model) = model.name == name &&\n",
    "    model.package_name == \"ScikitLearn\"\n",
    "end\n",
    "\n",
    "function exist(name, X, y)\n",
    "    existing = models(matching(X,y), create_filter(name))\n",
    "    if length(existing) >= 1\n",
    "        return true\n",
    "    else\n",
    "        return false \n",
    "    end\n",
    "end\n",
    "function quick_eval(Model, X, y)\n",
    "    model_instance = Model()\n",
    "    evaluate(model_instance, X, y, resampling=CV(nfolds=5), measure=rmse, verbosity=0)\n",
    "        \n",
    "end"
   ]
  },
  {
   "cell_type": "markdown",
   "metadata": {},
   "source": [
    "# Sci Kit Liearn Models to try  \n",
    "\n",
    "https://alan-turing-institute.github.io/MLJ.jl/dev/list_of_supported_models/\n",
    "\n",
    "- Linear regression\n",
    "- KNeighborsRegressor\n",
    "- RandomForestRegressor\n",
    "- SVMRegressor (some support vector..)\n",
    "- GaussianProcess"
   ]
  },
  {
   "cell_type": "markdown",
   "metadata": {},
   "source": [
    "# Data Conversion "
   ]
  },
  {
   "cell_type": "code",
   "execution_count": 55,
   "metadata": {},
   "outputs": [],
   "source": [
    "# done in gpmain \n",
    "# y = convert(Array{Float64,1}, y./10e9);\n",
    "\n",
    "# # convert X from matrix to table \n",
    "# Xtable = MLJ.table(X./10e9)\n",
    "# println(scitype(Xtable))\n",
    "# schema(Xtable)"
   ]
  },
  {
   "cell_type": "markdown",
   "metadata": {},
   "source": [
    "# Linear Regression"
   ]
  },
  {
   "cell_type": "code",
   "execution_count": 56,
   "metadata": {},
   "outputs": [
    {
     "data": {
      "text/plain": [
       "1-element Vector{NamedTuple{(:name, :package_name, :is_supervised, :deep_properties, :docstring, :hyperparameter_ranges, :hyperparameter_types, :hyperparameters, :implemented_methods, :is_pure_julia, :is_wrapper, :iteration_parameter, :load_path, :package_license, :package_url, :package_uuid, :prediction_type, :supports_class_weights, :supports_online, :supports_training_losses, :supports_weights, :input_scitype, :target_scitype, :output_scitype)}}:\n",
       " (name = LinearRegressor, package_name = ScikitLearn, ... )"
      ]
     },
     "metadata": {},
     "output_type": "display_data"
    }
   ],
   "source": [
    "\n",
    "filter(model) = model.name == \"LinearRegressor\" &&\n",
    "                model.package_name == \"ScikitLearn\"\n",
    "lin = models(filter)\n"
   ]
  },
  {
   "cell_type": "code",
   "execution_count": 57,
   "metadata": {},
   "outputs": [
    {
     "name": "stdout",
     "output_type": "stream",
     "text": [
      "Table{_s46} where _s46<:(AbstractVector{_s9} where _s9<:Continuous)\n",
      "AbstractVector{Continuous}\n"
     ]
    }
   ],
   "source": [
    "# requirements for linear regression input and target scitypes\n",
    "println(lin[1].input_scitype)\n",
    "println(lin[1].target_scitype)"
   ]
  },
  {
   "cell_type": "code",
   "execution_count": 58,
   "metadata": {},
   "outputs": [
    {
     "data": {
      "text/plain": [
       "\u001b[35mOrdinary least-square regression (OLS).\u001b[39m\n",
       "\u001b[35m→ based on [ScikitLearn](https://github.com/cstjean/ScikitLearn.jl).\u001b[39m\n",
       "\u001b[35m→ do `@load LinearRegressor pkg=\"ScikitLearn\"` to use the model.\u001b[39m\n",
       "\u001b[35m→ do `?LinearRegressor` for documentation.\u001b[39m\n",
       "(name = \"LinearRegressor\",\n",
       " package_name = \"ScikitLearn\",\n",
       " is_supervised = true,\n",
       " deep_properties = (),\n",
       " docstring = \"Ordinary least-square regression (OLS).\\n→ based on [ScikitLearn](https://github.com/cstjean/ScikitLearn.jl).\\n→ do `@load LinearRegressor pkg=\\\"ScikitLearn\\\"` to use the model.\\n→ do `?LinearRegressor` for documentation.\",\n",
       " hyperparameter_ranges = (nothing, nothing, nothing, nothing),\n",
       " hyperparameter_types = (\"Bool\", \"Bool\", \"Bool\", \"Union{Nothing, Int64}\"),\n",
       " hyperparameters = (:fit_intercept, :normalize, :copy_X, :n_jobs),\n",
       " implemented_methods = [:clean!, :fit, :fitted_params, :predict],\n",
       " is_pure_julia = false,\n",
       " is_wrapper = false,\n",
       " iteration_parameter = nothing,\n",
       " load_path = \"MLJScikitLearnInterface.LinearRegressor\",\n",
       " package_license = \"BSD\",\n",
       " package_url = \"https://github.com/cstjean/ScikitLearn.jl\",\n",
       " package_uuid = \"3646fa90-6ef7-5e7e-9f22-8aca16db6324\",\n",
       " prediction_type = :deterministic,\n",
       " supports_class_weights = false,\n",
       " supports_online = false,\n",
       " supports_training_losses = false,\n",
       " supports_weights = false,\n",
       " input_scitype = Table{_s46} where _s46<:(AbstractVector{_s9} where _s9<:Continuous),\n",
       " target_scitype = AbstractVector{Continuous},\n",
       " output_scitype = Unknown,)"
      ]
     },
     "metadata": {},
     "output_type": "display_data"
    }
   ],
   "source": [
    "# check that LinearRegression works for the scitypes of X and y\n",
    "models(matching(Xtable,y), filter)[1] # yay now we can do lr"
   ]
  },
  {
   "cell_type": "code",
   "execution_count": 59,
   "metadata": {},
   "outputs": [
    {
     "data": {
      "text/plain": [
       "LinearRegressor(\n",
       "    fit_intercept = true,\n",
       "    normalize = false,\n",
       "    copy_X = true,\n",
       "    n_jobs = nothing)\u001b[34m @191\u001b[39m"
      ]
     },
     "metadata": {},
     "output_type": "display_data"
    }
   ],
   "source": [
    "# load the model \n",
    "LinReg = @load LinearRegressor pkg=\"ScikitLearn\" verbosity=0\n",
    "\n",
    "# create an instance with default hyperparams\n",
    "# https://scikit-learn.org/stable/modules/generated/sklearn.linear_model.LinearRegression.html\n",
    "linreg = LinReg()"
   ]
  },
  {
   "cell_type": "code",
   "execution_count": 60,
   "metadata": {},
   "outputs": [
    {
     "name": "stderr",
     "output_type": "stream",
     "text": [
      "/Users/julietnwagwuume-ezeoke/.julia/conda/3/lib/python3.9/site-packages/sklearn/linear_model/_base.py:148: FutureWarning: 'normalize' was deprecated in version 1.0 and will be removed in 1.2. Please leave the normalize parameter to its default value to silence this warning. The default behavior of this estimator is to not do any normalization. If normalization is needed please use sklearn.preprocessing.StandardScaler instead.\n",
      "  warnings.warn(\n",
      "/Users/julietnwagwuume-ezeoke/.julia/conda/3/lib/python3.9/site-packages/sklearn/linear_model/_base.py:148: FutureWarning: 'normalize' was deprecated in version 1.0 and will be removed in 1.2. Please leave the normalize parameter to its default value to silence this warning. The default behavior of this estimator is to not do any normalization. If normalization is needed please use sklearn.preprocessing.StandardScaler instead.\n",
      "  warnings.warn(\n",
      "/Users/julietnwagwuume-ezeoke/.julia/conda/3/lib/python3.9/site-packages/sklearn/linear_model/_base.py:148: FutureWarning: 'normalize' was deprecated in version 1.0 and will be removed in 1.2. Please leave the normalize parameter to its default value to silence this warning. The default behavior of this estimator is to not do any normalization. If normalization is needed please use sklearn.preprocessing.StandardScaler instead.\n",
      "  warnings.warn(\n",
      "/Users/julietnwagwuume-ezeoke/.julia/conda/3/lib/python3.9/site-packages/sklearn/linear_model/_base.py:148: FutureWarning: 'normalize' was deprecated in version 1.0 and will be removed in 1.2. Please leave the normalize parameter to its default value to silence this warning. The default behavior of this estimator is to not do any normalization. If normalization is needed please use sklearn.preprocessing.StandardScaler instead.\n",
      "  warnings.warn(\n",
      "/Users/julietnwagwuume-ezeoke/.julia/conda/3/lib/python3.9/site-packages/sklearn/linear_model/_base.py:148: FutureWarning: 'normalize' was deprecated in version 1.0 and will be removed in 1.2. Please leave the normalize parameter to its default value to silence this warning. The default behavior of this estimator is to not do any normalization. If normalization is needed please use sklearn.preprocessing.StandardScaler instead.\n",
      "  warnings.warn(\n"
     ]
    },
    {
     "data": {
      "text/plain": [
       "┌───────────────────────────┬───────────────┬───────────────────────────────────\n",
       "│\u001b[22m _.measure                 \u001b[0m│\u001b[22m _.measurement \u001b[0m│\u001b[22m _.per_fold                      \u001b[0m ⋯\n",
       "├───────────────────────────┼───────────────┼───────────────────────────────────\n",
       "│ RootMeanSquaredError @409 │ 1.87e-10      │ [1.08e-10, 1.61e-10, 1.99e-10, 2 ⋯\n",
       "└───────────────────────────┴───────────────┴───────────────────────────────────\n",
       "\u001b[36m                                                                1 column omitted\u001b[0m\n",
       "_.per_observation = [missing]\n",
       "_.fitted_params_per_fold = [ … ]\n",
       "_.report_per_fold = [ … ]\n",
       "_.train_test_rows = [ … ]\n"
      ]
     },
     "metadata": {},
     "output_type": "display_data"
    }
   ],
   "source": [
    "# evaluate the model, use 5-fold cross validation, rmse metric\n",
    "cv5 =CV(nfolds=5)\n",
    "evaluate(linreg, Xtable, y, resampling=cv5, measure=rmse, verbosity=0)"
   ]
  },
  {
   "cell_type": "markdown",
   "metadata": {},
   "source": [
    "# RandomForestRegressor"
   ]
  },
  {
   "cell_type": "code",
   "execution_count": 61,
   "metadata": {},
   "outputs": [
    {
     "name": "stdout",
     "output_type": "stream",
     "text": [
      "true\n"
     ]
    },
    {
     "name": "stderr",
     "output_type": "stream",
     "text": [
      "/Users/julietnwagwuume-ezeoke/.julia/conda/3/lib/python3.9/site-packages/sklearn/ensemble/_forest.py:400: FutureWarning: Criterion 'mse' was deprecated in v1.0 and will be removed in version 1.2. Use `criterion='squared_error'` which is equivalent.\n",
      "  warn(\n",
      "/Users/julietnwagwuume-ezeoke/.julia/conda/3/lib/python3.9/site-packages/sklearn/ensemble/_forest.py:416: FutureWarning: `max_features='auto'` has been deprecated in 1.1 and will be removed in 1.3. To keep the past behaviour, explicitly set `max_features=1.0` or remove this parameter as it is also the default value for RandomForestRegressors and ExtraTreesRegressors.\n",
      "  warn(\n",
      "/Users/julietnwagwuume-ezeoke/.julia/conda/3/lib/python3.9/site-packages/sklearn/utils/deprecation.py:103: FutureWarning: Attribute `n_features_` was deprecated in version 1.0 and will be removed in 1.2. Use `n_features_in_` instead.\n",
      "  warnings.warn(msg, category=FutureWarning)\n",
      "/Users/julietnwagwuume-ezeoke/.julia/conda/3/lib/python3.9/site-packages/sklearn/ensemble/_forest.py:400: FutureWarning: Criterion 'mse' was deprecated in v1.0 and will be removed in version 1.2. Use `criterion='squared_error'` which is equivalent.\n",
      "  warn(\n",
      "/Users/julietnwagwuume-ezeoke/.julia/conda/3/lib/python3.9/site-packages/sklearn/ensemble/_forest.py:416: FutureWarning: `max_features='auto'` has been deprecated in 1.1 and will be removed in 1.3. To keep the past behaviour, explicitly set `max_features=1.0` or remove this parameter as it is also the default value for RandomForestRegressors and ExtraTreesRegressors.\n",
      "  warn(\n",
      "/Users/julietnwagwuume-ezeoke/.julia/conda/3/lib/python3.9/site-packages/sklearn/utils/deprecation.py:103: FutureWarning: Attribute `n_features_` was deprecated in version 1.0 and will be removed in 1.2. Use `n_features_in_` instead.\n",
      "  warnings.warn(msg, category=FutureWarning)\n",
      "/Users/julietnwagwuume-ezeoke/.julia/conda/3/lib/python3.9/site-packages/sklearn/ensemble/_forest.py:400: FutureWarning: Criterion 'mse' was deprecated in v1.0 and will be removed in version 1.2. Use `criterion='squared_error'` which is equivalent.\n",
      "  warn(\n",
      "/Users/julietnwagwuume-ezeoke/.julia/conda/3/lib/python3.9/site-packages/sklearn/ensemble/_forest.py:416: FutureWarning: `max_features='auto'` has been deprecated in 1.1 and will be removed in 1.3. To keep the past behaviour, explicitly set `max_features=1.0` or remove this parameter as it is also the default value for RandomForestRegressors and ExtraTreesRegressors.\n",
      "  warn(\n",
      "/Users/julietnwagwuume-ezeoke/.julia/conda/3/lib/python3.9/site-packages/sklearn/utils/deprecation.py:103: FutureWarning: Attribute `n_features_` was deprecated in version 1.0 and will be removed in 1.2. Use `n_features_in_` instead.\n",
      "  warnings.warn(msg, category=FutureWarning)\n",
      "/Users/julietnwagwuume-ezeoke/.julia/conda/3/lib/python3.9/site-packages/sklearn/ensemble/_forest.py:400: FutureWarning: Criterion 'mse' was deprecated in v1.0 and will be removed in version 1.2. Use `criterion='squared_error'` which is equivalent.\n",
      "  warn(\n",
      "/Users/julietnwagwuume-ezeoke/.julia/conda/3/lib/python3.9/site-packages/sklearn/ensemble/_forest.py:416: FutureWarning: `max_features='auto'` has been deprecated in 1.1 and will be removed in 1.3. To keep the past behaviour, explicitly set `max_features=1.0` or remove this parameter as it is also the default value for RandomForestRegressors and ExtraTreesRegressors.\n",
      "  warn(\n",
      "/Users/julietnwagwuume-ezeoke/.julia/conda/3/lib/python3.9/site-packages/sklearn/utils/deprecation.py:103: FutureWarning: Attribute `n_features_` was deprecated in version 1.0 and will be removed in 1.2. Use `n_features_in_` instead.\n",
      "  warnings.warn(msg, category=FutureWarning)\n",
      "/Users/julietnwagwuume-ezeoke/.julia/conda/3/lib/python3.9/site-packages/sklearn/ensemble/_forest.py:400: FutureWarning: Criterion 'mse' was deprecated in v1.0 and will be removed in version 1.2. Use `criterion='squared_error'` which is equivalent.\n",
      "  warn(\n",
      "/Users/julietnwagwuume-ezeoke/.julia/conda/3/lib/python3.9/site-packages/sklearn/ensemble/_forest.py:416: FutureWarning: `max_features='auto'` has been deprecated in 1.1 and will be removed in 1.3. To keep the past behaviour, explicitly set `max_features=1.0` or remove this parameter as it is also the default value for RandomForestRegressors and ExtraTreesRegressors.\n",
      "  warn(\n",
      "/Users/julietnwagwuume-ezeoke/.julia/conda/3/lib/python3.9/site-packages/sklearn/utils/deprecation.py:103: FutureWarning: Attribute `n_features_` was deprecated in version 1.0 and will be removed in 1.2. Use `n_features_in_` instead.\n",
      "  warnings.warn(msg, category=FutureWarning)\n"
     ]
    },
    {
     "data": {
      "text/plain": [
       "┌───────────────────────────┬───────────────┬───────────────────────────────────\n",
       "│\u001b[22m _.measure                 \u001b[0m│\u001b[22m _.measurement \u001b[0m│\u001b[22m _.per_fold                      \u001b[0m ⋯\n",
       "├───────────────────────────┼───────────────┼───────────────────────────────────\n",
       "│ RootMeanSquaredError @409 │ 1.33e-10      │ [1.57e-10, 6.96e-11, 1.26e-10, 1 ⋯\n",
       "└───────────────────────────┴───────────────┴───────────────────────────────────\n",
       "\u001b[36m                                                                1 column omitted\u001b[0m\n",
       "_.per_observation = [missing]\n",
       "_.fitted_params_per_fold = [ … ]\n",
       "_.report_per_fold = [ … ]\n",
       "_.train_test_rows = [ … ]\n"
      ]
     },
     "metadata": {},
     "output_type": "display_data"
    }
   ],
   "source": [
    "name = \"RandomForestRegressor\"\n",
    "println(exist(name, Xtable, y))\n",
    "Model2 = @load RandomForestRegressor pkg=\"ScikitLearn\" verbosity=0\n",
    "quick_eval(Model2, Xtable, y)\n"
   ]
  },
  {
   "cell_type": "markdown",
   "metadata": {},
   "source": [
    "# SVMRegressor"
   ]
  },
  {
   "cell_type": "code",
   "execution_count": 62,
   "metadata": {},
   "outputs": [
    {
     "name": "stdout",
     "output_type": "stream",
     "text": [
      "true\n"
     ]
    }
   ],
   "source": [
    "name = \"SVMRegressor\"\n",
    "println(exist(name, Xtable, y))"
   ]
  },
  {
   "cell_type": "code",
   "execution_count": 63,
   "metadata": {},
   "outputs": [
    {
     "data": {
      "text/plain": [
       "┌───────────────────────────┬───────────────┬───────────────────────────────────\n",
       "│\u001b[22m _.measure                 \u001b[0m│\u001b[22m _.measurement \u001b[0m│\u001b[22m _.per_fold                      \u001b[0m ⋯\n",
       "├───────────────────────────┼───────────────┼───────────────────────────────────\n",
       "│ RootMeanSquaredError @409 │ 1.37e-10      │ [1.05e-10, 9.71e-11, 1.38e-10, 1 ⋯\n",
       "└───────────────────────────┴───────────────┴───────────────────────────────────\n",
       "\u001b[36m                                                                1 column omitted\u001b[0m\n",
       "_.per_observation = [missing]\n",
       "_.fitted_params_per_fold = [ … ]\n",
       "_.report_per_fold = [ … ]\n",
       "_.train_test_rows = [ … ]\n"
      ]
     },
     "metadata": {},
     "output_type": "display_data"
    }
   ],
   "source": [
    "\n",
    "SVMModel = @load SVMRegressor pkg=\"ScikitLearn\" verbosity=0\n",
    "quick_eval(SVMModel , Xtable, y)"
   ]
  },
  {
   "cell_type": "markdown",
   "metadata": {},
   "source": [
    "# GaussianProcessRegressor :)"
   ]
  },
  {
   "cell_type": "code",
   "execution_count": 64,
   "metadata": {},
   "outputs": [
    {
     "name": "stdout",
     "output_type": "stream",
     "text": [
      "true\n"
     ]
    }
   ],
   "source": [
    "name = \"GaussianProcessRegressor\"\n",
    "println(exist(name, Xtable, y))"
   ]
  },
  {
   "cell_type": "code",
   "execution_count": 65,
   "metadata": {},
   "outputs": [
    {
     "data": {
      "text/plain": [
       "┌───────────────────────────┬───────────────┬───────────────────────────────────\n",
       "│\u001b[22m _.measure                 \u001b[0m│\u001b[22m _.measurement \u001b[0m│\u001b[22m _.per_fold                      \u001b[0m ⋯\n",
       "├───────────────────────────┼───────────────┼───────────────────────────────────\n",
       "│ RootMeanSquaredError @409 │ 1.33e-10      │ [1.57e-10, 6.82e-11, 1.26e-10, 1 ⋯\n",
       "└───────────────────────────┴───────────────┴───────────────────────────────────\n",
       "\u001b[36m                                                                1 column omitted\u001b[0m\n",
       "_.per_observation = [missing]\n",
       "_.fitted_params_per_fold = [ … ]\n",
       "_.report_per_fold = [ … ]\n",
       "_.train_test_rows = [ … ]\n"
      ]
     },
     "metadata": {},
     "output_type": "display_data"
    }
   ],
   "source": [
    "GPModel = @load GaussianProcessRegressor pkg=\"ScikitLearn\" verbosity=0\n",
    "gpmodel = GPModel()\n",
    "evaluate(gpmodel, Xtable, y, resampling=CV(nfolds=5), measure=rmse, verbosity=0)"
   ]
  },
  {
   "cell_type": "code",
   "execution_count": 66,
   "metadata": {},
   "outputs": [
    {
     "data": {
      "text/plain": [
       "GaussianProcessRegressor(\n",
       "    kernel = nothing,\n",
       "    alpha = 1.0e-10,\n",
       "    optimizer = \"fmin_l_bfgs_b\",\n",
       "    n_restarts_optimizer = 0,\n",
       "    normalize_y = false,\n",
       "    copy_X_train = true,\n",
       "    random_state = nothing)\u001b[34m @240\u001b[39m"
      ]
     },
     "metadata": {},
     "output_type": "display_data"
    }
   ],
   "source": [
    "gpmodel"
   ]
  },
  {
   "cell_type": "code",
   "execution_count": 67,
   "metadata": {},
   "outputs": [
    {
     "data": {
      "text/plain": [
       "\u001b[34mMachine{GaussianProcessRegressor,…} @603\u001b[39m trained 0 times; caches data\n",
       "  args: \n",
       "    1:\t\u001b[34mSource @266\u001b[39m ⏎ `Table{AbstractVector{Continuous}}`\n",
       "    2:\t\u001b[34mSource @350\u001b[39m ⏎ `AbstractVector{Continuous}`\n"
      ]
     },
     "metadata": {},
     "output_type": "display_data"
    }
   ],
   "source": [
    "mach = machine(gpmodel, Xtable, y)\n"
   ]
  },
  {
   "cell_type": "code",
   "execution_count": 68,
   "metadata": {},
   "outputs": [
    {
     "name": "stderr",
     "output_type": "stream",
     "text": [
      "┌ Info: Training \u001b[34mMachine{GaussianProcessRegressor,…} @603\u001b[39m.\n",
      "└ @ MLJBase /Users/julietnwagwuume-ezeoke/.julia/packages/MLJBase/rN59G/src/machines.jl:354\n"
     ]
    },
    {
     "data": {
      "text/plain": [
       "\u001b[34mMachine{GaussianProcessRegressor,…} @603\u001b[39m trained 1 time; caches data\n",
       "  args: \n",
       "    1:\t\u001b[34mSource @266\u001b[39m ⏎ `Table{AbstractVector{Continuous}}`\n",
       "    2:\t\u001b[34mSource @350\u001b[39m ⏎ `AbstractVector{Continuous}`\n"
      ]
     },
     "metadata": {},
     "output_type": "display_data"
    }
   ],
   "source": [
    "fit!(mach) # TODO some train and test?"
   ]
  },
  {
   "cell_type": "code",
   "execution_count": 69,
   "metadata": {},
   "outputs": [
    {
     "ename": "UndefVarError",
     "evalue": "UndefVarError: predict not defined",
     "output_type": "error",
     "traceback": [
      "UndefVarError: predict not defined\n",
      "\n",
      "Stacktrace:\n",
      "  [1] top-level scope\n",
      "    @ ~/My Drive/CS361_Optim/_fp_cs361/notebooks/mlj.ipynb:1\n",
      "  [2] eval\n",
      "    @ ./boot.jl:373 [inlined]\n",
      "  [3] include_string(mapexpr::typeof(REPL.softscope), mod::Module, code::String, filename::String)\n",
      "    @ Base ./loading.jl:1196\n",
      "  [4] #invokelatest#2\n",
      "    @ ./essentials.jl:716 [inlined]\n",
      "  [5] invokelatest\n",
      "    @ ./essentials.jl:714 [inlined]\n",
      "  [6] (::VSCodeServer.var\"#164#165\"{VSCodeServer.NotebookRunCellArguments, String})()\n",
      "    @ VSCodeServer ~/.vscode/extensions/julialang.language-julia-1.6.17/scripts/packages/VSCodeServer/src/serve_notebook.jl:19\n",
      "  [7] withpath(f::VSCodeServer.var\"#164#165\"{VSCodeServer.NotebookRunCellArguments, String}, path::String)\n",
      "    @ VSCodeServer ~/.vscode/extensions/julialang.language-julia-1.6.17/scripts/packages/VSCodeServer/src/repl.jl:184\n",
      "  [8] notebook_runcell_request(conn::VSCodeServer.JSONRPC.JSONRPCEndpoint{Base.PipeEndpoint, Base.PipeEndpoint}, params::VSCodeServer.NotebookRunCellArguments)\n",
      "    @ VSCodeServer ~/.vscode/extensions/julialang.language-julia-1.6.17/scripts/packages/VSCodeServer/src/serve_notebook.jl:13\n",
      "  [9] dispatch_msg(x::VSCodeServer.JSONRPC.JSONRPCEndpoint{Base.PipeEndpoint, Base.PipeEndpoint}, dispatcher::VSCodeServer.JSONRPC.MsgDispatcher, msg::Dict{String, Any})\n",
      "    @ VSCodeServer.JSONRPC ~/.vscode/extensions/julialang.language-julia-1.6.17/scripts/packages/JSONRPC/src/typed.jl:67\n",
      " [10] serve_notebook(pipename::String, outputchannel_logger::Base.CoreLogging.SimpleLogger; crashreporting_pipename::String)\n",
      "    @ VSCodeServer ~/.vscode/extensions/julialang.language-julia-1.6.17/scripts/packages/VSCodeServer/src/serve_notebook.jl:136\n",
      " [11] top-level scope\n",
      "    @ ~/.vscode/extensions/julialang.language-julia-1.6.17/scripts/notebook/notebook.jl:32\n",
      " [12] include(mod::Module, _path::String)\n",
      "    @ Base ./Base.jl:418\n",
      " [13] exec_options(opts::Base.JLOptions)\n",
      "    @ Base ./client.jl:292\n",
      " [14] _start()\n",
      "    @ Base ./client.jl:495"
     ]
    }
   ],
   "source": [
    "yhat = predict(mach, Xtable)"
   ]
  },
  {
   "cell_type": "code",
   "execution_count": 70,
   "metadata": {},
   "outputs": [
    {
     "data": {
      "text/plain": [
       "┌───────────────────────────┬───────────────┬───────────────────────────────────\n",
       "│\u001b[22m _.measure                 \u001b[0m│\u001b[22m _.measurement \u001b[0m│\u001b[22m _.per_fold                      \u001b[0m ⋯\n",
       "├───────────────────────────┼───────────────┼───────────────────────────────────\n",
       "│ RootMeanSquaredError @409 │ 1.33e-10      │ [1.57e-10, 6.82e-11, 1.26e-10, 1 ⋯\n",
       "└───────────────────────────┴───────────────┴───────────────────────────────────\n",
       "\u001b[36m                                                                1 column omitted\u001b[0m\n",
       "_.per_observation = [missing]\n",
       "_.fitted_params_per_fold = [ … ]\n",
       "_.report_per_fold = [ … ]\n",
       "_.train_test_rows = [ … ]\n"
      ]
     },
     "metadata": {},
     "output_type": "display_data"
    }
   ],
   "source": [
    "evaluate!(mach,resampling=CV(nfolds=5), measure=rmse, verbosity=0)"
   ]
  },
  {
   "cell_type": "markdown",
   "metadata": {},
   "source": [
    "# MultitargetKNNRegressor"
   ]
  },
  {
   "cell_type": "code",
   "execution_count": 71,
   "metadata": {},
   "outputs": [
    {
     "data": {
      "text/plain": [
       "Table{_s46} where _s46<:(AbstractVector{_s9} where _s9<:Continuous)"
      ]
     },
     "metadata": {},
     "output_type": "display_data"
    }
   ],
   "source": [
    "models(\"MultitargetKNNRegressor\")[1].target_scitype"
   ]
  },
  {
   "cell_type": "code",
   "execution_count": 72,
   "metadata": {},
   "outputs": [
    {
     "name": "stdout",
     "output_type": "stream",
     "text": [
      "Table{AbstractVector{Continuous}}\n"
     ]
    }
   ],
   "source": [
    "Ytable = MLJ.table(Y')\n",
    "println(scitype(Ytable))"
   ]
  },
  {
   "cell_type": "code",
   "execution_count": 73,
   "metadata": {},
   "outputs": [],
   "source": [
    "models(matching(Xtable,Ytable))[6];"
   ]
  },
  {
   "cell_type": "code",
   "execution_count": 74,
   "metadata": {},
   "outputs": [
    {
     "name": "stdout",
     "output_type": "stream",
     "text": [
      "import NearestNeighborModels ✔\n"
     ]
    },
    {
     "name": "stderr",
     "output_type": "stream",
     "text": [
      "┌ Info: For silent loading, specify `verbosity=0`. \n",
      "└ @ Main /Users/julietnwagwuume-ezeoke/.julia/packages/MLJModels/5itei/src/loading.jl:168\n"
     ]
    },
    {
     "data": {
      "text/plain": [
       "NearestNeighborModels.MultitargetKNNRegressor"
      ]
     },
     "metadata": {},
     "output_type": "display_data"
    }
   ],
   "source": [
    "MultiKNN = @load MultitargetKNNRegressor pkg=\"NearestNeighborModels\""
   ]
  },
  {
   "cell_type": "code",
   "execution_count": 75,
   "metadata": {},
   "outputs": [
    {
     "data": {
      "text/plain": [
       "MultitargetKNNRegressor(\n",
       "    K = 5,\n",
       "    algorithm = :kdtree,\n",
       "    metric = Distances.Euclidean(0.0),\n",
       "    leafsize = 10,\n",
       "    reorder = true,\n",
       "    weights = NearestNeighborModels.Uniform())\u001b[34m @107\u001b[39m"
      ]
     },
     "metadata": {},
     "output_type": "display_data"
    }
   ],
   "source": [
    "multiknn = MultiKNN()\n",
    "\n"
   ]
  },
  {
   "cell_type": "code",
   "execution_count": 76,
   "metadata": {},
   "outputs": [
    {
     "ename": "ArgumentError",
     "evalue": "ArgumentError: \nscitype of target = Table{AbstractVector{Continuous}} but target_scitype(\u001b[34mLPLoss{Int64} @093\u001b[39m) = Union{AbstractVector{Continuous}, AbstractVector{Count}}.\nTo override measure checks, set check_measure=false. ",
     "output_type": "error",
     "traceback": [
      "ArgumentError: \n",
      "scitype of target = Table{AbstractVector{Continuous}} but target_scitype(\u001b[34mLPLoss{Int64} @093\u001b[39m) = Union{AbstractVector{Continuous}, AbstractVector{Count}}.\n",
      "To override measure checks, set check_measure=false. \n",
      "\n",
      "Stacktrace:\n",
      "  [1] _check_measure(measure::LPLoss{Int64}, model::NearestNeighborModels.MultitargetKNNRegressor, y::Tables.MatrixTable{LinearAlgebra.Adjoint{Float64, Matrix{Float64}}}, operation::Function)\n",
      "    @ MLJBase ~/.julia/packages/MLJBase/rN59G/src/resampling.jl:460\n",
      "  [2] #281\n",
      "    @ ~/.julia/packages/MLJBase/rN59G/src/resampling.jl:494 [inlined]\n",
      "  [3] _all(f::MLJBase.var\"#281#282\"{NearestNeighborModels.MultitargetKNNRegressor, Tables.MatrixTable{LinearAlgebra.Adjoint{Float64, Matrix{Float64}}}, typeof(MLJModelInterface.predict)}, itr::Vector{LPLoss{Int64}}, #unused#::Colon)\n",
      "    @ Base ./reduce.jl:1157\n",
      "  [4] all(f::Function, a::Vector{LPLoss{Int64}}; dims::Function)\n",
      "    @ Base ./reducedim.jl:902\n",
      "  [5] all\n",
      "    @ ./reducedim.jl:902 [inlined]\n",
      "  [6] _check_measures\n",
      "    @ ~/.julia/packages/MLJBase/rN59G/src/resampling.jl:493 [inlined]\n",
      "  [7] _process_weights_measures(weights::Nothing, class_weights::Nothing, measures::LPLoss{Int64}, mach::Machine{NearestNeighborModels.MultitargetKNNRegressor, true}, operation::Function, verbosity::Int64, check_measure::Bool)\n",
      "    @ MLJBase ~/.julia/packages/MLJBase/rN59G/src/resampling.jl:555\n",
      "  [8] evaluate!(mach::Machine{NearestNeighborModels.MultitargetKNNRegressor, true}; resampling::CV, measures::Nothing, measure::LPLoss{Int64}, weights::Nothing, class_weights::Nothing, operation::Function, acceleration::CPU1{Nothing}, rows::Nothing, repeats::Int64, force::Bool, check_measure::Bool, verbosity::Int64)\n",
      "    @ MLJBase ~/.julia/packages/MLJBase/rN59G/src/resampling.jl:763\n",
      "  [9] evaluate(::NearestNeighborModels.MultitargetKNNRegressor, ::Tables.MatrixTable{Matrix{Float64}}, ::Vararg{Any}; cache::Bool, kwargs::Base.Pairs{Symbol, Any, Tuple{Symbol, Symbol, Symbol}, NamedTuple{(:resampling, :measure, :verbosity), Tuple{CV, LPLoss{Int64}, Int64}}})\n",
      "    @ MLJBase ~/.julia/packages/MLJBase/rN59G/src/resampling.jl:791\n",
      " [10] top-level scope\n",
      "    @ ~/My Drive/CS361_Optim/_fp_cs361/notebooks/mlj.ipynb:1\n",
      " [11] eval\n",
      "    @ ./boot.jl:373 [inlined]\n",
      " [12] include_string(mapexpr::typeof(REPL.softscope), mod::Module, code::String, filename::String)\n",
      "    @ Base ./loading.jl:1196\n",
      " [13] #invokelatest#2\n",
      "    @ ./essentials.jl:716 [inlined]\n",
      " [14] invokelatest\n",
      "    @ ./essentials.jl:714 [inlined]\n",
      " [15] (::VSCodeServer.var\"#164#165\"{VSCodeServer.NotebookRunCellArguments, String})()\n",
      "    @ VSCodeServer ~/.vscode/extensions/julialang.language-julia-1.6.17/scripts/packages/VSCodeServer/src/serve_notebook.jl:19\n",
      " [16] withpath(f::VSCodeServer.var\"#164#165\"{VSCodeServer.NotebookRunCellArguments, String}, path::String)\n",
      "    @ VSCodeServer ~/.vscode/extensions/julialang.language-julia-1.6.17/scripts/packages/VSCodeServer/src/repl.jl:184\n",
      " [17] notebook_runcell_request(conn::VSCodeServer.JSONRPC.JSONRPCEndpoint{Base.PipeEndpoint, Base.PipeEndpoint}, params::VSCodeServer.NotebookRunCellArguments)\n",
      "    @ VSCodeServer ~/.vscode/extensions/julialang.language-julia-1.6.17/scripts/packages/VSCodeServer/src/serve_notebook.jl:13\n",
      " [18] dispatch_msg(x::VSCodeServer.JSONRPC.JSONRPCEndpoint{Base.PipeEndpoint, Base.PipeEndpoint}, dispatcher::VSCodeServer.JSONRPC.MsgDispatcher, msg::Dict{String, Any})\n",
      "    @ VSCodeServer.JSONRPC ~/.vscode/extensions/julialang.language-julia-1.6.17/scripts/packages/JSONRPC/src/typed.jl:67\n",
      " [19] serve_notebook(pipename::String, outputchannel_logger::Base.CoreLogging.SimpleLogger; crashreporting_pipename::String)\n",
      "    @ VSCodeServer ~/.vscode/extensions/julialang.language-julia-1.6.17/scripts/packages/VSCodeServer/src/serve_notebook.jl:136\n",
      " [20] top-level scope\n",
      "    @ ~/.vscode/extensions/julialang.language-julia-1.6.17/scripts/notebook/notebook.jl:32\n",
      " [21] include(mod::Module, _path::String)\n",
      "    @ Base ./Base.jl:418\n",
      " [22] exec_options(opts::Base.JLOptions)\n",
      "    @ Base ./client.jl:292\n",
      " [23] _start()\n",
      "    @ Base ./client.jl:495"
     ]
    }
   ],
   "source": [
    "evaluate(multiknn, Xtable, Ytable, resampling=CV(nfolds=5), measure=l2, verbosity=0)"
   ]
  },
  {
   "cell_type": "code",
   "execution_count": 77,
   "metadata": {},
   "outputs": [
    {
     "ename": "ArgumentError",
     "evalue": "ArgumentError: \nscitype of target = Table{AbstractVector{Continuous}} but target_scitype(RootMeanSquaredError @409) = Union{AbstractVector{Continuous}, AbstractVector{Count}}.\nTo override measure checks, set check_measure=false. ",
     "output_type": "error",
     "traceback": [
      "ArgumentError: \n",
      "scitype of target = Table{AbstractVector{Continuous}} but target_scitype(RootMeanSquaredError @409) = Union{AbstractVector{Continuous}, AbstractVector{Count}}.\n",
      "To override measure checks, set check_measure=false. \n",
      "\n",
      "Stacktrace:\n",
      "  [1] _check_measure(measure::RootMeanSquaredError, model::NearestNeighborModels.MultitargetKNNRegressor, y::Tables.MatrixTable{LinearAlgebra.Adjoint{Float64, Matrix{Float64}}}, operation::Function)\n",
      "    @ MLJBase ~/.julia/packages/MLJBase/rN59G/src/resampling.jl:460\n",
      "  [2] #281\n",
      "    @ ~/.julia/packages/MLJBase/rN59G/src/resampling.jl:494 [inlined]\n",
      "  [3] _all(f::MLJBase.var\"#281#282\"{NearestNeighborModels.MultitargetKNNRegressor, Tables.MatrixTable{LinearAlgebra.Adjoint{Float64, Matrix{Float64}}}, typeof(MLJModelInterface.predict)}, itr::Vector{RootMeanSquaredError}, #unused#::Colon)\n",
      "    @ Base ./reduce.jl:1157\n",
      "  [4] all(f::Function, a::Vector{RootMeanSquaredError}; dims::Function)\n",
      "    @ Base ./reducedim.jl:902\n",
      "  [5] all\n",
      "    @ ./reducedim.jl:902 [inlined]\n",
      "  [6] _check_measures\n",
      "    @ ~/.julia/packages/MLJBase/rN59G/src/resampling.jl:493 [inlined]\n",
      "  [7] _process_weights_measures(weights::Nothing, class_weights::Nothing, measures::RootMeanSquaredError, mach::Machine{NearestNeighborModels.MultitargetKNNRegressor, true}, operation::Function, verbosity::Int64, check_measure::Bool)\n",
      "    @ MLJBase ~/.julia/packages/MLJBase/rN59G/src/resampling.jl:555\n",
      "  [8] evaluate!(mach::Machine{NearestNeighborModels.MultitargetKNNRegressor, true}; resampling::CV, measures::Nothing, measure::RootMeanSquaredError, weights::Nothing, class_weights::Nothing, operation::Function, acceleration::CPU1{Nothing}, rows::Nothing, repeats::Int64, force::Bool, check_measure::Bool, verbosity::Int64)\n",
      "    @ MLJBase ~/.julia/packages/MLJBase/rN59G/src/resampling.jl:763\n",
      "  [9] evaluate(::NearestNeighborModels.MultitargetKNNRegressor, ::Tables.MatrixTable{Matrix{Float64}}, ::Vararg{Any}; cache::Bool, kwargs::Base.Pairs{Symbol, Any, Tuple{Symbol, Symbol, Symbol}, NamedTuple{(:resampling, :measure, :verbosity), Tuple{CV, RootMeanSquaredError, Int64}}})\n",
      "    @ MLJBase ~/.julia/packages/MLJBase/rN59G/src/resampling.jl:791\n",
      " [10] quick_eval(Model::Type{NearestNeighborModels.MultitargetKNNRegressor}, X::Tables.MatrixTable{Matrix{Float64}}, y::Tables.MatrixTable{LinearAlgebra.Adjoint{Float64, Matrix{Float64}}})\n",
      "    @ Main ~/My Drive/CS361_Optim/_fp_cs361/notebooks/mlj.ipynb:16\n",
      " [11] top-level scope\n",
      "    @ ~/My Drive/CS361_Optim/_fp_cs361/notebooks/mlj.ipynb:1\n",
      " [12] eval\n",
      "    @ ./boot.jl:373 [inlined]\n",
      " [13] include_string(mapexpr::typeof(REPL.softscope), mod::Module, code::String, filename::String)\n",
      "    @ Base ./loading.jl:1196\n",
      " [14] #invokelatest#2\n",
      "    @ ./essentials.jl:716 [inlined]\n",
      " [15] invokelatest\n",
      "    @ ./essentials.jl:714 [inlined]\n",
      " [16] (::VSCodeServer.var\"#164#165\"{VSCodeServer.NotebookRunCellArguments, String})()\n",
      "    @ VSCodeServer ~/.vscode/extensions/julialang.language-julia-1.6.17/scripts/packages/VSCodeServer/src/serve_notebook.jl:19\n",
      " [17] withpath(f::VSCodeServer.var\"#164#165\"{VSCodeServer.NotebookRunCellArguments, String}, path::String)\n",
      "    @ VSCodeServer ~/.vscode/extensions/julialang.language-julia-1.6.17/scripts/packages/VSCodeServer/src/repl.jl:184\n",
      " [18] notebook_runcell_request(conn::VSCodeServer.JSONRPC.JSONRPCEndpoint{Base.PipeEndpoint, Base.PipeEndpoint}, params::VSCodeServer.NotebookRunCellArguments)\n",
      "    @ VSCodeServer ~/.vscode/extensions/julialang.language-julia-1.6.17/scripts/packages/VSCodeServer/src/serve_notebook.jl:13\n",
      " [19] dispatch_msg(x::VSCodeServer.JSONRPC.JSONRPCEndpoint{Base.PipeEndpoint, Base.PipeEndpoint}, dispatcher::VSCodeServer.JSONRPC.MsgDispatcher, msg::Dict{String, Any})\n",
      "    @ VSCodeServer.JSONRPC ~/.vscode/extensions/julialang.language-julia-1.6.17/scripts/packages/JSONRPC/src/typed.jl:67\n",
      " [20] serve_notebook(pipename::String, outputchannel_logger::Base.CoreLogging.SimpleLogger; crashreporting_pipename::String)\n",
      "    @ VSCodeServer ~/.vscode/extensions/julialang.language-julia-1.6.17/scripts/packages/VSCodeServer/src/serve_notebook.jl:136\n",
      " [21] top-level scope\n",
      "    @ ~/.vscode/extensions/julialang.language-julia-1.6.17/scripts/notebook/notebook.jl:32\n",
      " [22] include(mod::Module, _path::String)\n",
      "    @ Base ./Base.jl:418\n",
      " [23] exec_options(opts::Base.JLOptions)\n",
      "    @ Base ./client.jl:292\n",
      " [24] _start()\n",
      "    @ Base ./client.jl:495"
     ]
    }
   ],
   "source": [
    "quick_eval(MultiKNN , Xtable, Ytable)"
   ]
  },
  {
   "cell_type": "code",
   "execution_count": 78,
   "metadata": {},
   "outputs": [
    {
     "data": {
      "text/plain": [
       "filter (generic function with 1 method)"
      ]
     },
     "metadata": {},
     "output_type": "display_data"
    }
   ],
   "source": [
    "filter(m) = m.target_scitype == Table{AbstractVector{Continuous}}"
   ]
  },
  {
   "cell_type": "code",
   "execution_count": 79,
   "metadata": {},
   "outputs": [
    {
     "data": {
      "text/plain": [
       "NamedTuple{(:name, :instances, :human_name, :target_scitype, :supports_weights, :supports_class_weights, :prediction_type, :orientation, :reports_each_observation, :aggregation, :is_feature_dependent, :docstring, :distribution_type)}[]"
      ]
     },
     "metadata": {},
     "output_type": "display_data"
    }
   ],
   "source": [
    "measures(filter)"
   ]
  }
 ],
 "metadata": {
  "kernelspec": {
   "display_name": "Julia 1.7.2",
   "language": "julia",
   "name": "julia-1.7"
  },
  "language_info": {
   "file_extension": ".jl",
   "mimetype": "application/julia",
   "name": "julia",
   "version": "1.7.2"
  },
  "orig_nbformat": 4
 },
 "nbformat": 4,
 "nbformat_minor": 2
}
