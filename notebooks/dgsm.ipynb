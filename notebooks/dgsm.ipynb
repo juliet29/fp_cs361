{
 "cells": [
  {
   "cell_type": "code",
   "execution_count": 96,
   "metadata": {},
   "outputs": [],
   "source": [
    "using DataFrames\n",
    "using CSV\n",
    "using StatsBase\n",
    "# using Plots"
   ]
  },
  {
   "cell_type": "markdown",
   "metadata": {},
   "source": [
    "# Evaluations"
   ]
  },
  {
   "cell_type": "code",
   "execution_count": 97,
   "metadata": {},
   "outputs": [
    {
     "data": {
      "text/html": [
       "<div class=\"data-frame\"><p>12 rows × 1 columns</p><table class=\"data-frame\"><thead><tr><th></th><th>0</th></tr><tr><th></th><th title=\"Float64\">Float64</th></tr></thead><tbody><tr><th>1</th><td>4.96949e10</td></tr><tr><th>2</th><td>4.85494e10</td></tr><tr><th>3</th><td>4.47668e10</td></tr><tr><th>4</th><td>4.49106e10</td></tr><tr><th>5</th><td>5.42743e10</td></tr><tr><th>6</th><td>4.16979e10</td></tr><tr><th>7</th><td>4.09721e10</td></tr><tr><th>8</th><td>4.14693e10</td></tr><tr><th>9</th><td>4.1515e10</td></tr><tr><th>10</th><td>5.3373e10</td></tr><tr><th>11</th><td>5.01572e10</td></tr><tr><th>12</th><td>4.15215e10</td></tr></tbody></table></div>"
      ],
      "text/latex": [
       "\\begin{tabular}{r|c}\n",
       "\t& 0\\\\\n",
       "\t\\hline\n",
       "\t& Float64\\\\\n",
       "\t\\hline\n",
       "\t1 & 4.96949e10 \\\\\n",
       "\t2 & 4.85494e10 \\\\\n",
       "\t3 & 4.47668e10 \\\\\n",
       "\t4 & 4.49106e10 \\\\\n",
       "\t5 & 5.42743e10 \\\\\n",
       "\t6 & 4.16979e10 \\\\\n",
       "\t7 & 4.09721e10 \\\\\n",
       "\t8 & 4.14693e10 \\\\\n",
       "\t9 & 4.1515e10 \\\\\n",
       "\t10 & 5.3373e10 \\\\\n",
       "\t11 & 5.01572e10 \\\\\n",
       "\t12 & 4.15215e10 \\\\\n",
       "\\end{tabular}\n"
      ],
      "text/plain": [
       "\u001b[1m12×1 DataFrame\u001b[0m\n",
       "\u001b[1m Row \u001b[0m│\u001b[1m 0          \u001b[0m\n",
       "\u001b[1m     \u001b[0m│\u001b[90m Float64    \u001b[0m\n",
       "─────┼────────────\n",
       "   1 │ 4.96949e10\n",
       "   2 │ 4.85494e10\n",
       "   3 │ 4.47668e10\n",
       "   4 │ 4.49106e10\n",
       "   5 │ 5.42743e10\n",
       "   6 │ 4.16979e10\n",
       "   7 │ 4.09721e10\n",
       "   8 │ 4.14693e10\n",
       "   9 │ 4.1515e10\n",
       "  10 │ 5.3373e10\n",
       "  11 │ 5.01572e10\n",
       "  12 │ 4.15215e10"
      ]
     },
     "metadata": {},
     "output_type": "display_data"
    }
   ],
   "source": [
    "sim_data_path = \"/Users/julietnwagwuume-ezeoke/My Drive/CS361_Optim/_fp_cs361/sim_data/0525_batch_00_01.csv\" # initial data set, when windows not working \n",
    "# sim_data_path  = \"/Users/julietnwagwuume-ezeoke/My Drive/CS361_Optim/_fp_cs361/sim_data/06_07_batch_00_00_DGSM.csv\"\n",
    "sim_data = DataFrame(CSV.File(sim_data_path; drop=[1]))\n",
    "\n",
    "hist_data_path = \"/Users/julietnwagwuume-ezeoke/My Drive/CS361_Optim/_fp_cs361/hist_data/elect.csv\"\n",
    "hist_data = DataFrame(CSV.File(hist_data_path; drop=[1]))"
   ]
  },
  {
   "cell_type": "code",
   "execution_count": 98,
   "metadata": {},
   "outputs": [
    {
     "data": {
      "text/html": [
       "<div class=\"data-frame\"><p>12 rows × 378 columns (omitted printing of 370 columns)</p><table class=\"data-frame\"><thead><tr><th></th><th>x1</th><th>x2</th><th>x3</th><th>x4</th><th>x5</th><th>x6</th><th>x7</th><th>x8</th></tr><tr><th></th><th title=\"Float64\">Float64</th><th title=\"Float64\">Float64</th><th title=\"Float64\">Float64</th><th title=\"Float64\">Float64</th><th title=\"Float64\">Float64</th><th title=\"Float64\">Float64</th><th title=\"Float64\">Float64</th><th title=\"Float64\">Float64</th></tr></thead><tbody><tr><th>1</th><td>1.71028e9</td><td>2.82415e9</td><td>4.0626e9</td><td>5.4256e9</td><td>6.91317e9</td><td>8.52528e9</td><td>1.0262e10</td><td>1.71028e9</td></tr><tr><th>2</th><td>1.69693e9</td><td>2.78124e9</td><td>3.97385e9</td><td>5.27477e9</td><td>6.68401e9</td><td>8.20156e9</td><td>9.82742e9</td><td>1.69693e9</td></tr><tr><th>3</th><td>2.10339e9</td><td>3.41931e9</td><td>4.84898e9</td><td>6.39236e9</td><td>8.04947e9</td><td>9.82031e9</td><td>1.17049e10</td><td>2.10339e9</td></tr><tr><th>4</th><td>1.70583e9</td><td>2.80985e9</td><td>4.03302e9</td><td>5.37533e9</td><td>6.83678e9</td><td>8.41738e9</td><td>1.01171e10</td><td>1.70583e9</td></tr><tr><th>5</th><td>1.71028e9</td><td>2.82415e9</td><td>4.0626e9</td><td>5.4256e9</td><td>6.91317e9</td><td>8.52528e9</td><td>1.0262e10</td><td>1.71028e9</td></tr><tr><th>6</th><td>2.011e9</td><td>3.12534e9</td><td>4.24803e9</td><td>5.38289e9</td><td>6.53377e9</td><td>7.70448e9</td><td>8.89887e9</td><td>2.011e9</td></tr><tr><th>7</th><td>1.60914e9</td><td>2.50255e9</td><td>3.40554e9</td><td>4.32255e9</td><td>5.25796e9</td><td>6.21618e9</td><td>7.20163e9</td><td>1.60914e9</td></tr><tr><th>8</th><td>1.8101e9</td><td>2.8141e9</td><td>3.8273e9</td><td>4.85388e9</td><td>5.89808e9</td><td>6.96409e9</td><td>8.05615e9</td><td>1.8101e9</td></tr><tr><th>9</th><td>1.81005e9</td><td>2.81378e9</td><td>3.82628e9</td><td>4.85156e9</td><td>5.89365e9</td><td>6.95658e9</td><td>8.04436e9</td><td>1.81005e9</td></tr><tr><th>10</th><td>1.70588e9</td><td>2.81017e9</td><td>4.03403e9</td><td>5.37765e9</td><td>6.8412e9</td><td>8.42489e9</td><td>1.01289e10</td><td>1.70588e9</td></tr><tr><th>11</th><td>1.90238e9</td><td>3.10743e9</td><td>4.4262e9</td><td>5.85871e9</td><td>7.40493e9</td><td>9.06489e9</td><td>1.08386e10</td><td>1.90238e9</td></tr><tr><th>12</th><td>1.90683e9</td><td>3.12173e9</td><td>4.45579e9</td><td>5.90898e9</td><td>7.48132e9</td><td>9.1728e9</td><td>1.09834e10</td><td>1.90683e9</td></tr></tbody></table></div>"
      ],
      "text/latex": [
       "\\begin{tabular}{r|ccccccccc}\n",
       "\t& x1 & x2 & x3 & x4 & x5 & x6 & x7 & x8 & \\\\\n",
       "\t\\hline\n",
       "\t& Float64 & Float64 & Float64 & Float64 & Float64 & Float64 & Float64 & Float64 & \\\\\n",
       "\t\\hline\n",
       "\t1 & 1.71028e9 & 2.82415e9 & 4.0626e9 & 5.4256e9 & 6.91317e9 & 8.52528e9 & 1.0262e10 & 1.71028e9 & $\\dots$ \\\\\n",
       "\t2 & 1.69693e9 & 2.78124e9 & 3.97385e9 & 5.27477e9 & 6.68401e9 & 8.20156e9 & 9.82742e9 & 1.69693e9 & $\\dots$ \\\\\n",
       "\t3 & 2.10339e9 & 3.41931e9 & 4.84898e9 & 6.39236e9 & 8.04947e9 & 9.82031e9 & 1.17049e10 & 2.10339e9 & $\\dots$ \\\\\n",
       "\t4 & 1.70583e9 & 2.80985e9 & 4.03302e9 & 5.37533e9 & 6.83678e9 & 8.41738e9 & 1.01171e10 & 1.70583e9 & $\\dots$ \\\\\n",
       "\t5 & 1.71028e9 & 2.82415e9 & 4.0626e9 & 5.4256e9 & 6.91317e9 & 8.52528e9 & 1.0262e10 & 1.71028e9 & $\\dots$ \\\\\n",
       "\t6 & 2.011e9 & 3.12534e9 & 4.24803e9 & 5.38289e9 & 6.53377e9 & 7.70448e9 & 8.89887e9 & 2.011e9 & $\\dots$ \\\\\n",
       "\t7 & 1.60914e9 & 2.50255e9 & 3.40554e9 & 4.32255e9 & 5.25796e9 & 6.21618e9 & 7.20163e9 & 1.60914e9 & $\\dots$ \\\\\n",
       "\t8 & 1.8101e9 & 2.8141e9 & 3.8273e9 & 4.85388e9 & 5.89808e9 & 6.96409e9 & 8.05615e9 & 1.8101e9 & $\\dots$ \\\\\n",
       "\t9 & 1.81005e9 & 2.81378e9 & 3.82628e9 & 4.85156e9 & 5.89365e9 & 6.95658e9 & 8.04436e9 & 1.81005e9 & $\\dots$ \\\\\n",
       "\t10 & 1.70588e9 & 2.81017e9 & 4.03403e9 & 5.37765e9 & 6.8412e9 & 8.42489e9 & 1.01289e10 & 1.70588e9 & $\\dots$ \\\\\n",
       "\t11 & 1.90238e9 & 3.10743e9 & 4.4262e9 & 5.85871e9 & 7.40493e9 & 9.06489e9 & 1.08386e10 & 1.90238e9 & $\\dots$ \\\\\n",
       "\t12 & 1.90683e9 & 3.12173e9 & 4.45579e9 & 5.90898e9 & 7.48132e9 & 9.1728e9 & 1.09834e10 & 1.90683e9 & $\\dots$ \\\\\n",
       "\\end{tabular}\n"
      ],
      "text/plain": [
       "\u001b[1m12×378 DataFrame\u001b[0m\n",
       "\u001b[1m Row \u001b[0m│\u001b[1m x1        \u001b[0m\u001b[1m x2        \u001b[0m\u001b[1m x3        \u001b[0m\u001b[1m x4        \u001b[0m\u001b[1m x5        \u001b[0m\u001b[1m x6        \u001b[0m\u001b[1m x7   \u001b[0m ⋯\n",
       "\u001b[1m     \u001b[0m│\u001b[90m Float64   \u001b[0m\u001b[90m Float64   \u001b[0m\u001b[90m Float64   \u001b[0m\u001b[90m Float64   \u001b[0m\u001b[90m Float64   \u001b[0m\u001b[90m Float64   \u001b[0m\u001b[90m Float\u001b[0m ⋯\n",
       "─────┼──────────────────────────────────────────────────────────────────────────\n",
       "   1 │ 1.71028e9  2.82415e9  4.0626e9   5.4256e9   6.91317e9  8.52528e9  1.026 ⋯\n",
       "   2 │ 1.69693e9  2.78124e9  3.97385e9  5.27477e9  6.68401e9  8.20156e9  9.827\n",
       "   3 │ 2.10339e9  3.41931e9  4.84898e9  6.39236e9  8.04947e9  9.82031e9  1.170\n",
       "   4 │ 1.70583e9  2.80985e9  4.03302e9  5.37533e9  6.83678e9  8.41738e9  1.011\n",
       "   5 │ 1.71028e9  2.82415e9  4.0626e9   5.4256e9   6.91317e9  8.52528e9  1.026 ⋯\n",
       "   6 │ 2.011e9    3.12534e9  4.24803e9  5.38289e9  6.53377e9  7.70448e9  8.898\n",
       "   7 │ 1.60914e9  2.50255e9  3.40554e9  4.32255e9  5.25796e9  6.21618e9  7.201\n",
       "   8 │ 1.8101e9   2.8141e9   3.8273e9   4.85388e9  5.89808e9  6.96409e9  8.056\n",
       "   9 │ 1.81005e9  2.81378e9  3.82628e9  4.85156e9  5.89365e9  6.95658e9  8.044 ⋯\n",
       "  10 │ 1.70588e9  2.81017e9  4.03403e9  5.37765e9  6.8412e9   8.42489e9  1.012\n",
       "  11 │ 1.90238e9  3.10743e9  4.4262e9   5.85871e9  7.40493e9  9.06489e9  1.083\n",
       "  12 │ 1.90683e9  3.12173e9  4.45579e9  5.90898e9  7.48132e9  9.1728e9   1.098\n",
       "\u001b[36m                                                             372 columns omitted\u001b[0m"
      ]
     },
     "metadata": {},
     "output_type": "display_data"
    }
   ],
   "source": [
    "sim_data"
   ]
  },
  {
   "cell_type": "markdown",
   "metadata": {},
   "source": [
    "## Calculate RMSD"
   ]
  },
  {
   "cell_type": "code",
   "execution_count": 99,
   "metadata": {},
   "outputs": [
    {
     "data": {
      "text/plain": [
       "12×1 Matrix{Float64}:\n",
       " 496.9488797635679\n",
       " 485.49410922441626\n",
       " 447.66776221326006\n",
       " 449.10608732816405\n",
       " 542.742835921668\n",
       " 416.97897525831576\n",
       " 409.72087017759634\n",
       " 414.692987493636\n",
       " 415.14988501630796\n",
       " 533.7295014723481\n",
       " 501.57244633798837\n",
       " 415.21494332559615"
      ]
     },
     "metadata": {},
     "output_type": "display_data"
    }
   ],
   "source": [
    "Y = Matrix(sim_data)/.10e9\n",
    "h = Matrix(hist_data)/.10e9 # GJ Matrix"
   ]
  },
  {
   "cell_type": "code",
   "execution_count": 100,
   "metadata": {},
   "outputs": [
    {
     "data": {
      "text/plain": [
       "378-element Vector{Any}:\n",
       " 445.2399784728522\n",
       " 434.2174110016764\n",
       " 422.34986212837646\n",
       " 409.6270333823107\n",
       " 396.0402233231432\n",
       " 381.58260957330305\n",
       " 366.2493387046261\n",
       " 445.2399784728522\n",
       " 445.2399784728522\n",
       " 445.2399784728522\n",
       "   ⋮\n",
       " 366.2493387046261\n",
       " 366.2493387046261\n",
       " 366.2493387046261\n",
       " 366.2493387046261\n",
       " 366.2493387046261\n",
       " 366.2493387046261\n",
       " 366.2493387046261\n",
       " 366.2493387046261\n",
       " 366.2493387046261"
      ]
     },
     "metadata": {},
     "output_type": "display_data"
    }
   ],
   "source": [
    "y = []\n",
    "for i=1:size(Y,2)\n",
    "    append!(y, rmsd(Y[:, i], h, normalize=false))\n",
    "end\n",
    "y # 378 element vector "
   ]
  },
  {
   "cell_type": "markdown",
   "metadata": {},
   "source": [
    "# Samples"
   ]
  },
  {
   "cell_type": "code",
   "execution_count": 101,
   "metadata": {},
   "outputs": [
    {
     "data": {
      "text/html": [
       "<div class=\"data-frame\"><p>53 rows × 378 columns (omitted printing of 370 columns)</p><table class=\"data-frame\"><thead><tr><th></th><th>x1</th><th>x2</th><th>x3</th><th>x4</th><th>x5</th><th>x6</th><th>x7</th><th>x8</th></tr><tr><th></th><th title=\"Float64\">Float64</th><th title=\"Float64\">Float64</th><th title=\"Float64\">Float64</th><th title=\"Float64\">Float64</th><th title=\"Float64\">Float64</th><th title=\"Float64\">Float64</th><th title=\"Float64\">Float64</th><th title=\"Float64\">Float64</th></tr></thead><tbody><tr><th>1</th><td>0.5</td><td>0.25</td><td>0.75</td><td>0.125</td><td>0.625</td><td>0.375</td><td>0.875</td><td>0.50001</td></tr><tr><th>2</th><td>0.333333</td><td>0.666667</td><td>0.111111</td><td>0.444444</td><td>0.777778</td><td>0.222222</td><td>0.555556</td><td>0.333333</td></tr><tr><th>3</th><td>0.2</td><td>0.4</td><td>0.6</td><td>0.8</td><td>0.04</td><td>0.24</td><td>0.44</td><td>0.2</td></tr><tr><th>4</th><td>0.142857</td><td>0.285714</td><td>0.428571</td><td>0.571429</td><td>0.714286</td><td>0.857143</td><td>0.0204082</td><td>0.142857</td></tr><tr><th>5</th><td>0.0909091</td><td>0.181818</td><td>0.272727</td><td>0.363636</td><td>0.454545</td><td>0.545455</td><td>0.636364</td><td>0.0909091</td></tr><tr><th>6</th><td>0.0769231</td><td>0.153846</td><td>0.230769</td><td>0.307692</td><td>0.384615</td><td>0.461538</td><td>0.538462</td><td>0.0769231</td></tr><tr><th>7</th><td>0.0588235</td><td>0.117647</td><td>0.176471</td><td>0.235294</td><td>0.294118</td><td>0.352941</td><td>0.411765</td><td>0.0588235</td></tr><tr><th>8</th><td>0.0526316</td><td>0.105263</td><td>0.157895</td><td>0.210526</td><td>0.263158</td><td>0.315789</td><td>0.368421</td><td>0.0526316</td></tr><tr><th>9</th><td>0.0434783</td><td>0.0869565</td><td>0.130435</td><td>0.173913</td><td>0.217391</td><td>0.26087</td><td>0.304348</td><td>0.0434783</td></tr><tr><th>10</th><td>0.0344828</td><td>0.0689655</td><td>0.103448</td><td>0.137931</td><td>0.172414</td><td>0.206897</td><td>0.241379</td><td>0.0344828</td></tr><tr><th>11</th><td>0.0322581</td><td>0.0645161</td><td>0.0967742</td><td>0.129032</td><td>0.16129</td><td>0.193548</td><td>0.225806</td><td>0.0322581</td></tr><tr><th>12</th><td>0.027027</td><td>0.0540541</td><td>0.0810811</td><td>0.108108</td><td>0.135135</td><td>0.162162</td><td>0.189189</td><td>0.027027</td></tr><tr><th>13</th><td>0.0243902</td><td>0.0487805</td><td>0.0731707</td><td>0.097561</td><td>0.121951</td><td>0.146341</td><td>0.170732</td><td>0.0243902</td></tr><tr><th>14</th><td>0.0232558</td><td>0.0465116</td><td>0.0697674</td><td>0.0930233</td><td>0.116279</td><td>0.139535</td><td>0.162791</td><td>0.0232558</td></tr><tr><th>15</th><td>0.0212766</td><td>0.0425532</td><td>0.0638298</td><td>0.0851064</td><td>0.106383</td><td>0.12766</td><td>0.148936</td><td>0.0212766</td></tr><tr><th>16</th><td>0.0188679</td><td>0.0377358</td><td>0.0566038</td><td>0.0754717</td><td>0.0943396</td><td>0.113208</td><td>0.132075</td><td>0.0188679</td></tr><tr><th>17</th><td>0.0169492</td><td>0.0338983</td><td>0.0508475</td><td>0.0677966</td><td>0.0847458</td><td>0.101695</td><td>0.118644</td><td>0.0169492</td></tr><tr><th>18</th><td>0.0163934</td><td>0.0327869</td><td>0.0491803</td><td>0.0655738</td><td>0.0819672</td><td>0.0983607</td><td>0.114754</td><td>0.0163934</td></tr><tr><th>19</th><td>0.0149254</td><td>0.0298507</td><td>0.0447761</td><td>0.0597015</td><td>0.0746269</td><td>0.0895522</td><td>0.104478</td><td>0.0149254</td></tr><tr><th>20</th><td>0.0140845</td><td>0.028169</td><td>0.0422535</td><td>0.056338</td><td>0.0704225</td><td>0.084507</td><td>0.0985915</td><td>0.0140845</td></tr><tr><th>21</th><td>0.0136986</td><td>0.0273973</td><td>0.0410959</td><td>0.0547945</td><td>0.0684932</td><td>0.0821918</td><td>0.0958904</td><td>0.0136986</td></tr><tr><th>22</th><td>0.0126582</td><td>0.0253165</td><td>0.0379747</td><td>0.0506329</td><td>0.0632911</td><td>0.0759494</td><td>0.0886076</td><td>0.0126582</td></tr><tr><th>23</th><td>0.0120482</td><td>0.0240964</td><td>0.0361446</td><td>0.0481928</td><td>0.060241</td><td>0.0722892</td><td>0.0843373</td><td>0.0120482</td></tr><tr><th>24</th><td>0.011236</td><td>0.0224719</td><td>0.0337079</td><td>0.0449438</td><td>0.0561798</td><td>0.0674157</td><td>0.0786517</td><td>0.011236</td></tr><tr><th>&vellip;</th><td>&vellip;</td><td>&vellip;</td><td>&vellip;</td><td>&vellip;</td><td>&vellip;</td><td>&vellip;</td><td>&vellip;</td><td>&vellip;</td></tr></tbody></table></div>"
      ],
      "text/latex": [
       "\\begin{tabular}{r|ccccccccc}\n",
       "\t& x1 & x2 & x3 & x4 & x5 & x6 & x7 & x8 & \\\\\n",
       "\t\\hline\n",
       "\t& Float64 & Float64 & Float64 & Float64 & Float64 & Float64 & Float64 & Float64 & \\\\\n",
       "\t\\hline\n",
       "\t1 & 0.5 & 0.25 & 0.75 & 0.125 & 0.625 & 0.375 & 0.875 & 0.50001 & $\\dots$ \\\\\n",
       "\t2 & 0.333333 & 0.666667 & 0.111111 & 0.444444 & 0.777778 & 0.222222 & 0.555556 & 0.333333 & $\\dots$ \\\\\n",
       "\t3 & 0.2 & 0.4 & 0.6 & 0.8 & 0.04 & 0.24 & 0.44 & 0.2 & $\\dots$ \\\\\n",
       "\t4 & 0.142857 & 0.285714 & 0.428571 & 0.571429 & 0.714286 & 0.857143 & 0.0204082 & 0.142857 & $\\dots$ \\\\\n",
       "\t5 & 0.0909091 & 0.181818 & 0.272727 & 0.363636 & 0.454545 & 0.545455 & 0.636364 & 0.0909091 & $\\dots$ \\\\\n",
       "\t6 & 0.0769231 & 0.153846 & 0.230769 & 0.307692 & 0.384615 & 0.461538 & 0.538462 & 0.0769231 & $\\dots$ \\\\\n",
       "\t7 & 0.0588235 & 0.117647 & 0.176471 & 0.235294 & 0.294118 & 0.352941 & 0.411765 & 0.0588235 & $\\dots$ \\\\\n",
       "\t8 & 0.0526316 & 0.105263 & 0.157895 & 0.210526 & 0.263158 & 0.315789 & 0.368421 & 0.0526316 & $\\dots$ \\\\\n",
       "\t9 & 0.0434783 & 0.0869565 & 0.130435 & 0.173913 & 0.217391 & 0.26087 & 0.304348 & 0.0434783 & $\\dots$ \\\\\n",
       "\t10 & 0.0344828 & 0.0689655 & 0.103448 & 0.137931 & 0.172414 & 0.206897 & 0.241379 & 0.0344828 & $\\dots$ \\\\\n",
       "\t11 & 0.0322581 & 0.0645161 & 0.0967742 & 0.129032 & 0.16129 & 0.193548 & 0.225806 & 0.0322581 & $\\dots$ \\\\\n",
       "\t12 & 0.027027 & 0.0540541 & 0.0810811 & 0.108108 & 0.135135 & 0.162162 & 0.189189 & 0.027027 & $\\dots$ \\\\\n",
       "\t13 & 0.0243902 & 0.0487805 & 0.0731707 & 0.097561 & 0.121951 & 0.146341 & 0.170732 & 0.0243902 & $\\dots$ \\\\\n",
       "\t14 & 0.0232558 & 0.0465116 & 0.0697674 & 0.0930233 & 0.116279 & 0.139535 & 0.162791 & 0.0232558 & $\\dots$ \\\\\n",
       "\t15 & 0.0212766 & 0.0425532 & 0.0638298 & 0.0851064 & 0.106383 & 0.12766 & 0.148936 & 0.0212766 & $\\dots$ \\\\\n",
       "\t16 & 0.0188679 & 0.0377358 & 0.0566038 & 0.0754717 & 0.0943396 & 0.113208 & 0.132075 & 0.0188679 & $\\dots$ \\\\\n",
       "\t17 & 0.0169492 & 0.0338983 & 0.0508475 & 0.0677966 & 0.0847458 & 0.101695 & 0.118644 & 0.0169492 & $\\dots$ \\\\\n",
       "\t18 & 0.0163934 & 0.0327869 & 0.0491803 & 0.0655738 & 0.0819672 & 0.0983607 & 0.114754 & 0.0163934 & $\\dots$ \\\\\n",
       "\t19 & 0.0149254 & 0.0298507 & 0.0447761 & 0.0597015 & 0.0746269 & 0.0895522 & 0.104478 & 0.0149254 & $\\dots$ \\\\\n",
       "\t20 & 0.0140845 & 0.028169 & 0.0422535 & 0.056338 & 0.0704225 & 0.084507 & 0.0985915 & 0.0140845 & $\\dots$ \\\\\n",
       "\t21 & 0.0136986 & 0.0273973 & 0.0410959 & 0.0547945 & 0.0684932 & 0.0821918 & 0.0958904 & 0.0136986 & $\\dots$ \\\\\n",
       "\t22 & 0.0126582 & 0.0253165 & 0.0379747 & 0.0506329 & 0.0632911 & 0.0759494 & 0.0886076 & 0.0126582 & $\\dots$ \\\\\n",
       "\t23 & 0.0120482 & 0.0240964 & 0.0361446 & 0.0481928 & 0.060241 & 0.0722892 & 0.0843373 & 0.0120482 & $\\dots$ \\\\\n",
       "\t24 & 0.011236 & 0.0224719 & 0.0337079 & 0.0449438 & 0.0561798 & 0.0674157 & 0.0786517 & 0.011236 & $\\dots$ \\\\\n",
       "\t$\\dots$ & $\\dots$ & $\\dots$ & $\\dots$ & $\\dots$ & $\\dots$ & $\\dots$ & $\\dots$ & $\\dots$ &  \\\\\n",
       "\\end{tabular}\n"
      ],
      "text/plain": [
       "\u001b[1m53×378 DataFrame\u001b[0m\n",
       "\u001b[1m Row \u001b[0m│\u001b[1m x1         \u001b[0m\u001b[1m x2         \u001b[0m\u001b[1m x3        \u001b[0m\u001b[1m x4        \u001b[0m\u001b[1m x5        \u001b[0m\u001b[1m x6        \u001b[0m\u001b[1m x7 \u001b[0m ⋯\n",
       "\u001b[1m     \u001b[0m│\u001b[90m Float64    \u001b[0m\u001b[90m Float64    \u001b[0m\u001b[90m Float64   \u001b[0m\u001b[90m Float64   \u001b[0m\u001b[90m Float64   \u001b[0m\u001b[90m Float64   \u001b[0m\u001b[90m Flo\u001b[0m ⋯\n",
       "─────┼──────────────────────────────────────────────────────────────────────────\n",
       "   1 │ 0.5         0.25        0.75       0.125      0.625      0.375      0.8 ⋯\n",
       "   2 │ 0.333333    0.666667    0.111111   0.444444   0.777778   0.222222   0.5\n",
       "   3 │ 0.2         0.4         0.6        0.8        0.04       0.24       0.4\n",
       "   4 │ 0.142857    0.285714    0.428571   0.571429   0.714286   0.857143   0.0\n",
       "   5 │ 0.0909091   0.181818    0.272727   0.363636   0.454545   0.545455   0.6 ⋯\n",
       "   6 │ 0.0769231   0.153846    0.230769   0.307692   0.384615   0.461538   0.5\n",
       "   7 │ 0.0588235   0.117647    0.176471   0.235294   0.294118   0.352941   0.4\n",
       "   8 │ 0.0526316   0.105263    0.157895   0.210526   0.263158   0.315789   0.3\n",
       "  ⋮  │     ⋮           ⋮           ⋮          ⋮          ⋮          ⋮          ⋱\n",
       "  47 │ 0.00473934  0.00947867  0.014218   0.0189573  0.0236967  0.028436   0.0 ⋯\n",
       "  48 │ 0.0044843   0.00896861  0.0134529  0.0179372  0.0224215  0.0269058  0.0\n",
       "  49 │ 0.00440529  0.00881057  0.0132159  0.0176211  0.0220264  0.0264317  0.0\n",
       "  50 │ 0.00436681  0.00873362  0.0131004  0.0174672  0.0218341  0.0262009  0.0\n",
       "  51 │ 0.00429185  0.00858369  0.0128755  0.0171674  0.0214592  0.0257511  0.0 ⋯\n",
       "  52 │ 0.0041841   0.0083682   0.0125523  0.0167364  0.0209205  0.0251046  0.0\n",
       "  53 │ 0.00414938  0.00829876  0.0124481  0.0165975  0.0207469  0.0248963  0.0\n",
       "\u001b[36m                                                 372 columns and 38 rows omitted\u001b[0m"
      ]
     },
     "metadata": {},
     "output_type": "display_data"
    }
   ],
   "source": [
    "# samples\n",
    "samples_path = \"/Users/julietnwagwuume-ezeoke/My Drive/CS361_Optim/_fp_cs361/samples/samples_0525_378_DGSM.csv\"\n",
    "samples_data = DataFrame(CSV.File(samples_path))\n",
    "samples = Matrix(samples_data);\n",
    "samples_data "
   ]
  },
  {
   "cell_type": "code",
   "execution_count": 102,
   "metadata": {},
   "outputs": [],
   "source": [
    "using LinearAlgebra"
   ]
  },
  {
   "cell_type": "code",
   "execution_count": 103,
   "metadata": {},
   "outputs": [
    {
     "data": {
      "text/plain": [
       "9.99999999995449e-6"
      ]
     },
     "metadata": {},
     "output_type": "display_data"
    }
   ],
   "source": [
    "norm(samples[:,1] - samples[:,8])"
   ]
  },
  {
   "cell_type": "markdown",
   "metadata": {},
   "source": [
    "# Calculate DGSM, ν"
   ]
  },
  {
   "cell_type": "code",
   "execution_count": 104,
   "metadata": {},
   "outputs": [
    {
     "name": "stdout",
     "output_type": "stream",
     "text": [
      "Any[0.0, 0.0, 0.0, 0.0, 0.0, 0.0, 0.0, 0.7707088394489232, 0.11460682765617143, 0.24143080138171025, 0.054263384507008974, 0.008143343869583246, 0.017029072907802575, 0.006708098400794508, 0.0, 0.0, 0.0, 0.04712804709877659, 0.04712804709877319, 0.04712804709877319, 0.00035770761182525384, 0.00504993162279275, 0.0050499316227922315, 0.0050499316227922315, 3.9292566014605156e-5, 0.007158191606615771, 0.007158191606615771, 0.007158191606615771, 3.9292566014605156e-5, 0.002580894349472687, 0.002580894349472687, 0.002580894349472753, 2.265169125677509e-5, 0.00043653021160652817, 0.00043653021160652817, 0.00043653021160652817, 0.0, 0.000696526640127149, 0.000696526640127149, 0.000696526640127149, 5.761260340833708e-6, 0.0002850209867541003, 0.0002850209867541003, 0.0002850209867541249, 0.0, 0.0, 0.0, 0.0, 0.0, 0.0, 0.0, 0.0, 0.0]"
     ]
    }
   ],
   "source": [
    "\n",
    "n = 7 # num design_points \n",
    "k = 53 # num dimensions \n",
    "i = 2 # current dimension\n",
    "\n",
    "νs = []\n",
    "\n",
    "for i in 1:53\n",
    "    sums = 0 \n",
    "    for j in 1:7\n",
    "        pt_delta = n + k*(j-1) + i\n",
    "        # println(pt_delta)\n",
    "        pt = j\n",
    "        # if i == 53\n",
    "        #     println(pt_delta)\n",
    "        #     int = norm(samples[:,pt_delta] - samples[:,pt])\n",
    "        #     # int2 = samples[:,pt]\n",
    "        #     println(\"int $int\")\n",
    "        # end\n",
    "        sums += abs(y[pt_delta] - y[pt])^2/norm(samples[:,pt_delta] - samples[:,pt])\n",
    "    end\n",
    "    push!(νs, sums)\n",
    "end\n",
    "print(νs)\n"
   ]
  },
  {
   "cell_type": "code",
   "execution_count": 105,
   "metadata": {},
   "outputs": [
    {
     "data": {
      "text/plain": [
       "53"
      ]
     },
     "metadata": {},
     "output_type": "display_data"
    }
   ],
   "source": [
    "length(νs)"
   ]
  },
  {
   "cell_type": "code",
   "execution_count": 106,
   "metadata": {},
   "outputs": [
    {
     "name": "stdout",
     "output_type": "stream",
     "text": [
      "[1, 2, 3, 4, 5, 6, 7, 15, 16, 17, 37, 45, 46, 47, 48, 49, 50, 51, 52, 53, 41, 33, 25, 29, 42, 43, 44, 21, 34, 35, 36, 38, 39, 40, 30, 31, 32, 23, 24, 22, 14, 26, 27, 28, 12, 13, 19, 20, 18, 11, 9, 10, 8]"
     ]
    }
   ],
   "source": [
    "ν_sort_ix = sortperm(νs, rev=false)\n",
    "print(ν_sort_ix)\n"
   ]
  },
  {
   "cell_type": "code",
   "execution_count": 107,
   "metadata": {},
   "outputs": [
    {
     "data": {
      "text/plain": [
       "53-element Vector{Any}:\n",
       " 0.0\n",
       " 0.0\n",
       " 0.0\n",
       " 0.0\n",
       " 0.0\n",
       " 0.0\n",
       " 0.0\n",
       " 0.0\n",
       " 0.0\n",
       " 0.0\n",
       " ⋮\n",
       " 0.008143343869583246\n",
       " 0.017029072907802575\n",
       " 0.04712804709877319\n",
       " 0.04712804709877319\n",
       " 0.04712804709877659\n",
       " 0.054263384507008974\n",
       " 0.11460682765617143\n",
       " 0.24143080138171025\n",
       " 0.7707088394489232"
      ]
     },
     "metadata": {},
     "output_type": "display_data"
    }
   ],
   "source": [
    "nu_sort = νs[ν_sort_ix]"
   ]
  },
  {
   "cell_type": "markdown",
   "metadata": {},
   "source": [
    "# Plot\n"
   ]
  },
  {
   "cell_type": "markdown",
   "metadata": {},
   "source": [
    "## Get Parameter Names "
   ]
  },
  {
   "cell_type": "code",
   "execution_count": 108,
   "metadata": {},
   "outputs": [],
   "source": [
    "params_path = \"/Users/julietnwagwuume-ezeoke/My Drive/CS361_Optim/_fp_cs361/dgsm/param_names.csv\"\n",
    "param_name_data = DataFrame(CSV.File(params_path))\n",
    "param_names = Array(param_name_data[:,2]);\n",
    "param_sort = param_names[ν_sort_ix];"
   ]
  },
  {
   "cell_type": "code",
   "execution_count": 109,
   "metadata": {},
   "outputs": [
    {
     "data": {
      "text/html": [
       "<div class=\"data-frame\"><p>53 rows × 2 columns</p><table class=\"data-frame\"><thead><tr><th></th><th>A</th><th>B</th></tr><tr><th></th><th title=\"String\">String</th><th title=\"Any\">Any</th></tr></thead><tbody><tr><th>1</th><td>materials.glazing.u_val</td><td>0.0</td></tr><tr><th>2</th><td>materials.glazing.shgc</td><td>0.0</td></tr><tr><th>3</th><td>materials.construction_r_vals.ceiling</td><td>0.0</td></tr><tr><th>4</th><td>materials.construction_r_vals.roof</td><td>0.0</td></tr><tr><th>5</th><td>materials.construction_r_vals.floor</td><td>0.0</td></tr><tr><th>6</th><td>materials.construction_r_vals.interior_wall</td><td>0.0</td></tr><tr><th>7</th><td>materials.construction_r_vals.exterior_wall</td><td>0.0</td></tr><tr><th>8</th><td>default_vals.infiltration.bldg</td><td>0.0</td></tr><tr><th>9</th><td>default_vals.infiltration.stairs</td><td>0.0</td></tr><tr><th>10</th><td>default_vals.occupancy.bldg</td><td>0.0</td></tr><tr><th>11</th><td>schedules.light.lab.offseason_fraction</td><td>0.0</td></tr><tr><th>12</th><td>schedules.light.stairs.offseason_fraction</td><td>0.0</td></tr><tr><th>13</th><td>schedules.infil.bldg.night</td><td>0.0</td></tr><tr><th>14</th><td>schedules.infil.bldg.working_hours</td><td>0.0</td></tr><tr><th>15</th><td>schedules.infil.bldg.break_hours</td><td>0.0</td></tr><tr><th>16</th><td>schedules.infil.bldg.offseason_fraction</td><td>0.0</td></tr><tr><th>17</th><td>schedules.occ.bldg.night</td><td>0.0</td></tr><tr><th>18</th><td>schedules.occ.bldg.working_hours</td><td>0.0</td></tr><tr><th>19</th><td>schedules.occ.bldg.break_hours</td><td>0.0</td></tr><tr><th>20</th><td>schedules.occ.bldg.offseason_fraction</td><td>0.0</td></tr><tr><th>21</th><td>schedules.light.office.offseason_fraction</td><td>5.76126e-6</td></tr><tr><th>22</th><td>schedules.light.auditorium.offseason_fraction</td><td>2.26517e-5</td></tr><tr><th>23</th><td>schedules.equip.lab.offseason_fraction</td><td>3.92926e-5</td></tr><tr><th>24</th><td>schedules.equip.office.offseason_fraction</td><td>3.92926e-5</td></tr><tr><th>&vellip;</th><td>&vellip;</td><td>&vellip;</td></tr></tbody></table></div>"
      ],
      "text/latex": [
       "\\begin{tabular}{r|cc}\n",
       "\t& A & B\\\\\n",
       "\t\\hline\n",
       "\t& String & Any\\\\\n",
       "\t\\hline\n",
       "\t1 & materials.glazing.u\\_val & 0.0 \\\\\n",
       "\t2 & materials.glazing.shgc & 0.0 \\\\\n",
       "\t3 & materials.construction\\_r\\_vals.ceiling & 0.0 \\\\\n",
       "\t4 & materials.construction\\_r\\_vals.roof & 0.0 \\\\\n",
       "\t5 & materials.construction\\_r\\_vals.floor & 0.0 \\\\\n",
       "\t6 & materials.construction\\_r\\_vals.interior\\_wall & 0.0 \\\\\n",
       "\t7 & materials.construction\\_r\\_vals.exterior\\_wall & 0.0 \\\\\n",
       "\t8 & default\\_vals.infiltration.bldg & 0.0 \\\\\n",
       "\t9 & default\\_vals.infiltration.stairs & 0.0 \\\\\n",
       "\t10 & default\\_vals.occupancy.bldg & 0.0 \\\\\n",
       "\t11 & schedules.light.lab.offseason\\_fraction & 0.0 \\\\\n",
       "\t12 & schedules.light.stairs.offseason\\_fraction & 0.0 \\\\\n",
       "\t13 & schedules.infil.bldg.night & 0.0 \\\\\n",
       "\t14 & schedules.infil.bldg.working\\_hours & 0.0 \\\\\n",
       "\t15 & schedules.infil.bldg.break\\_hours & 0.0 \\\\\n",
       "\t16 & schedules.infil.bldg.offseason\\_fraction & 0.0 \\\\\n",
       "\t17 & schedules.occ.bldg.night & 0.0 \\\\\n",
       "\t18 & schedules.occ.bldg.working\\_hours & 0.0 \\\\\n",
       "\t19 & schedules.occ.bldg.break\\_hours & 0.0 \\\\\n",
       "\t20 & schedules.occ.bldg.offseason\\_fraction & 0.0 \\\\\n",
       "\t21 & schedules.light.office.offseason\\_fraction & 5.76126e-6 \\\\\n",
       "\t22 & schedules.light.auditorium.offseason\\_fraction & 2.26517e-5 \\\\\n",
       "\t23 & schedules.equip.lab.offseason\\_fraction & 3.92926e-5 \\\\\n",
       "\t24 & schedules.equip.office.offseason\\_fraction & 3.92926e-5 \\\\\n",
       "\t$\\dots$ & $\\dots$ & $\\dots$ \\\\\n",
       "\\end{tabular}\n"
      ],
      "text/plain": [
       "\u001b[1m53×2 DataFrame\u001b[0m\n",
       "\u001b[1m Row \u001b[0m│\u001b[1m A                                 \u001b[0m\u001b[1m B          \u001b[0m\n",
       "\u001b[1m     \u001b[0m│\u001b[90m String                            \u001b[0m\u001b[90m Any        \u001b[0m\n",
       "─────┼───────────────────────────────────────────────\n",
       "   1 │ materials.glazing.u_val            0.0\n",
       "   2 │ materials.glazing.shgc             0.0\n",
       "   3 │ materials.construction_r_vals.ce…  0.0\n",
       "   4 │ materials.construction_r_vals.ro…  0.0\n",
       "   5 │ materials.construction_r_vals.fl…  0.0\n",
       "   6 │ materials.construction_r_vals.in…  0.0\n",
       "   7 │ materials.construction_r_vals.ex…  0.0\n",
       "   8 │ default_vals.infiltration.bldg     0.0\n",
       "  ⋮  │                 ⋮                      ⋮\n",
       "  47 │ schedules.equip.auditorium.worki…  0.047128\n",
       "  48 │ schedules.equip.auditorium.break…  0.047128\n",
       "  49 │ schedules.equip.auditorium.night   0.047128\n",
       "  50 │ default_vals.light.auditorium      0.0542634\n",
       "  51 │ default_vals.equipment.lab         0.114607\n",
       "  52 │ default_vals.equipment.office      0.241431\n",
       "  53 │ default_vals.equipment.auditorium  0.770709\n",
       "\u001b[36m                                      38 rows omitted\u001b[0m"
      ]
     },
     "metadata": {},
     "output_type": "display_data"
    }
   ],
   "source": [
    "dfnu = DataFrame(A=param_sort, B=nu_sort)"
   ]
  },
  {
   "cell_type": "code",
   "execution_count": 127,
   "metadata": {},
   "outputs": [],
   "source": [
    "using PlotlyJS"
   ]
  },
  {
   "cell_type": "code",
   "execution_count": 132,
   "metadata": {},
   "outputs": [
    {
     "data": {
      "application/vnd.plotly.v1+json": {
       "config": {
        "editable": false,
        "responsive": true,
        "scrollZoom": true,
        "showLink": false,
        "staticPlot": false
       },
       "data": [
        {
         "config": {
          "editable": false,
          "responsive": true,
          "scrollZoom": true,
          "showLink": false,
          "staticPlot": true
         },
         "orientation": "h",
         "type": "bar",
         "x": [
          0,
          0,
          0,
          0,
          0,
          0,
          0,
          0,
          0,
          0,
          0,
          0,
          0,
          0,
          0,
          0,
          0,
          0,
          0,
          0,
          0.000005761260340833708,
          0.00002265169125677509,
          0.000039292566014605156,
          0.000039292566014605156,
          0.0002850209867541003,
          0.0002850209867541003,
          0.0002850209867541249,
          0.00035770761182525384,
          0.00043653021160652817,
          0.00043653021160652817,
          0.00043653021160652817,
          0.000696526640127149,
          0.000696526640127149,
          0.000696526640127149,
          0.002580894349472687,
          0.002580894349472687,
          0.002580894349472753,
          0.0050499316227922315,
          0.0050499316227922315,
          0.00504993162279275,
          0.006708098400794508,
          0.007158191606615771,
          0.007158191606615771,
          0.007158191606615771,
          0.008143343869583246,
          0.017029072907802575,
          0.04712804709877319,
          0.04712804709877319,
          0.04712804709877659,
          0.054263384507008974,
          0.11460682765617143,
          0.24143080138171025,
          0.7707088394489232
         ],
         "xaxis": "x",
         "y": [
          "materials.glazing.u_val",
          "materials.glazing.shgc",
          "materials.construction_r_vals.ceiling",
          "materials.construction_r_vals.roof",
          "materials.construction_r_vals.floor",
          "materials.construction_r_vals.interior_wall",
          "materials.construction_r_vals.exterior_wall",
          "default_vals.infiltration.bldg",
          "default_vals.infiltration.stairs",
          "default_vals.occupancy.bldg",
          "schedules.light.lab.offseason_fraction",
          "schedules.light.stairs.offseason_fraction",
          "schedules.infil.bldg.night",
          "schedules.infil.bldg.working_hours",
          "schedules.infil.bldg.break_hours",
          "schedules.infil.bldg.offseason_fraction",
          "schedules.occ.bldg.night",
          "schedules.occ.bldg.working_hours",
          "schedules.occ.bldg.break_hours",
          "schedules.occ.bldg.offseason_fraction",
          "schedules.light.office.offseason_fraction",
          "schedules.light.auditorium.offseason_fraction",
          "schedules.equip.lab.offseason_fraction",
          "schedules.equip.office.offseason_fraction",
          "schedules.light.stairs.night",
          "schedules.light.stairs.working_hours",
          "schedules.light.stairs.break_hours",
          "schedules.equip.auditorium.offseason_fraction",
          "schedules.light.lab.night",
          "schedules.light.lab.working_hours",
          "schedules.light.lab.break_hours",
          "schedules.light.office.night",
          "schedules.light.office.working_hours",
          "schedules.light.office.break_hours",
          "schedules.light.auditorium.night",
          "schedules.light.auditorium.working_hours",
          "schedules.light.auditorium.break_hours",
          "schedules.equip.lab.working_hours",
          "schedules.equip.lab.break_hours",
          "schedules.equip.lab.night",
          "default_vals.light.stairs",
          "schedules.equip.office.night",
          "schedules.equip.office.working_hours",
          "schedules.equip.office.break_hours",
          "default_vals.light.lab",
          "default_vals.light.office",
          "schedules.equip.auditorium.working_hours",
          "schedules.equip.auditorium.break_hours",
          "schedules.equip.auditorium.night",
          "default_vals.light.auditorium",
          "default_vals.equipment.lab",
          "default_vals.equipment.office",
          "default_vals.equipment.auditorium"
         ],
         "yaxis": "y"
        }
       ],
       "frames": [],
       "layout": {
        "height": 1000,
        "legend": {
         "tracegroupgap": 0
        },
        "margin": {
         "b": 50,
         "l": 50,
         "r": 50,
         "t": 60
        },
        "template": {
         "data": {
          "bar": [
           {
            "error_x": {
             "color": "#2a3f5f"
            },
            "error_y": {
             "color": "#2a3f5f"
            },
            "marker": {
             "line": {
              "color": "#E5ECF6",
              "width": 0.5
             }
            },
            "type": "bar"
           }
          ],
          "barpolar": [
           {
            "marker": {
             "line": {
              "color": "#E5ECF6",
              "width": 0.5
             }
            },
            "type": "barpolar"
           }
          ],
          "carpet": [
           {
            "aaxis": {
             "endlinecolor": "#2a3f5f",
             "gridcolor": "white",
             "linecolor": "white",
             "minorgridcolor": "white",
             "startlinecolor": "#2a3f5f"
            },
            "baxis": {
             "endlinecolor": "#2a3f5f",
             "gridcolor": "white",
             "linecolor": "white",
             "minorgridcolor": "white",
             "startlinecolor": "#2a3f5f"
            },
            "type": "carpet"
           }
          ],
          "choropleth": [
           {
            "colorbar": {
             "outlinewidth": 0,
             "ticks": ""
            },
            "type": "choropleth"
           }
          ],
          "contour": [
           {
            "colorbar": {
             "outlinewidth": 0,
             "ticks": ""
            },
            "colorscale": [
             [
              0,
              "#0d0887"
             ],
             [
              0.1111111111111111,
              "#46039f"
             ],
             [
              0.2222222222222222,
              "#7201a8"
             ],
             [
              0.3333333333333333,
              "#9c179e"
             ],
             [
              0.4444444444444444,
              "#bd3786"
             ],
             [
              0.5555555555555556,
              "#d8576b"
             ],
             [
              0.6666666666666666,
              "#ed7953"
             ],
             [
              0.7777777777777778,
              "#fb9f3a"
             ],
             [
              0.8888888888888888,
              "#fdca26"
             ],
             [
              1,
              "#f0f921"
             ]
            ],
            "type": "contour"
           }
          ],
          "contourcarpet": [
           {
            "colorbar": {
             "outlinewidth": 0,
             "ticks": ""
            },
            "type": "contourcarpet"
           }
          ],
          "heatmap": [
           {
            "colorbar": {
             "outlinewidth": 0,
             "ticks": ""
            },
            "colorscale": [
             [
              0,
              "#0d0887"
             ],
             [
              0.1111111111111111,
              "#46039f"
             ],
             [
              0.2222222222222222,
              "#7201a8"
             ],
             [
              0.3333333333333333,
              "#9c179e"
             ],
             [
              0.4444444444444444,
              "#bd3786"
             ],
             [
              0.5555555555555556,
              "#d8576b"
             ],
             [
              0.6666666666666666,
              "#ed7953"
             ],
             [
              0.7777777777777778,
              "#fb9f3a"
             ],
             [
              0.8888888888888888,
              "#fdca26"
             ],
             [
              1,
              "#f0f921"
             ]
            ],
            "type": "heatmap"
           }
          ],
          "heatmapgl": [
           {
            "colorbar": {
             "outlinewidth": 0,
             "ticks": ""
            },
            "colorscale": [
             [
              0,
              "#0d0887"
             ],
             [
              0.1111111111111111,
              "#46039f"
             ],
             [
              0.2222222222222222,
              "#7201a8"
             ],
             [
              0.3333333333333333,
              "#9c179e"
             ],
             [
              0.4444444444444444,
              "#bd3786"
             ],
             [
              0.5555555555555556,
              "#d8576b"
             ],
             [
              0.6666666666666666,
              "#ed7953"
             ],
             [
              0.7777777777777778,
              "#fb9f3a"
             ],
             [
              0.8888888888888888,
              "#fdca26"
             ],
             [
              1,
              "#f0f921"
             ]
            ],
            "type": "heatmapgl"
           }
          ],
          "histogram": [
           {
            "marker": {
             "colorbar": {
              "outlinewidth": 0,
              "ticks": ""
             }
            },
            "type": "histogram"
           }
          ],
          "histogram2d": [
           {
            "colorbar": {
             "outlinewidth": 0,
             "ticks": ""
            },
            "colorscale": [
             [
              0,
              "#0d0887"
             ],
             [
              0.1111111111111111,
              "#46039f"
             ],
             [
              0.2222222222222222,
              "#7201a8"
             ],
             [
              0.3333333333333333,
              "#9c179e"
             ],
             [
              0.4444444444444444,
              "#bd3786"
             ],
             [
              0.5555555555555556,
              "#d8576b"
             ],
             [
              0.6666666666666666,
              "#ed7953"
             ],
             [
              0.7777777777777778,
              "#fb9f3a"
             ],
             [
              0.8888888888888888,
              "#fdca26"
             ],
             [
              1,
              "#f0f921"
             ]
            ],
            "type": "histogram2d"
           }
          ],
          "histogram2dcontour": [
           {
            "colorbar": {
             "outlinewidth": 0,
             "ticks": ""
            },
            "colorscale": [
             [
              0,
              "#0d0887"
             ],
             [
              0.1111111111111111,
              "#46039f"
             ],
             [
              0.2222222222222222,
              "#7201a8"
             ],
             [
              0.3333333333333333,
              "#9c179e"
             ],
             [
              0.4444444444444444,
              "#bd3786"
             ],
             [
              0.5555555555555556,
              "#d8576b"
             ],
             [
              0.6666666666666666,
              "#ed7953"
             ],
             [
              0.7777777777777778,
              "#fb9f3a"
             ],
             [
              0.8888888888888888,
              "#fdca26"
             ],
             [
              1,
              "#f0f921"
             ]
            ],
            "type": "histogram2dcontour"
           }
          ],
          "mesh3d": [
           {
            "colorbar": {
             "outlinewidth": 0,
             "ticks": ""
            },
            "type": "mesh3d"
           }
          ],
          "parcoords": [
           {
            "line": {
             "colorbar": {
              "outlinewidth": 0,
              "ticks": ""
             }
            },
            "type": "parcoords"
           }
          ],
          "pie": [
           {
            "automargin": true,
            "type": "pie"
           }
          ],
          "scatter": [
           {
            "marker": {
             "colorbar": {
              "outlinewidth": 0,
              "ticks": ""
             }
            },
            "type": "scatter"
           }
          ],
          "scatter3d": [
           {
            "line": {
             "colorbar": {
              "outlinewidth": 0,
              "ticks": ""
             }
            },
            "marker": {
             "colorbar": {
              "outlinewidth": 0,
              "ticks": ""
             }
            },
            "type": "scatter3d"
           }
          ],
          "scattercarpet": [
           {
            "marker": {
             "colorbar": {
              "outlinewidth": 0,
              "ticks": ""
             }
            },
            "type": "scattercarpet"
           }
          ],
          "scattergeo": [
           {
            "marker": {
             "colorbar": {
              "outlinewidth": 0,
              "ticks": ""
             }
            },
            "type": "scattergeo"
           }
          ],
          "scattergl": [
           {
            "marker": {
             "colorbar": {
              "outlinewidth": 0,
              "ticks": ""
             }
            },
            "type": "scattergl"
           }
          ],
          "scattermapbox": [
           {
            "marker": {
             "colorbar": {
              "outlinewidth": 0,
              "ticks": ""
             }
            },
            "type": "scattermapbox"
           }
          ],
          "scatterpolar": [
           {
            "marker": {
             "colorbar": {
              "outlinewidth": 0,
              "ticks": ""
             }
            },
            "type": "scatterpolar"
           }
          ],
          "scatterpolargl": [
           {
            "marker": {
             "colorbar": {
              "outlinewidth": 0,
              "ticks": ""
             }
            },
            "type": "scatterpolargl"
           }
          ],
          "scatterternary": [
           {
            "marker": {
             "colorbar": {
              "outlinewidth": 0,
              "ticks": ""
             }
            },
            "type": "scatterternary"
           }
          ],
          "surface": [
           {
            "colorbar": {
             "outlinewidth": 0,
             "ticks": ""
            },
            "colorscale": [
             [
              0,
              "#0d0887"
             ],
             [
              0.1111111111111111,
              "#46039f"
             ],
             [
              0.2222222222222222,
              "#7201a8"
             ],
             [
              0.3333333333333333,
              "#9c179e"
             ],
             [
              0.4444444444444444,
              "#bd3786"
             ],
             [
              0.5555555555555556,
              "#d8576b"
             ],
             [
              0.6666666666666666,
              "#ed7953"
             ],
             [
              0.7777777777777778,
              "#fb9f3a"
             ],
             [
              0.8888888888888888,
              "#fdca26"
             ],
             [
              1,
              "#f0f921"
             ]
            ],
            "type": "surface"
           }
          ],
          "table": [
           {
            "cells": {
             "fill": {
              "color": "#EBF0F8"
             },
             "line": {
              "color": "white"
             }
            },
            "header": {
             "fill": {
              "color": "#C8D4E3"
             },
             "line": {
              "color": "white"
             }
            },
            "type": "table"
           }
          ]
         },
         "layout": {
          "annotationdefaults": {
           "arrowcolor": "#2a3f5f",
           "arrowhead": 0,
           "arrowwidth": 1
          },
          "autotypenumbers": "strict",
          "coloraxis": {
           "colorbar": {
            "outlinewidth": 0,
            "ticks": ""
           }
          },
          "colorscale": {
           "diverging": [
            [
             0,
             "#8e0152"
            ],
            [
             0.1,
             "#c51b7d"
            ],
            [
             0.2,
             "#de77ae"
            ],
            [
             0.3,
             "#f1b6da"
            ],
            [
             0.4,
             "#fde0ef"
            ],
            [
             0.5,
             "#f7f7f7"
            ],
            [
             0.6,
             "#e6f5d0"
            ],
            [
             0.7,
             "#b8e186"
            ],
            [
             0.8,
             "#7fbc41"
            ],
            [
             0.9,
             "#4d9221"
            ],
            [
             1,
             "#276419"
            ]
           ],
           "sequential": [
            [
             0,
             "#0d0887"
            ],
            [
             0.1111111111111111,
             "#46039f"
            ],
            [
             0.2222222222222222,
             "#7201a8"
            ],
            [
             0.3333333333333333,
             "#9c179e"
            ],
            [
             0.4444444444444444,
             "#bd3786"
            ],
            [
             0.5555555555555556,
             "#d8576b"
            ],
            [
             0.6666666666666666,
             "#ed7953"
            ],
            [
             0.7777777777777778,
             "#fb9f3a"
            ],
            [
             0.8888888888888888,
             "#fdca26"
            ],
            [
             1,
             "#f0f921"
            ]
           ],
           "sequentialminus": [
            [
             0,
             "#0d0887"
            ],
            [
             0.1111111111111111,
             "#46039f"
            ],
            [
             0.2222222222222222,
             "#7201a8"
            ],
            [
             0.3333333333333333,
             "#9c179e"
            ],
            [
             0.4444444444444444,
             "#bd3786"
            ],
            [
             0.5555555555555556,
             "#d8576b"
            ],
            [
             0.6666666666666666,
             "#ed7953"
            ],
            [
             0.7777777777777778,
             "#fb9f3a"
            ],
            [
             0.8888888888888888,
             "#fdca26"
            ],
            [
             1,
             "#f0f921"
            ]
           ]
          },
          "colorway": [
           "#636efa",
           "#EF553B",
           "#00cc96",
           "#ab63fa",
           "#FFA15A",
           "#19d3f3",
           "#FF6692",
           "#B6E880",
           "#FF97FF",
           "#FECB52"
          ],
          "font": {
           "color": "#2a3f5f"
          },
          "geo": {
           "bgcolor": "white",
           "lakecolor": "white",
           "landcolor": "#E5ECF6",
           "showlakes": true,
           "showland": true,
           "subunitcolor": "white"
          },
          "hoverlabel": {
           "align": "left"
          },
          "hovermode": "closest",
          "mapbox": {
           "style": "light"
          },
          "paper_bgcolor": "white",
          "plot_bgcolor": "#E5ECF6",
          "polar": {
           "angularaxis": {
            "gridcolor": "white",
            "linecolor": "white",
            "ticks": ""
           },
           "bgcolor": "#E5ECF6",
           "radialaxis": {
            "gridcolor": "white",
            "linecolor": "white",
            "ticks": ""
           }
          },
          "scene": {
           "xaxis": {
            "backgroundcolor": "#E5ECF6",
            "gridcolor": "white",
            "gridwidth": 2,
            "linecolor": "white",
            "showbackground": true,
            "ticks": "",
            "zerolinecolor": "white"
           },
           "yaxis": {
            "backgroundcolor": "#E5ECF6",
            "gridcolor": "white",
            "gridwidth": 2,
            "linecolor": "white",
            "showbackground": true,
            "ticks": "",
            "zerolinecolor": "white"
           },
           "zaxis": {
            "backgroundcolor": "#E5ECF6",
            "gridcolor": "white",
            "gridwidth": 2,
            "linecolor": "white",
            "showbackground": true,
            "ticks": "",
            "zerolinecolor": "white"
           }
          },
          "shapedefaults": {
           "line": {
            "color": "#2a3f5f"
           }
          },
          "ternary": {
           "aaxis": {
            "gridcolor": "white",
            "linecolor": "white",
            "ticks": ""
           },
           "baxis": {
            "gridcolor": "white",
            "linecolor": "white",
            "ticks": ""
           },
           "bgcolor": "#E5ECF6",
           "caxis": {
            "gridcolor": "white",
            "linecolor": "white",
            "ticks": ""
           }
          },
          "title": {
           "x": 0.05
          },
          "xaxis": {
           "automargin": true,
           "gridcolor": "white",
           "linecolor": "white",
           "ticks": "",
           "title": {
            "standoff": 15
           },
           "zerolinecolor": "white",
           "zerolinewidth": 2
          },
          "yaxis": {
           "automargin": true,
           "gridcolor": "white",
           "linecolor": "white",
           "ticks": "",
           "title": {
            "standoff": 15
           },
           "zerolinecolor": "white",
           "zerolinewidth": 2
          }
         }
        },
        "width": 1000,
        "xaxis": {
         "title": {
          "text": "νᵢ"
         }
        },
        "yaxis": {
         "dtick": 0.75,
         "size": 0.1,
         "tick0": 0.5,
         "tickmode": "linear",
         "title": {
          "text": "Parameters"
         }
        }
       }
      },
      "text/html": [
       "<div\n",
       "    class=\"webio-mountpoint\"\n",
       "    data-webio-mountpoint=\"4552041305878389019\"\n",
       ">\n",
       "    <script>\n",
       "    (function(){\n",
       "    // Some integrations (namely, IJulia/Jupyter) use an alternate render pathway than\n",
       "    // just putting the html on the page. If WebIO isn't defined, then it's pretty likely\n",
       "    // that we're in one of those situations and the integration just isn't installed\n",
       "    // correctly.\n",
       "    if (typeof window.WebIO === \"undefined\") {\n",
       "        document\n",
       "            .querySelector('[data-webio-mountpoint=\"4552041305878389019\"]')\n",
       "            .innerHTML = (\n",
       "                '<div style=\"padding: 1em; background-color: #f8d6da; border: 1px solid #f5c6cb; font-weight: bold;\">' +\n",
       "                '<p><strong>WebIO not detected.</strong></p>' +\n",
       "                '<p>Please read ' +\n",
       "                '<a href=\"https://juliagizmos.github.io/WebIO.jl/latest/troubleshooting/not-detected/\" target=\"_blank\">the troubleshooting guide</a> ' +\n",
       "                'for more information on how to resolve this issue.</p>' +\n",
       "                '<p><a href=\"https://juliagizmos.github.io/WebIO.jl/latest/troubleshooting/not-detected/\" target=\"_blank\">https://juliagizmos.github.io/WebIO.jl/latest/troubleshooting/not-detected/</a></p>' +\n",
       "                '</div>'\n",
       "            );\n",
       "        return;\n",
       "    }\n",
       "    WebIO.mount(\n",
       "        document.querySelector('[data-webio-mountpoint=\"4552041305878389019\"]'),\n",
       "        {\"props\":{},\"nodeType\":\"Scope\",\"type\":\"node\",\"instanceArgs\":{\"imports\":{\"data\":[{\"name\":\"Plotly\",\"type\":\"js\",\"url\":\"\\/assetserver\\/5b3939436337838b354347cfaa22b7bc3003989a-plotly.min.js\"},{\"name\":null,\"type\":\"js\",\"url\":\"\\/assetserver\\/b357b64ea29adbbd84741a1633d18b55a8f7fce1-plotly_webio.bundle.js\"}],\"type\":\"async_block\"},\"id\":\"15954548178490800823\",\"handlers\":{\"_toImage\":[\"(function (options){return this.Plotly.toImage(this.plotElem,options).then((function (data){return WebIO.setval({\\\"name\\\":\\\"image\\\",\\\"scope\\\":\\\"15954548178490800823\\\",\\\"id\\\":\\\"12605386967798213251\\\",\\\"type\\\":\\\"observable\\\"},data)}))})\"],\"__get_gd_contents\":[\"(function (prop){prop==\\\"data\\\" ? (WebIO.setval({\\\"name\\\":\\\"__gd_contents\\\",\\\"scope\\\":\\\"15954548178490800823\\\",\\\"id\\\":\\\"4297057509771391826\\\",\\\"type\\\":\\\"observable\\\"},this.plotElem.data)) : undefined; return prop==\\\"layout\\\" ? (WebIO.setval({\\\"name\\\":\\\"__gd_contents\\\",\\\"scope\\\":\\\"15954548178490800823\\\",\\\"id\\\":\\\"4297057509771391826\\\",\\\"type\\\":\\\"observable\\\"},this.plotElem.layout)) : undefined})\"],\"_downloadImage\":[\"(function (options){return this.Plotly.downloadImage(this.plotElem,options)})\"],\"_commands\":[\"(function (args){var fn=args.shift(); var elem=this.plotElem; var Plotly=this.Plotly; args.unshift(elem); return Plotly[fn].apply(this,args)})\"]},\"systemjs_options\":null,\"mount_callbacks\":[\"function () {\\n    var handler = ((function (Plotly,PlotlyWebIO){PlotlyWebIO.init(WebIO); var gd=this.dom.querySelector(\\\"#plot-88859ae4-2ce3-4843-b766-fed6fea89b19\\\"); this.plotElem=gd; this.Plotly=Plotly; (window.Blink!==undefined) ? (gd.style.width=\\\"100%\\\", gd.style.height=\\\"100vh\\\", gd.style.marginLeft=\\\"0%\\\", gd.style.marginTop=\\\"0vh\\\") : undefined; window.onresize=(function (){return Plotly.Plots.resize(gd)}); Plotly.newPlot(gd,[{\\\"xaxis\\\":\\\"x\\\",\\\"y\\\":[\\\"materials.glazing.u_val\\\",\\\"materials.glazing.shgc\\\",\\\"materials.construction_r_vals.ceiling\\\",\\\"materials.construction_r_vals.roof\\\",\\\"materials.construction_r_vals.floor\\\",\\\"materials.construction_r_vals.interior_wall\\\",\\\"materials.construction_r_vals.exterior_wall\\\",\\\"default_vals.infiltration.bldg\\\",\\\"default_vals.infiltration.stairs\\\",\\\"default_vals.occupancy.bldg\\\",\\\"schedules.light.lab.offseason_fraction\\\",\\\"schedules.light.stairs.offseason_fraction\\\",\\\"schedules.infil.bldg.night\\\",\\\"schedules.infil.bldg.working_hours\\\",\\\"schedules.infil.bldg.break_hours\\\",\\\"schedules.infil.bldg.offseason_fraction\\\",\\\"schedules.occ.bldg.night\\\",\\\"schedules.occ.bldg.working_hours\\\",\\\"schedules.occ.bldg.break_hours\\\",\\\"schedules.occ.bldg.offseason_fraction\\\",\\\"schedules.light.office.offseason_fraction\\\",\\\"schedules.light.auditorium.offseason_fraction\\\",\\\"schedules.equip.lab.offseason_fraction\\\",\\\"schedules.equip.office.offseason_fraction\\\",\\\"schedules.light.stairs.night\\\",\\\"schedules.light.stairs.working_hours\\\",\\\"schedules.light.stairs.break_hours\\\",\\\"schedules.equip.auditorium.offseason_fraction\\\",\\\"schedules.light.lab.night\\\",\\\"schedules.light.lab.working_hours\\\",\\\"schedules.light.lab.break_hours\\\",\\\"schedules.light.office.night\\\",\\\"schedules.light.office.working_hours\\\",\\\"schedules.light.office.break_hours\\\",\\\"schedules.light.auditorium.night\\\",\\\"schedules.light.auditorium.working_hours\\\",\\\"schedules.light.auditorium.break_hours\\\",\\\"schedules.equip.lab.working_hours\\\",\\\"schedules.equip.lab.break_hours\\\",\\\"schedules.equip.lab.night\\\",\\\"default_vals.light.stairs\\\",\\\"schedules.equip.office.night\\\",\\\"schedules.equip.office.working_hours\\\",\\\"schedules.equip.office.break_hours\\\",\\\"default_vals.light.lab\\\",\\\"default_vals.light.office\\\",\\\"schedules.equip.auditorium.working_hours\\\",\\\"schedules.equip.auditorium.break_hours\\\",\\\"schedules.equip.auditorium.night\\\",\\\"default_vals.light.auditorium\\\",\\\"default_vals.equipment.lab\\\",\\\"default_vals.equipment.office\\\",\\\"default_vals.equipment.auditorium\\\"],\\\"type\\\":\\\"bar\\\",\\\"yaxis\\\":\\\"y\\\",\\\"config\\\":{\\\"showLink\\\":false,\\\"editable\\\":false,\\\"responsive\\\":true,\\\"staticPlot\\\":true,\\\"scrollZoom\\\":true},\\\"orientation\\\":\\\"h\\\",\\\"x\\\":[0.0,0.0,0.0,0.0,0.0,0.0,0.0,0.0,0.0,0.0,0.0,0.0,0.0,0.0,0.0,0.0,0.0,0.0,0.0,0.0,5.761260340833708e-6,2.265169125677509e-5,3.9292566014605156e-5,3.9292566014605156e-5,0.0002850209867541003,0.0002850209867541003,0.0002850209867541249,0.00035770761182525384,0.00043653021160652817,0.00043653021160652817,0.00043653021160652817,0.000696526640127149,0.000696526640127149,0.000696526640127149,0.002580894349472687,0.002580894349472687,0.002580894349472753,0.0050499316227922315,0.0050499316227922315,0.00504993162279275,0.006708098400794508,0.007158191606615771,0.007158191606615771,0.007158191606615771,0.008143343869583246,0.017029072907802575,0.04712804709877319,0.04712804709877319,0.04712804709877659,0.054263384507008974,0.11460682765617143,0.24143080138171025,0.7707088394489232]}],{\\\"xaxis\\\":{\\\"title\\\":{\\\"text\\\":\\\"B\\\"}},\\\"template\\\":{\\\"layout\\\":{\\\"coloraxis\\\":{\\\"colorbar\\\":{\\\"ticks\\\":\\\"\\\",\\\"outlinewidth\\\":0}},\\\"xaxis\\\":{\\\"gridcolor\\\":\\\"white\\\",\\\"zerolinewidth\\\":2,\\\"title\\\":{\\\"standoff\\\":15},\\\"ticks\\\":\\\"\\\",\\\"zerolinecolor\\\":\\\"white\\\",\\\"automargin\\\":true,\\\"linecolor\\\":\\\"white\\\"},\\\"hovermode\\\":\\\"closest\\\",\\\"paper_bgcolor\\\":\\\"white\\\",\\\"geo\\\":{\\\"showlakes\\\":true,\\\"showland\\\":true,\\\"landcolor\\\":\\\"#E5ECF6\\\",\\\"bgcolor\\\":\\\"white\\\",\\\"subunitcolor\\\":\\\"white\\\",\\\"lakecolor\\\":\\\"white\\\"},\\\"colorscale\\\":{\\\"sequential\\\":[[0.0,\\\"#0d0887\\\"],[0.1111111111111111,\\\"#46039f\\\"],[0.2222222222222222,\\\"#7201a8\\\"],[0.3333333333333333,\\\"#9c179e\\\"],[0.4444444444444444,\\\"#bd3786\\\"],[0.5555555555555556,\\\"#d8576b\\\"],[0.6666666666666666,\\\"#ed7953\\\"],[0.7777777777777778,\\\"#fb9f3a\\\"],[0.8888888888888888,\\\"#fdca26\\\"],[1.0,\\\"#f0f921\\\"]],\\\"diverging\\\":[[0,\\\"#8e0152\\\"],[0.1,\\\"#c51b7d\\\"],[0.2,\\\"#de77ae\\\"],[0.3,\\\"#f1b6da\\\"],[0.4,\\\"#fde0ef\\\"],[0.5,\\\"#f7f7f7\\\"],[0.6,\\\"#e6f5d0\\\"],[0.7,\\\"#b8e186\\\"],[0.8,\\\"#7fbc41\\\"],[0.9,\\\"#4d9221\\\"],[1,\\\"#276419\\\"]],\\\"sequentialminus\\\":[[0.0,\\\"#0d0887\\\"],[0.1111111111111111,\\\"#46039f\\\"],[0.2222222222222222,\\\"#7201a8\\\"],[0.3333333333333333,\\\"#9c179e\\\"],[0.4444444444444444,\\\"#bd3786\\\"],[0.5555555555555556,\\\"#d8576b\\\"],[0.6666666666666666,\\\"#ed7953\\\"],[0.7777777777777778,\\\"#fb9f3a\\\"],[0.8888888888888888,\\\"#fdca26\\\"],[1.0,\\\"#f0f921\\\"]]},\\\"yaxis\\\":{\\\"gridcolor\\\":\\\"white\\\",\\\"zerolinewidth\\\":2,\\\"title\\\":{\\\"standoff\\\":15},\\\"ticks\\\":\\\"\\\",\\\"zerolinecolor\\\":\\\"white\\\",\\\"automargin\\\":true,\\\"linecolor\\\":\\\"white\\\"},\\\"shapedefaults\\\":{\\\"line\\\":{\\\"color\\\":\\\"#2a3f5f\\\"}},\\\"hoverlabel\\\":{\\\"align\\\":\\\"left\\\"},\\\"mapbox\\\":{\\\"style\\\":\\\"light\\\"},\\\"polar\\\":{\\\"angularaxis\\\":{\\\"gridcolor\\\":\\\"white\\\",\\\"ticks\\\":\\\"\\\",\\\"linecolor\\\":\\\"white\\\"},\\\"bgcolor\\\":\\\"#E5ECF6\\\",\\\"radialaxis\\\":{\\\"gridcolor\\\":\\\"white\\\",\\\"ticks\\\":\\\"\\\",\\\"linecolor\\\":\\\"white\\\"}},\\\"autotypenumbers\\\":\\\"strict\\\",\\\"font\\\":{\\\"color\\\":\\\"#2a3f5f\\\"},\\\"ternary\\\":{\\\"baxis\\\":{\\\"gridcolor\\\":\\\"white\\\",\\\"ticks\\\":\\\"\\\",\\\"linecolor\\\":\\\"white\\\"},\\\"bgcolor\\\":\\\"#E5ECF6\\\",\\\"caxis\\\":{\\\"gridcolor\\\":\\\"white\\\",\\\"ticks\\\":\\\"\\\",\\\"linecolor\\\":\\\"white\\\"},\\\"aaxis\\\":{\\\"gridcolor\\\":\\\"white\\\",\\\"ticks\\\":\\\"\\\",\\\"linecolor\\\":\\\"white\\\"}},\\\"annotationdefaults\\\":{\\\"arrowhead\\\":0,\\\"arrowwidth\\\":1,\\\"arrowcolor\\\":\\\"#2a3f5f\\\"},\\\"plot_bgcolor\\\":\\\"#E5ECF6\\\",\\\"title\\\":{\\\"x\\\":0.05},\\\"scene\\\":{\\\"xaxis\\\":{\\\"gridcolor\\\":\\\"white\\\",\\\"gridwidth\\\":2,\\\"backgroundcolor\\\":\\\"#E5ECF6\\\",\\\"ticks\\\":\\\"\\\",\\\"showbackground\\\":true,\\\"zerolinecolor\\\":\\\"white\\\",\\\"linecolor\\\":\\\"white\\\"},\\\"zaxis\\\":{\\\"gridcolor\\\":\\\"white\\\",\\\"gridwidth\\\":2,\\\"backgroundcolor\\\":\\\"#E5ECF6\\\",\\\"ticks\\\":\\\"\\\",\\\"showbackground\\\":true,\\\"zerolinecolor\\\":\\\"white\\\",\\\"linecolor\\\":\\\"white\\\"},\\\"yaxis\\\":{\\\"gridcolor\\\":\\\"white\\\",\\\"gridwidth\\\":2,\\\"backgroundcolor\\\":\\\"#E5ECF6\\\",\\\"ticks\\\":\\\"\\\",\\\"showbackground\\\":true,\\\"zerolinecolor\\\":\\\"white\\\",\\\"linecolor\\\":\\\"white\\\"}},\\\"colorway\\\":[\\\"#636efa\\\",\\\"#EF553B\\\",\\\"#00cc96\\\",\\\"#ab63fa\\\",\\\"#FFA15A\\\",\\\"#19d3f3\\\",\\\"#FF6692\\\",\\\"#B6E880\\\",\\\"#FF97FF\\\",\\\"#FECB52\\\"]},\\\"data\\\":{\\\"barpolar\\\":[{\\\"type\\\":\\\"barpolar\\\",\\\"marker\\\":{\\\"line\\\":{\\\"color\\\":\\\"#E5ECF6\\\",\\\"width\\\":0.5}}}],\\\"carpet\\\":[{\\\"aaxis\\\":{\\\"gridcolor\\\":\\\"white\\\",\\\"endlinecolor\\\":\\\"#2a3f5f\\\",\\\"minorgridcolor\\\":\\\"white\\\",\\\"startlinecolor\\\":\\\"#2a3f5f\\\",\\\"linecolor\\\":\\\"white\\\"},\\\"type\\\":\\\"carpet\\\",\\\"baxis\\\":{\\\"gridcolor\\\":\\\"white\\\",\\\"endlinecolor\\\":\\\"#2a3f5f\\\",\\\"minorgridcolor\\\":\\\"white\\\",\\\"startlinecolor\\\":\\\"#2a3f5f\\\",\\\"linecolor\\\":\\\"white\\\"}}],\\\"scatterpolar\\\":[{\\\"type\\\":\\\"scatterpolar\\\",\\\"marker\\\":{\\\"colorbar\\\":{\\\"ticks\\\":\\\"\\\",\\\"outlinewidth\\\":0}}}],\\\"parcoords\\\":[{\\\"line\\\":{\\\"colorbar\\\":{\\\"ticks\\\":\\\"\\\",\\\"outlinewidth\\\":0}},\\\"type\\\":\\\"parcoords\\\"}],\\\"scatter\\\":[{\\\"type\\\":\\\"scatter\\\",\\\"marker\\\":{\\\"colorbar\\\":{\\\"ticks\\\":\\\"\\\",\\\"outlinewidth\\\":0}}}],\\\"histogram2dcontour\\\":[{\\\"colorbar\\\":{\\\"ticks\\\":\\\"\\\",\\\"outlinewidth\\\":0},\\\"type\\\":\\\"histogram2dcontour\\\",\\\"colorscale\\\":[[0.0,\\\"#0d0887\\\"],[0.1111111111111111,\\\"#46039f\\\"],[0.2222222222222222,\\\"#7201a8\\\"],[0.3333333333333333,\\\"#9c179e\\\"],[0.4444444444444444,\\\"#bd3786\\\"],[0.5555555555555556,\\\"#d8576b\\\"],[0.6666666666666666,\\\"#ed7953\\\"],[0.7777777777777778,\\\"#fb9f3a\\\"],[0.8888888888888888,\\\"#fdca26\\\"],[1.0,\\\"#f0f921\\\"]]}],\\\"contour\\\":[{\\\"colorbar\\\":{\\\"ticks\\\":\\\"\\\",\\\"outlinewidth\\\":0},\\\"type\\\":\\\"contour\\\",\\\"colorscale\\\":[[0.0,\\\"#0d0887\\\"],[0.1111111111111111,\\\"#46039f\\\"],[0.2222222222222222,\\\"#7201a8\\\"],[0.3333333333333333,\\\"#9c179e\\\"],[0.4444444444444444,\\\"#bd3786\\\"],[0.5555555555555556,\\\"#d8576b\\\"],[0.6666666666666666,\\\"#ed7953\\\"],[0.7777777777777778,\\\"#fb9f3a\\\"],[0.8888888888888888,\\\"#fdca26\\\"],[1.0,\\\"#f0f921\\\"]]}],\\\"scattercarpet\\\":[{\\\"type\\\":\\\"scattercarpet\\\",\\\"marker\\\":{\\\"colorbar\\\":{\\\"ticks\\\":\\\"\\\",\\\"outlinewidth\\\":0}}}],\\\"mesh3d\\\":[{\\\"colorbar\\\":{\\\"ticks\\\":\\\"\\\",\\\"outlinewidth\\\":0},\\\"type\\\":\\\"mesh3d\\\"}],\\\"surface\\\":[{\\\"colorbar\\\":{\\\"ticks\\\":\\\"\\\",\\\"outlinewidth\\\":0},\\\"type\\\":\\\"surface\\\",\\\"colorscale\\\":[[0.0,\\\"#0d0887\\\"],[0.1111111111111111,\\\"#46039f\\\"],[0.2222222222222222,\\\"#7201a8\\\"],[0.3333333333333333,\\\"#9c179e\\\"],[0.4444444444444444,\\\"#bd3786\\\"],[0.5555555555555556,\\\"#d8576b\\\"],[0.6666666666666666,\\\"#ed7953\\\"],[0.7777777777777778,\\\"#fb9f3a\\\"],[0.8888888888888888,\\\"#fdca26\\\"],[1.0,\\\"#f0f921\\\"]]}],\\\"scattermapbox\\\":[{\\\"type\\\":\\\"scattermapbox\\\",\\\"marker\\\":{\\\"colorbar\\\":{\\\"ticks\\\":\\\"\\\",\\\"outlinewidth\\\":0}}}],\\\"scattergeo\\\":[{\\\"type\\\":\\\"scattergeo\\\",\\\"marker\\\":{\\\"colorbar\\\":{\\\"ticks\\\":\\\"\\\",\\\"outlinewidth\\\":0}}}],\\\"histogram\\\":[{\\\"type\\\":\\\"histogram\\\",\\\"marker\\\":{\\\"colorbar\\\":{\\\"ticks\\\":\\\"\\\",\\\"outlinewidth\\\":0}}}],\\\"pie\\\":[{\\\"type\\\":\\\"pie\\\",\\\"automargin\\\":true}],\\\"choropleth\\\":[{\\\"colorbar\\\":{\\\"ticks\\\":\\\"\\\",\\\"outlinewidth\\\":0},\\\"type\\\":\\\"choropleth\\\"}],\\\"heatmapgl\\\":[{\\\"colorbar\\\":{\\\"ticks\\\":\\\"\\\",\\\"outlinewidth\\\":0},\\\"type\\\":\\\"heatmapgl\\\",\\\"colorscale\\\":[[0.0,\\\"#0d0887\\\"],[0.1111111111111111,\\\"#46039f\\\"],[0.2222222222222222,\\\"#7201a8\\\"],[0.3333333333333333,\\\"#9c179e\\\"],[0.4444444444444444,\\\"#bd3786\\\"],[0.5555555555555556,\\\"#d8576b\\\"],[0.6666666666666666,\\\"#ed7953\\\"],[0.7777777777777778,\\\"#fb9f3a\\\"],[0.8888888888888888,\\\"#fdca26\\\"],[1.0,\\\"#f0f921\\\"]]}],\\\"bar\\\":[{\\\"type\\\":\\\"bar\\\",\\\"error_y\\\":{\\\"color\\\":\\\"#2a3f5f\\\"},\\\"error_x\\\":{\\\"color\\\":\\\"#2a3f5f\\\"},\\\"marker\\\":{\\\"line\\\":{\\\"color\\\":\\\"#E5ECF6\\\",\\\"width\\\":0.5}}}],\\\"heatmap\\\":[{\\\"colorbar\\\":{\\\"ticks\\\":\\\"\\\",\\\"outlinewidth\\\":0},\\\"type\\\":\\\"heatmap\\\",\\\"colorscale\\\":[[0.0,\\\"#0d0887\\\"],[0.1111111111111111,\\\"#46039f\\\"],[0.2222222222222222,\\\"#7201a8\\\"],[0.3333333333333333,\\\"#9c179e\\\"],[0.4444444444444444,\\\"#bd3786\\\"],[0.5555555555555556,\\\"#d8576b\\\"],[0.6666666666666666,\\\"#ed7953\\\"],[0.7777777777777778,\\\"#fb9f3a\\\"],[0.8888888888888888,\\\"#fdca26\\\"],[1.0,\\\"#f0f921\\\"]]}],\\\"contourcarpet\\\":[{\\\"colorbar\\\":{\\\"ticks\\\":\\\"\\\",\\\"outlinewidth\\\":0},\\\"type\\\":\\\"contourcarpet\\\"}],\\\"table\\\":[{\\\"type\\\":\\\"table\\\",\\\"header\\\":{\\\"line\\\":{\\\"color\\\":\\\"white\\\"},\\\"fill\\\":{\\\"color\\\":\\\"#C8D4E3\\\"}},\\\"cells\\\":{\\\"line\\\":{\\\"color\\\":\\\"white\\\"},\\\"fill\\\":{\\\"color\\\":\\\"#EBF0F8\\\"}}}],\\\"scatter3d\\\":[{\\\"line\\\":{\\\"colorbar\\\":{\\\"ticks\\\":\\\"\\\",\\\"outlinewidth\\\":0}},\\\"type\\\":\\\"scatter3d\\\",\\\"marker\\\":{\\\"colorbar\\\":{\\\"ticks\\\":\\\"\\\",\\\"outlinewidth\\\":0}}}],\\\"scattergl\\\":[{\\\"type\\\":\\\"scattergl\\\",\\\"marker\\\":{\\\"colorbar\\\":{\\\"ticks\\\":\\\"\\\",\\\"outlinewidth\\\":0}}}],\\\"histogram2d\\\":[{\\\"colorbar\\\":{\\\"ticks\\\":\\\"\\\",\\\"outlinewidth\\\":0},\\\"type\\\":\\\"histogram2d\\\",\\\"colorscale\\\":[[0.0,\\\"#0d0887\\\"],[0.1111111111111111,\\\"#46039f\\\"],[0.2222222222222222,\\\"#7201a8\\\"],[0.3333333333333333,\\\"#9c179e\\\"],[0.4444444444444444,\\\"#bd3786\\\"],[0.5555555555555556,\\\"#d8576b\\\"],[0.6666666666666666,\\\"#ed7953\\\"],[0.7777777777777778,\\\"#fb9f3a\\\"],[0.8888888888888888,\\\"#fdca26\\\"],[1.0,\\\"#f0f921\\\"]]}],\\\"scatterternary\\\":[{\\\"type\\\":\\\"scatterternary\\\",\\\"marker\\\":{\\\"colorbar\\\":{\\\"ticks\\\":\\\"\\\",\\\"outlinewidth\\\":0}}}],\\\"scatterpolargl\\\":[{\\\"type\\\":\\\"scatterpolargl\\\",\\\"marker\\\":{\\\"colorbar\\\":{\\\"ticks\\\":\\\"\\\",\\\"outlinewidth\\\":0}}}]}},\\\"legend\\\":{\\\"tracegroupgap\\\":0},\\\"margin\\\":{\\\"l\\\":50,\\\"b\\\":50,\\\"r\\\":50,\\\"t\\\":60},\\\"yaxis\\\":{\\\"title\\\":{\\\"text\\\":\\\"A\\\"}}},{\\\"showLink\\\":false,\\\"editable\\\":false,\\\"responsive\\\":true,\\\"staticPlot\\\":false,\\\"scrollZoom\\\":true}); gd.on(\\\"plotly_hover\\\",(function (data){var filtered_data=WebIO.PlotlyCommands.filterEventData(gd,data,\\\"hover\\\"); return !(filtered_data.isnil) ? (WebIO.setval({\\\"name\\\":\\\"hover\\\",\\\"scope\\\":\\\"15954548178490800823\\\",\\\"id\\\":\\\"8666248134807916708\\\",\\\"type\\\":\\\"observable\\\"},filtered_data.out)) : undefined})); gd.on(\\\"plotly_unhover\\\",(function (){return WebIO.setval({\\\"name\\\":\\\"hover\\\",\\\"scope\\\":\\\"15954548178490800823\\\",\\\"id\\\":\\\"8666248134807916708\\\",\\\"type\\\":\\\"observable\\\"},{})})); gd.on(\\\"plotly_selected\\\",(function (data){var filtered_data=WebIO.PlotlyCommands.filterEventData(gd,data,\\\"selected\\\"); return !(filtered_data.isnil) ? (WebIO.setval({\\\"name\\\":\\\"selected\\\",\\\"scope\\\":\\\"15954548178490800823\\\",\\\"id\\\":\\\"3731119457144405528\\\",\\\"type\\\":\\\"observable\\\"},filtered_data.out)) : undefined})); gd.on(\\\"plotly_deselect\\\",(function (){return WebIO.setval({\\\"name\\\":\\\"selected\\\",\\\"scope\\\":\\\"15954548178490800823\\\",\\\"id\\\":\\\"3731119457144405528\\\",\\\"type\\\":\\\"observable\\\"},{})})); gd.on(\\\"plotly_relayout\\\",(function (data){var filtered_data=WebIO.PlotlyCommands.filterEventData(gd,data,\\\"relayout\\\"); return !(filtered_data.isnil) ? (WebIO.setval({\\\"name\\\":\\\"relayout\\\",\\\"scope\\\":\\\"15954548178490800823\\\",\\\"id\\\":\\\"11410135055239393447\\\",\\\"type\\\":\\\"observable\\\"},filtered_data.out)) : undefined})); return gd.on(\\\"plotly_click\\\",(function (data){var filtered_data=WebIO.PlotlyCommands.filterEventData(gd,data,\\\"click\\\"); return !(filtered_data.isnil) ? (WebIO.setval({\\\"name\\\":\\\"click\\\",\\\"scope\\\":\\\"15954548178490800823\\\",\\\"id\\\":\\\"1195345729040826518\\\",\\\"type\\\":\\\"observable\\\"},filtered_data.out)) : undefined}))}));\\n    (WebIO.importBlock({\\\"data\\\":[{\\\"name\\\":\\\"Plotly\\\",\\\"type\\\":\\\"js\\\",\\\"url\\\":\\\"\\/assetserver\\/5b3939436337838b354347cfaa22b7bc3003989a-plotly.min.js\\\"},{\\\"name\\\":null,\\\"type\\\":\\\"js\\\",\\\"url\\\":\\\"\\/assetserver\\/b357b64ea29adbbd84741a1633d18b55a8f7fce1-plotly_webio.bundle.js\\\"}],\\\"type\\\":\\\"async_block\\\"})).then((imports) => handler.apply(this, imports));\\n}\\n\"],\"observables\":{\"_toImage\":{\"sync\":false,\"id\":\"10528296142742766492\",\"value\":{}},\"hover\":{\"sync\":false,\"id\":\"8666248134807916708\",\"value\":{}},\"selected\":{\"sync\":false,\"id\":\"3731119457144405528\",\"value\":{}},\"__gd_contents\":{\"sync\":false,\"id\":\"4297057509771391826\",\"value\":{}},\"click\":{\"sync\":false,\"id\":\"1195345729040826518\",\"value\":{}},\"image\":{\"sync\":true,\"id\":\"12605386967798213251\",\"value\":\"\"},\"__get_gd_contents\":{\"sync\":false,\"id\":\"15588945604762554722\",\"value\":\"\"},\"_downloadImage\":{\"sync\":false,\"id\":\"2113475573312212819\",\"value\":{}},\"relayout\":{\"sync\":false,\"id\":\"11410135055239393447\",\"value\":{}},\"_commands\":{\"sync\":false,\"id\":\"17969675596138478866\",\"value\":[\"update\",{},{\"xaxis\":{\"title\":{\"text\":\"νᵢ\"}},\"template\":{\"data\":{\"scatterpolargl\":[{\"type\":\"scatterpolargl\",\"marker\":{\"colorbar\":{\"ticks\":\"\",\"outlinewidth\":0}}}],\"carpet\":[{\"baxis\":{\"gridcolor\":\"white\",\"endlinecolor\":\"#2a3f5f\",\"minorgridcolor\":\"white\",\"startlinecolor\":\"#2a3f5f\",\"linecolor\":\"white\"},\"type\":\"carpet\",\"aaxis\":{\"gridcolor\":\"white\",\"endlinecolor\":\"#2a3f5f\",\"minorgridcolor\":\"white\",\"startlinecolor\":\"#2a3f5f\",\"linecolor\":\"white\"}}],\"scatterpolar\":[{\"type\":\"scatterpolar\",\"marker\":{\"colorbar\":{\"ticks\":\"\",\"outlinewidth\":0}}}],\"parcoords\":[{\"line\":{\"colorbar\":{\"ticks\":\"\",\"outlinewidth\":0}},\"type\":\"parcoords\"}],\"scatter\":[{\"type\":\"scatter\",\"marker\":{\"colorbar\":{\"ticks\":\"\",\"outlinewidth\":0}}}],\"histogram2dcontour\":[{\"colorbar\":{\"ticks\":\"\",\"outlinewidth\":0},\"type\":\"histogram2dcontour\",\"colorscale\":[[0.0,\"#0d0887\"],[0.1111111111111111,\"#46039f\"],[0.2222222222222222,\"#7201a8\"],[0.3333333333333333,\"#9c179e\"],[0.4444444444444444,\"#bd3786\"],[0.5555555555555556,\"#d8576b\"],[0.6666666666666666,\"#ed7953\"],[0.7777777777777778,\"#fb9f3a\"],[0.8888888888888888,\"#fdca26\"],[1.0,\"#f0f921\"]]}],\"contour\":[{\"colorbar\":{\"ticks\":\"\",\"outlinewidth\":0},\"type\":\"contour\",\"colorscale\":[[0.0,\"#0d0887\"],[0.1111111111111111,\"#46039f\"],[0.2222222222222222,\"#7201a8\"],[0.3333333333333333,\"#9c179e\"],[0.4444444444444444,\"#bd3786\"],[0.5555555555555556,\"#d8576b\"],[0.6666666666666666,\"#ed7953\"],[0.7777777777777778,\"#fb9f3a\"],[0.8888888888888888,\"#fdca26\"],[1.0,\"#f0f921\"]]}],\"scattercarpet\":[{\"type\":\"scattercarpet\",\"marker\":{\"colorbar\":{\"ticks\":\"\",\"outlinewidth\":0}}}],\"mesh3d\":[{\"colorbar\":{\"ticks\":\"\",\"outlinewidth\":0},\"type\":\"mesh3d\"}],\"surface\":[{\"colorbar\":{\"ticks\":\"\",\"outlinewidth\":0},\"type\":\"surface\",\"colorscale\":[[0.0,\"#0d0887\"],[0.1111111111111111,\"#46039f\"],[0.2222222222222222,\"#7201a8\"],[0.3333333333333333,\"#9c179e\"],[0.4444444444444444,\"#bd3786\"],[0.5555555555555556,\"#d8576b\"],[0.6666666666666666,\"#ed7953\"],[0.7777777777777778,\"#fb9f3a\"],[0.8888888888888888,\"#fdca26\"],[1.0,\"#f0f921\"]]}],\"scattermapbox\":[{\"type\":\"scattermapbox\",\"marker\":{\"colorbar\":{\"ticks\":\"\",\"outlinewidth\":0}}}],\"scattergeo\":[{\"type\":\"scattergeo\",\"marker\":{\"colorbar\":{\"ticks\":\"\",\"outlinewidth\":0}}}],\"histogram\":[{\"type\":\"histogram\",\"marker\":{\"colorbar\":{\"ticks\":\"\",\"outlinewidth\":0}}}],\"pie\":[{\"type\":\"pie\",\"automargin\":true}],\"choropleth\":[{\"colorbar\":{\"ticks\":\"\",\"outlinewidth\":0},\"type\":\"choropleth\"}],\"heatmapgl\":[{\"colorbar\":{\"ticks\":\"\",\"outlinewidth\":0},\"type\":\"heatmapgl\",\"colorscale\":[[0.0,\"#0d0887\"],[0.1111111111111111,\"#46039f\"],[0.2222222222222222,\"#7201a8\"],[0.3333333333333333,\"#9c179e\"],[0.4444444444444444,\"#bd3786\"],[0.5555555555555556,\"#d8576b\"],[0.6666666666666666,\"#ed7953\"],[0.7777777777777778,\"#fb9f3a\"],[0.8888888888888888,\"#fdca26\"],[1.0,\"#f0f921\"]]}],\"bar\":[{\"type\":\"bar\",\"error_y\":{\"color\":\"#2a3f5f\"},\"error_x\":{\"color\":\"#2a3f5f\"},\"marker\":{\"line\":{\"color\":\"#E5ECF6\",\"width\":0.5}}}],\"heatmap\":[{\"colorbar\":{\"ticks\":\"\",\"outlinewidth\":0},\"type\":\"heatmap\",\"colorscale\":[[0.0,\"#0d0887\"],[0.1111111111111111,\"#46039f\"],[0.2222222222222222,\"#7201a8\"],[0.3333333333333333,\"#9c179e\"],[0.4444444444444444,\"#bd3786\"],[0.5555555555555556,\"#d8576b\"],[0.6666666666666666,\"#ed7953\"],[0.7777777777777778,\"#fb9f3a\"],[0.8888888888888888,\"#fdca26\"],[1.0,\"#f0f921\"]]}],\"contourcarpet\":[{\"colorbar\":{\"ticks\":\"\",\"outlinewidth\":0},\"type\":\"contourcarpet\"}],\"table\":[{\"type\":\"table\",\"header\":{\"line\":{\"color\":\"white\"},\"fill\":{\"color\":\"#C8D4E3\"}},\"cells\":{\"line\":{\"color\":\"white\"},\"fill\":{\"color\":\"#EBF0F8\"}}}],\"scatter3d\":[{\"line\":{\"colorbar\":{\"ticks\":\"\",\"outlinewidth\":0}},\"type\":\"scatter3d\",\"marker\":{\"colorbar\":{\"ticks\":\"\",\"outlinewidth\":0}}}],\"scattergl\":[{\"type\":\"scattergl\",\"marker\":{\"colorbar\":{\"ticks\":\"\",\"outlinewidth\":0}}}],\"histogram2d\":[{\"colorbar\":{\"ticks\":\"\",\"outlinewidth\":0},\"type\":\"histogram2d\",\"colorscale\":[[0.0,\"#0d0887\"],[0.1111111111111111,\"#46039f\"],[0.2222222222222222,\"#7201a8\"],[0.3333333333333333,\"#9c179e\"],[0.4444444444444444,\"#bd3786\"],[0.5555555555555556,\"#d8576b\"],[0.6666666666666666,\"#ed7953\"],[0.7777777777777778,\"#fb9f3a\"],[0.8888888888888888,\"#fdca26\"],[1.0,\"#f0f921\"]]}],\"scatterternary\":[{\"type\":\"scatterternary\",\"marker\":{\"colorbar\":{\"ticks\":\"\",\"outlinewidth\":0}}}],\"barpolar\":[{\"type\":\"barpolar\",\"marker\":{\"line\":{\"color\":\"#E5ECF6\",\"width\":0.5}}}]},\"layout\":{\"xaxis\":{\"gridcolor\":\"white\",\"zerolinewidth\":2,\"title\":{\"standoff\":15},\"ticks\":\"\",\"zerolinecolor\":\"white\",\"automargin\":true,\"linecolor\":\"white\"},\"hovermode\":\"closest\",\"paper_bgcolor\":\"white\",\"geo\":{\"showlakes\":true,\"showland\":true,\"landcolor\":\"#E5ECF6\",\"bgcolor\":\"white\",\"subunitcolor\":\"white\",\"lakecolor\":\"white\"},\"colorscale\":{\"sequential\":[[0.0,\"#0d0887\"],[0.1111111111111111,\"#46039f\"],[0.2222222222222222,\"#7201a8\"],[0.3333333333333333,\"#9c179e\"],[0.4444444444444444,\"#bd3786\"],[0.5555555555555556,\"#d8576b\"],[0.6666666666666666,\"#ed7953\"],[0.7777777777777778,\"#fb9f3a\"],[0.8888888888888888,\"#fdca26\"],[1.0,\"#f0f921\"]],\"diverging\":[[0,\"#8e0152\"],[0.1,\"#c51b7d\"],[0.2,\"#de77ae\"],[0.3,\"#f1b6da\"],[0.4,\"#fde0ef\"],[0.5,\"#f7f7f7\"],[0.6,\"#e6f5d0\"],[0.7,\"#b8e186\"],[0.8,\"#7fbc41\"],[0.9,\"#4d9221\"],[1,\"#276419\"]],\"sequentialminus\":[[0.0,\"#0d0887\"],[0.1111111111111111,\"#46039f\"],[0.2222222222222222,\"#7201a8\"],[0.3333333333333333,\"#9c179e\"],[0.4444444444444444,\"#bd3786\"],[0.5555555555555556,\"#d8576b\"],[0.6666666666666666,\"#ed7953\"],[0.7777777777777778,\"#fb9f3a\"],[0.8888888888888888,\"#fdca26\"],[1.0,\"#f0f921\"]]},\"yaxis\":{\"gridcolor\":\"white\",\"zerolinewidth\":2,\"title\":{\"standoff\":15},\"ticks\":\"\",\"zerolinecolor\":\"white\",\"automargin\":true,\"linecolor\":\"white\"},\"shapedefaults\":{\"line\":{\"color\":\"#2a3f5f\"}},\"font\":{\"color\":\"#2a3f5f\"},\"annotationdefaults\":{\"arrowhead\":0,\"arrowwidth\":1,\"arrowcolor\":\"#2a3f5f\"},\"plot_bgcolor\":\"#E5ECF6\",\"title\":{\"x\":0.05},\"coloraxis\":{\"colorbar\":{\"ticks\":\"\",\"outlinewidth\":0}},\"hoverlabel\":{\"align\":\"left\"},\"mapbox\":{\"style\":\"light\"},\"polar\":{\"angularaxis\":{\"gridcolor\":\"white\",\"ticks\":\"\",\"linecolor\":\"white\"},\"bgcolor\":\"#E5ECF6\",\"radialaxis\":{\"gridcolor\":\"white\",\"ticks\":\"\",\"linecolor\":\"white\"}},\"autotypenumbers\":\"strict\",\"ternary\":{\"aaxis\":{\"gridcolor\":\"white\",\"ticks\":\"\",\"linecolor\":\"white\"},\"bgcolor\":\"#E5ECF6\",\"caxis\":{\"gridcolor\":\"white\",\"ticks\":\"\",\"linecolor\":\"white\"},\"baxis\":{\"gridcolor\":\"white\",\"ticks\":\"\",\"linecolor\":\"white\"}},\"scene\":{\"xaxis\":{\"gridcolor\":\"white\",\"gridwidth\":2,\"backgroundcolor\":\"#E5ECF6\",\"ticks\":\"\",\"showbackground\":true,\"zerolinecolor\":\"white\",\"linecolor\":\"white\"},\"zaxis\":{\"gridcolor\":\"white\",\"gridwidth\":2,\"backgroundcolor\":\"#E5ECF6\",\"ticks\":\"\",\"showbackground\":true,\"zerolinecolor\":\"white\",\"linecolor\":\"white\"},\"yaxis\":{\"gridcolor\":\"white\",\"gridwidth\":2,\"backgroundcolor\":\"#E5ECF6\",\"ticks\":\"\",\"showbackground\":true,\"zerolinecolor\":\"white\",\"linecolor\":\"white\"}},\"colorway\":[\"#636efa\",\"#EF553B\",\"#00cc96\",\"#ab63fa\",\"#FFA15A\",\"#19d3f3\",\"#FF6692\",\"#B6E880\",\"#FF97FF\",\"#FECB52\"]}},\"legend\":{\"tracegroupgap\":0},\"margin\":{\"l\":50,\"b\":50,\"r\":50,\"t\":60},\"yaxis\":{\"dtick\":0.75,\"tickmode\":\"linear\",\"title\":{\"text\":\"Parameters\"},\"size\":0.1,\"tick0\":0.5},\"height\":1000,\"width\":1000}]}}},\"children\":[{\"props\":{\"id\":\"plot-88859ae4-2ce3-4843-b766-fed6fea89b19\"},\"nodeType\":\"DOM\",\"type\":\"node\",\"instanceArgs\":{\"namespace\":\"html\",\"tag\":\"div\"},\"children\":[]}]},\n",
       "        window,\n",
       "    );\n",
       "    })()\n",
       "    </script>\n",
       "</div>\n"
      ],
      "text/plain": [
       "data: [\n",
       "  \"bar with fields config, orientation, type, x, xaxis, y, and yaxis\"\n",
       "]\n",
       "\n",
       "layout: \"layout with fields height, legend, margin, template, width, xaxis, and yaxis\"\n",
       "\n"
      ]
     },
     "metadata": {},
     "output_type": "display_data"
    },
    {
     "name": "stderr",
     "output_type": "stream",
     "text": [
      "┌ Warning: Kaleido is not available on this system. Julia will be unable to save images of any plots.\n",
      "└ @ PlotlyJS /Users/julietnwagwuume-ezeoke/.julia/packages/PlotlyJS/4jzLr/src/kaleido.jl:65\n",
      "┌ Warning: UndefVarError(:artifact_dir)\n",
      "└ @ PlotlyJS /Users/julietnwagwuume-ezeoke/.julia/packages/PlotlyJS/4jzLr/src/kaleido.jl:66\n",
      "┌ Warning: Kaleido is not available on this system. Julia will be unable to save images of any plots.\n",
      "└ @ PlotlyJS /Users/julietnwagwuume-ezeoke/.julia/packages/PlotlyJS/4jzLr/src/kaleido.jl:65\n",
      "┌ Warning: UndefVarError(:artifact_dir)\n",
      "└ @ PlotlyJS /Users/julietnwagwuume-ezeoke/.julia/packages/PlotlyJS/4jzLr/src/kaleido.jl:66\n"
     ]
    }
   ],
   "source": [
    "fig = PlotlyJS.plot(\n",
    "    dfnu,\n",
    "    y=:A, x=:B, kind=\"bar\", orientation=\"h\", config=PlotConfig(staticPlot=true))\n",
    "\n",
    "relayout!(fig,\n",
    "    yaxis = attr(\n",
    "        tickmode = \"linear\",\n",
    "        tick0 = 0.5,\n",
    "        dtick = 0.75,\n",
    "        size=0.1\n",
    "    ),\n",
    "    width=1000, height=1000,\n",
    "    xaxis_title=\"νᵢ\",\n",
    "    yaxis_title=\"Parameters\"\n",
    ")\n",
    "\n",
    "fig"
   ]
  },
  {
   "cell_type": "code",
   "execution_count": null,
   "metadata": {},
   "outputs": [],
   "source": []
  },
  {
   "cell_type": "code",
   "execution_count": 123,
   "metadata": {},
   "outputs": [
    {
     "data": {
      "text/plain": [
       "PlotlyJS.SyncPlot"
      ]
     },
     "metadata": {},
     "output_type": "display_data"
    }
   ],
   "source": [
    "typeof(fig)"
   ]
  },
  {
   "cell_type": "code",
   "execution_count": null,
   "metadata": {},
   "outputs": [],
   "source": [
    "fig_path = \"/Users/julietnwagwuume-ezeoke/My Drive/CS361_Optim/_fp_cs361/figures\""
   ]
  },
  {
   "cell_type": "code",
   "execution_count": 124,
   "metadata": {},
   "outputs": [
    {
     "ename": "UndefRefError",
     "evalue": "UndefRefError: access to undefined reference",
     "output_type": "error",
     "traceback": [
      "UndefRefError: access to undefined reference\n",
      "\n",
      "Stacktrace:\n",
      "  [1] getproperty\n",
      "    @ ./Base.jl:42 [inlined]\n",
      "  [2] savefig(p::Plot{Vector{GenericTrace}, Layout{Dict{Symbol, Any}}, Vector{PlotlyFrame}}; width::Nothing, height::Nothing, scale::Nothing, format::String)\n",
      "    @ PlotlyJS ~/.julia/packages/PlotlyJS/4jzLr/src/kaleido.jl:98\n",
      "  [3] savefig(p::PlotlyJS.SyncPlot; kwargs::Base.Pairs{Symbol, Union{Nothing, String}, NTuple{4, Symbol}, NamedTuple{(:width, :height, :scale, :format), Tuple{Nothing, Nothing, Nothing, String}}})\n",
      "    @ PlotlyJS ~/.julia/packages/PlotlyJS/4jzLr/src/kaleido.jl:71\n",
      "  [4] savefig(io::IOStream, p::PlotlyJS.SyncPlot; width::Nothing, height::Nothing, scale::Nothing, format::String)\n",
      "    @ PlotlyJS ~/.julia/packages/PlotlyJS/4jzLr/src/kaleido.jl:154\n",
      "  [5] (::PlotlyJS.var\"#36#37\"{Nothing, Nothing, Nothing, PlotlyJS.SyncPlot})(f::IOStream)\n",
      "    @ PlotlyJS ~/.julia/packages/PlotlyJS/4jzLr/src/kaleido.jl:187\n",
      "  [6] open(::PlotlyJS.var\"#36#37\"{Nothing, Nothing, Nothing, PlotlyJS.SyncPlot}, ::String, ::Vararg{String}; kwargs::Base.Pairs{Symbol, Union{}, Tuple{}, NamedTuple{(), Tuple{}}})\n",
      "    @ Base ./io.jl:330\n",
      "  [7] open\n",
      "    @ ./io.jl:328 [inlined]\n",
      "  [8] savefig(p::PlotlyJS.SyncPlot, fn::String; format::Nothing, width::Nothing, height::Nothing, scale::Nothing)\n",
      "    @ PlotlyJS ~/.julia/packages/PlotlyJS/4jzLr/src/kaleido.jl:186\n",
      "  [9] savefig(p::PlotlyJS.SyncPlot, fn::String)\n",
      "    @ PlotlyJS ~/.julia/packages/PlotlyJS/4jzLr/src/kaleido.jl:181\n",
      " [10] top-level scope\n",
      "    @ ~/My Drive/CS361_Optim/_fp_cs361/notebooks/dgsm.ipynb:1\n",
      " [11] eval\n",
      "    @ ./boot.jl:373 [inlined]\n",
      " [12] include_string(mapexpr::typeof(REPL.softscope), mod::Module, code::String, filename::String)\n",
      "    @ Base ./loading.jl:1196\n",
      " [13] #invokelatest#2\n",
      "    @ ./essentials.jl:716 [inlined]\n",
      " [14] invokelatest\n",
      "    @ ./essentials.jl:714 [inlined]\n",
      " [15] (::VSCodeServer.var\"#164#165\"{VSCodeServer.NotebookRunCellArguments, String})()\n",
      "    @ VSCodeServer ~/.vscode/extensions/julialang.language-julia-1.6.17/scripts/packages/VSCodeServer/src/serve_notebook.jl:19\n",
      " [16] withpath(f::VSCodeServer.var\"#164#165\"{VSCodeServer.NotebookRunCellArguments, String}, path::String)\n",
      "    @ VSCodeServer ~/.vscode/extensions/julialang.language-julia-1.6.17/scripts/packages/VSCodeServer/src/repl.jl:184\n",
      " [17] notebook_runcell_request(conn::VSCodeServer.JSONRPC.JSONRPCEndpoint{Base.PipeEndpoint, Base.PipeEndpoint}, params::VSCodeServer.NotebookRunCellArguments)\n",
      "    @ VSCodeServer ~/.vscode/extensions/julialang.language-julia-1.6.17/scripts/packages/VSCodeServer/src/serve_notebook.jl:13\n",
      " [18] dispatch_msg(x::VSCodeServer.JSONRPC.JSONRPCEndpoint{Base.PipeEndpoint, Base.PipeEndpoint}, dispatcher::VSCodeServer.JSONRPC.MsgDispatcher, msg::Dict{String, Any})\n",
      "    @ VSCodeServer.JSONRPC ~/.vscode/extensions/julialang.language-julia-1.6.17/scripts/packages/JSONRPC/src/typed.jl:67\n",
      " [19] serve_notebook(pipename::String, outputchannel_logger::Base.CoreLogging.SimpleLogger; crashreporting_pipename::String)\n",
      "    @ VSCodeServer ~/.vscode/extensions/julialang.language-julia-1.6.17/scripts/packages/VSCodeServer/src/serve_notebook.jl:136\n",
      " [20] top-level scope\n",
      "    @ ~/.vscode/extensions/julialang.language-julia-1.6.17/scripts/notebook/notebook.jl:32\n",
      " [21] include(mod::Module, _path::String)\n",
      "    @ Base ./Base.jl:418\n",
      " [22] exec_options(opts::Base.JLOptions)\n",
      "    @ Base ./client.jl:292\n",
      " [23] _start()\n",
      "    @ Base ./client.jl:495"
     ]
    }
   ],
   "source": [
    "PlotlyJS.savefig(fig, \"hi.png\")"
   ]
  }
 ],
 "metadata": {
  "kernelspec": {
   "display_name": "Julia 1.7.2",
   "language": "julia",
   "name": "julia-1.7"
  },
  "language_info": {
   "file_extension": ".jl",
   "mimetype": "application/julia",
   "name": "julia",
   "version": "1.7.2"
  },
  "orig_nbformat": 4
 },
 "nbformat": 4,
 "nbformat_minor": 2
}
