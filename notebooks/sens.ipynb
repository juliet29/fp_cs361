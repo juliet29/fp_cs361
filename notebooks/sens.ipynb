{
 "cells": [
  {
   "cell_type": "code",
   "execution_count": 49,
   "metadata": {},
   "outputs": [],
   "source": [
    "using LinearAlgebra\n",
    "using DataFrames"
   ]
  },
  {
   "cell_type": "code",
   "execution_count": 1,
   "metadata": {},
   "outputs": [
    {
     "data": {
      "text/plain": [
       "save_samples (generic function with 2 methods)"
      ]
     },
     "metadata": {},
     "output_type": "display_data"
    }
   ],
   "source": [
    "include(\"/Users/julietnwagwuume-ezeoke/My Drive/CS361_Optim/_fp_cs361/samples.jl\")"
   ]
  },
  {
   "cell_type": "code",
   "execution_count": 45,
   "metadata": {},
   "outputs": [],
   "source": [
    "dims = 53\n",
    "X = get_filling_set_halton(7,dims );"
   ]
  },
  {
   "cell_type": "code",
   "execution_count": 46,
   "metadata": {},
   "outputs": [
    {
     "data": {
      "text/plain": [
       "7×53 Matrix{Float64}:\n",
       " 0.5    0.333333  0.2   0.142857   …  0.00429185  0.0041841  0.00414938\n",
       " 0.25   0.666667  0.4   0.285714      0.00858369  0.0083682  0.00829876\n",
       " 0.75   0.111111  0.6   0.428571      0.0128755   0.0125523  0.0124481\n",
       " 0.125  0.444444  0.8   0.571429      0.0171674   0.0167364  0.0165975\n",
       " 0.625  0.777778  0.04  0.714286      0.0214592   0.0209205  0.0207469\n",
       " 0.375  0.222222  0.24  0.857143   …  0.0257511   0.0251046  0.0248963\n",
       " 0.875  0.555556  0.44  0.0204082     0.0300429   0.0292887  0.0290456"
      ]
     },
     "metadata": {},
     "output_type": "display_data"
    }
   ],
   "source": [
    "Xmat = mapreduce(permutedims, vcat, X)"
   ]
  },
  {
   "cell_type": "code",
   "execution_count": 47,
   "metadata": {},
   "outputs": [],
   "source": [
    "samples = Xmat;\n",
    "δ = 1e-5\n",
    "Iδ = Matrix(δ*I, 53, 53);"
   ]
  },
  {
   "cell_type": "code",
   "execution_count": 48,
   "metadata": {},
   "outputs": [
    {
     "data": {
      "text/plain": [
       "378×53 Matrix{Float64}:\n",
       " 0.5      0.333333  0.2      0.142857   …  0.00429185  0.0041841  0.00414938\n",
       " 0.25     0.666667  0.4      0.285714      0.00858369  0.0083682  0.00829876\n",
       " 0.75     0.111111  0.6      0.428571      0.0128755   0.0125523  0.0124481\n",
       " 0.125    0.444444  0.8      0.571429      0.0171674   0.0167364  0.0165975\n",
       " 0.625    0.777778  0.04     0.714286      0.0214592   0.0209205  0.0207469\n",
       " 0.375    0.222222  0.24     0.857143   …  0.0257511   0.0251046  0.0248963\n",
       " 0.875    0.555556  0.44     0.0204082     0.0300429   0.0292887  0.0290456\n",
       " 0.50001  0.333333  0.2      0.142857      0.00429185  0.0041841  0.00414938\n",
       " 0.5      0.333343  0.2      0.142857      0.00429185  0.0041841  0.00414938\n",
       " 0.5      0.333333  0.20001  0.142857      0.00429185  0.0041841  0.00414938\n",
       " ⋮                                      ⋱  ⋮                      \n",
       " 0.875    0.555556  0.44     0.0204082     0.0300429   0.0292887  0.0290456\n",
       " 0.875    0.555556  0.44     0.0204082  …  0.0300429   0.0292887  0.0290456\n",
       " 0.875    0.555556  0.44     0.0204082     0.0300429   0.0292887  0.0290456\n",
       " 0.875    0.555556  0.44     0.0204082     0.0300429   0.0292887  0.0290456\n",
       " 0.875    0.555556  0.44     0.0204082     0.0300429   0.0292887  0.0290456\n",
       " 0.875    0.555556  0.44     0.0204082     0.0300429   0.0292887  0.0290456\n",
       " 0.875    0.555556  0.44     0.0204082  …  0.0300529   0.0292887  0.0290456\n",
       " 0.875    0.555556  0.44     0.0204082     0.0300429   0.0292987  0.0290456\n",
       " 0.875    0.555556  0.44     0.0204082     0.0300429   0.0292887  0.0290556"
      ]
     },
     "metadata": {},
     "output_type": "display_data"
    }
   ],
   "source": [
    "for i = 1:size(samples, 1)\n",
    "    X1 = mapreduce(permutedims, vcat, fill(Xmat[i, :],  53));\n",
    "    X1δ =  X1 + Iδ\n",
    "    samples = [samples; X1δ ]\n",
    "\n",
    "end\n",
    "samples"
   ]
  },
  {
   "cell_type": "code",
   "execution_count": 50,
   "metadata": {},
   "outputs": [
    {
     "data": {
      "text/plain": [
       "\"/Users/julietnwagwuume-ezeoke/My Drive/CS361_Optim/_fp_cs361/samples/samples_0525_378_DGSM.csv\""
      ]
     },
     "metadata": {},
     "output_type": "display_data"
    }
   ],
   "source": [
    "csv_name = \"/Users/julietnwagwuume-ezeoke/My Drive/CS361_Optim/_fp_cs361/samples/samples_0525_378_DGSM.csv\""
   ]
  },
  {
   "cell_type": "code",
   "execution_count": 51,
   "metadata": {},
   "outputs": [
    {
     "data": {
      "text/plain": [
       "\"/Users/julietnwagwuume-ezeoke/My Drive/CS361_Optim/_fp_cs361/samples/samples_0525_378_DGSM.csv\""
      ]
     },
     "metadata": {},
     "output_type": "display_data"
    }
   ],
   "source": [
    "df = DataFrame(samples, :auto)\n",
    "CSV.write(csv_name, df)"
   ]
  }
 ],
 "metadata": {
  "kernelspec": {
   "display_name": "Julia 1.7.2",
   "language": "julia",
   "name": "julia-1.7"
  },
  "language_info": {
   "file_extension": ".jl",
   "mimetype": "application/julia",
   "name": "julia",
   "version": "1.7.2"
  },
  "orig_nbformat": 4
 },
 "nbformat": 4,
 "nbformat_minor": 2
}
