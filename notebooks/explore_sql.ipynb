{
 "cells": [
  {
   "cell_type": "code",
   "execution_count": 32,
   "metadata": {},
   "outputs": [],
   "source": [
    "import os\n",
    "\n",
    "from ladybug.sql import SQLiteResult\n",
    "from ladybug import analysisperiod as ap\n",
    "import numpy as np\n",
    "from collections import OrderedDict\n",
    "import pandas as pd"
   ]
  },
  {
   "cell_type": "code",
   "execution_count": 3,
   "metadata": {},
   "outputs": [],
   "source": [
    "sql_file = \"/Users/julietnwagwuume-ezeoke/My Drive/CS361_Optim/_fplocal_cs361/eppy_energy_models/05_19/05_20_batch_00_06/sample_1/eplusout.sql\"\n",
    "\n",
    "sqld = SQLiteResult(sql_file)"
   ]
  },
  {
   "cell_type": "code",
   "execution_count": 6,
   "metadata": {},
   "outputs": [
    {
     "data": {
      "text/plain": [
       "('Electricity:Facility', 'Electricity:Facility')"
      ]
     },
     "execution_count": 6,
     "metadata": {},
     "output_type": "execute_result"
    }
   ],
   "source": [
    "sqld.available_outputs"
   ]
  },
  {
   "cell_type": "code",
   "execution_count": 16,
   "metadata": {},
   "outputs": [
    {
     "data": {
      "text/plain": [
       "odict_keys(['January', 'February', 'March', 'April', 'May', 'June', 'July', 'August', 'September', 'October', 'November', 'December', '', 'Annual Sum or Average', 'Minimum of Months', 'Maximum of Months'])"
      ]
     },
     "execution_count": 16,
     "metadata": {},
     "output_type": "execute_result"
    }
   ],
   "source": [
    "elect = sqld.tabular_data_by_name(\"Custom Monthly Report\") # BUILDING ENERGY PERFORMANCE - ELECTRICITY  and BUILDING ENERGY PERFORMANCE - ELECTRICITY PEAK DEMAND in one table rip \n",
    "elect[\"January\"] # just need indices 0 and 2, add them to together\n",
    "elect.keys()"
   ]
  },
  {
   "cell_type": "code",
   "execution_count": 17,
   "metadata": {},
   "outputs": [],
   "source": [
    "months = ['January', 'February', 'March', 'April', 'May', 'June', 'July', 'August', 'September', 'October', 'November', 'December']"
   ]
  },
  {
   "cell_type": "code",
   "execution_count": 31,
   "metadata": {},
   "outputs": [],
   "source": [
    "all_samples = []\n",
    "for i in range(2):\n",
    "    elect_use_sample = []\n",
    "    elect_dict = OrderedDict()\n",
    "    for month in months:\n",
    "        elect_use_sample.append(elect[month][0] + elect[month][2])\n",
    "    all_samples.append(elect_use_sample)\n"
   ]
  },
  {
   "cell_type": "code",
   "execution_count": 36,
   "metadata": {},
   "outputs": [
    {
     "data": {
      "text/plain": [
       "['x1', 'x2']"
      ]
     },
     "execution_count": 36,
     "metadata": {},
     "output_type": "execute_result"
    }
   ],
   "source": [
    "col_names = [f\"x{i+1}\" for i in range(2)]\n",
    "col_names"
   ]
  },
  {
   "cell_type": "code",
   "execution_count": 38,
   "metadata": {},
   "outputs": [
    {
     "data": {
      "text/html": [
       "<div>\n",
       "<style scoped>\n",
       "    .dataframe tbody tr th:only-of-type {\n",
       "        vertical-align: middle;\n",
       "    }\n",
       "\n",
       "    .dataframe tbody tr th {\n",
       "        vertical-align: top;\n",
       "    }\n",
       "\n",
       "    .dataframe thead th {\n",
       "        text-align: right;\n",
       "    }\n",
       "</style>\n",
       "<table border=\"1\" class=\"dataframe\">\n",
       "  <thead>\n",
       "    <tr style=\"text-align: right;\">\n",
       "      <th></th>\n",
       "      <th>x1</th>\n",
       "      <th>x2</th>\n",
       "    </tr>\n",
       "  </thead>\n",
       "  <tbody>\n",
       "    <tr>\n",
       "      <th>0</th>\n",
       "      <td>1.710276e+09</td>\n",
       "      <td>1.710276e+09</td>\n",
       "    </tr>\n",
       "    <tr>\n",
       "      <th>1</th>\n",
       "      <td>1.696934e+09</td>\n",
       "      <td>1.696934e+09</td>\n",
       "    </tr>\n",
       "    <tr>\n",
       "      <th>2</th>\n",
       "      <td>2.103386e+09</td>\n",
       "      <td>2.103386e+09</td>\n",
       "    </tr>\n",
       "    <tr>\n",
       "      <th>3</th>\n",
       "      <td>1.705829e+09</td>\n",
       "      <td>1.705829e+09</td>\n",
       "    </tr>\n",
       "    <tr>\n",
       "      <th>4</th>\n",
       "      <td>1.710276e+09</td>\n",
       "      <td>1.710276e+09</td>\n",
       "    </tr>\n",
       "    <tr>\n",
       "      <th>5</th>\n",
       "      <td>2.010998e+09</td>\n",
       "      <td>2.010998e+09</td>\n",
       "    </tr>\n",
       "    <tr>\n",
       "      <th>6</th>\n",
       "      <td>1.609142e+09</td>\n",
       "      <td>1.609142e+09</td>\n",
       "    </tr>\n",
       "    <tr>\n",
       "      <th>7</th>\n",
       "      <td>1.810103e+09</td>\n",
       "      <td>1.810103e+09</td>\n",
       "    </tr>\n",
       "    <tr>\n",
       "      <th>8</th>\n",
       "      <td>1.902379e+09</td>\n",
       "      <td>1.902379e+09</td>\n",
       "    </tr>\n",
       "    <tr>\n",
       "      <th>9</th>\n",
       "      <td>1.710276e+09</td>\n",
       "      <td>1.710276e+09</td>\n",
       "    </tr>\n",
       "    <tr>\n",
       "      <th>10</th>\n",
       "      <td>1.902379e+09</td>\n",
       "      <td>1.902379e+09</td>\n",
       "    </tr>\n",
       "    <tr>\n",
       "      <th>11</th>\n",
       "      <td>1.906826e+09</td>\n",
       "      <td>1.906826e+09</td>\n",
       "    </tr>\n",
       "  </tbody>\n",
       "</table>\n",
       "</div>"
      ],
      "text/plain": [
       "              x1            x2\n",
       "0   1.710276e+09  1.710276e+09\n",
       "1   1.696934e+09  1.696934e+09\n",
       "2   2.103386e+09  2.103386e+09\n",
       "3   1.705829e+09  1.705829e+09\n",
       "4   1.710276e+09  1.710276e+09\n",
       "5   2.010998e+09  2.010998e+09\n",
       "6   1.609142e+09  1.609142e+09\n",
       "7   1.810103e+09  1.810103e+09\n",
       "8   1.902379e+09  1.902379e+09\n",
       "9   1.710276e+09  1.710276e+09\n",
       "10  1.902379e+09  1.902379e+09\n",
       "11  1.906826e+09  1.906826e+09"
      ]
     },
     "execution_count": 38,
     "metadata": {},
     "output_type": "execute_result"
    }
   ],
   "source": [
    "df = pd.DataFrame(all_samples, col_names).T\n",
    "df"
   ]
  },
  {
   "cell_type": "code",
   "execution_count": 41,
   "metadata": {},
   "outputs": [],
   "source": [
    "folder_path = \"/Users/julietnwagwuume-ezeoke/My Drive/CS361_Optim/_fp_cs361/sim_data\"\n",
    "df.to_csv(f\"{folder_path}/0520_batch_00_06.csv\")"
   ]
  },
  {
   "cell_type": "code",
   "execution_count": 44,
   "metadata": {},
   "outputs": [
    {
     "data": {
      "text/plain": [
       "12"
      ]
     },
     "execution_count": 44,
     "metadata": {},
     "output_type": "execute_result"
    }
   ],
   "source": [
    "list(np.zeros(12))"
   ]
  }
 ],
 "metadata": {
  "interpreter": {
   "hash": "b2ee25b096eb6dc3289fa938db5d31020ca2de215c290f792ace3d0f2520e3be"
  },
  "kernelspec": {
   "display_name": "Python 3.9.10 ('cs361env': venv)",
   "language": "python",
   "name": "python3"
  },
  "language_info": {
   "codemirror_mode": {
    "name": "ipython",
    "version": 3
   },
   "file_extension": ".py",
   "mimetype": "text/x-python",
   "name": "python",
   "nbconvert_exporter": "python",
   "pygments_lexer": "ipython3",
   "version": "3.9.12"
  },
  "orig_nbformat": 4
 },
 "nbformat": 4,
 "nbformat_minor": 2
}
