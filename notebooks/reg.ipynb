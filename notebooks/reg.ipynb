{
 "cells": [
  {
   "cell_type": "code",
   "execution_count": 173,
   "metadata": {},
   "outputs": [
    {
     "data": {
      "text/plain": [
       "random_subsampling (generic function with 2 methods)"
      ]
     },
     "metadata": {},
     "output_type": "display_data"
    }
   ],
   "source": [
    "include(\"/Users/julietnwagwuume-ezeoke/My Drive/CS361_Optim/_fp_cs361/surrogate.jl\")"
   ]
  },
  {
   "cell_type": "code",
   "execution_count": 172,
   "metadata": {},
   "outputs": [
    {
     "name": "stdout",
     "output_type": "stream",
     "text": [
      "holdout param, h  = 50\n"
     ]
    }
   ],
   "source": [
    "include(\"/Users/julietnwagwuume-ezeoke/My Drive/CS361_Optim/_fp_cs361/gp_main.jl\")"
   ]
  },
  {
   "cell_type": "code",
   "execution_count": 136,
   "metadata": {},
   "outputs": [
    {
     "data": {
      "text/plain": [
       "2-element Vector{Int64}:\n",
       " 4\n",
       " 5"
      ]
     },
     "metadata": {},
     "output_type": "display_data"
    }
   ],
   "source": [
    "x0 = reshape(1:8, (2,4))\n",
    "x = [x0[i, :] for i =1:size(x0,1)]\n",
    "\n",
    "y0 = collect(4:5)"
   ]
  },
  {
   "cell_type": "code",
   "execution_count": 79,
   "metadata": {},
   "outputs": [
    {
     "data": {
      "text/plain": [
       "3-element Vector{Int64}:\n",
       " 4\n",
       " 5\n",
       " 6"
      ]
     },
     "metadata": {},
     "output_type": "display_data"
    }
   ],
   "source": []
  },
  {
   "cell_type": "code",
   "execution_count": 108,
   "metadata": {},
   "outputs": [
    {
     "name": "stdout",
     "output_type": "stream",
     "text": [
      "1\n",
      "metrics Any[7.099748146989106e-30, 6.389773332290196e-29, 3.1554436208840472e-30, 7.099748146989106e-30, 7.099748146989106e-30, 7.099748146989106e-30, 7.099748146989106e-30, 7.099748146989106e-30, 7.099748146989106e-30, 3.1554436208840472e-30]\n",
      "mean 1.1990685759359379e-29\n"
     ]
    }
   ],
   "source": [
    "random_subsampling(x, y)"
   ]
  },
  {
   "cell_type": "markdown",
   "metadata": {},
   "source": [
    "# actual problem "
   ]
  },
  {
   "cell_type": "code",
   "execution_count": 120,
   "metadata": {},
   "outputs": [
    {
     "data": {
      "text/plain": [
       "array_dp (generic function with 1 method)"
      ]
     },
     "metadata": {},
     "output_type": "display_data"
    }
   ],
   "source": [
    "function array_dp(x)\n",
    "    return [x[i, :] for i =1:size(x,1)]\n",
    "end\n"
   ]
  },
  {
   "cell_type": "code",
   "execution_count": 163,
   "metadata": {},
   "outputs": [
    {
     "data": {
      "text/plain": [
       "describe_arr (generic function with 1 method)"
      ]
     },
     "metadata": {},
     "output_type": "display_data"
    }
   ],
   "source": [
    "function describe_arr(arr)\n",
    "    println(\"mean $(mean(arr))\")\n",
    "    println(\"std $(std(arr))\")\n",
    "    println(\"min $(minimum(arr))\")\n",
    "    println(\"max $(maximum(arr))\")\n",
    "end"
   ]
  },
  {
   "cell_type": "code",
   "execution_count": 174,
   "metadata": {},
   "outputs": [
    {
     "name": "stdout",
     "output_type": "stream",
     "text": [
      "holdout = h\n",
      "metrics Any[1.8997985438325808e20, 2.0099075762674057e20, 1.0714711973822146e20, 1.3447784218013175e20, 2.755307525310478e20, 1.920613585674443e20, 1.5981224059620216e20, 1.2500329016207955e20, 1.3991757201696622e20, 1.881511590999192e20]\n",
      "mean 1.7130719469020112e20\n"
     ]
    }
   ],
   "source": [
    "# linear fit is really bad \n",
    "random_subsampling(array_dp(X), y)\n",
    "# TODO modify function so can try dif regressions and metrics "
   ]
  }
 ],
 "metadata": {
  "kernelspec": {
   "display_name": "Julia 1.7.2",
   "language": "julia",
   "name": "julia-1.7"
  },
  "language_info": {
   "file_extension": ".jl",
   "mimetype": "application/julia",
   "name": "julia",
   "version": "1.7.2"
  },
  "orig_nbformat": 4
 },
 "nbformat": 4,
 "nbformat_minor": 2
}
