{
 "cells": [
  {
   "cell_type": "code",
   "execution_count": 22,
   "metadata": {},
   "outputs": [],
   "source": [
    "using MLJ\n",
    "using DataFrames\n",
    "using LinearAlgebra"
   ]
  },
  {
   "cell_type": "code",
   "execution_count": 3,
   "metadata": {},
   "outputs": [],
   "source": [
    "using Plots"
   ]
  },
  {
   "cell_type": "code",
   "execution_count": 4,
   "metadata": {},
   "outputs": [
    {
     "name": "stdout",
     "output_type": "stream",
     "text": [
      "Table{AbstractVector{Continuous}}\n"
     ]
    },
    {
     "data": {
      "text/plain": [
       "fpred (generic function with 1 method)"
      ]
     },
     "metadata": {},
     "output_type": "display_data"
    }
   ],
   "source": [
    "include(\"/Users/julietnwagwuume-ezeoke/My Drive/CS361_Optim/_fp_cs361/gp_main.jl\")"
   ]
  },
  {
   "cell_type": "code",
   "execution_count": 5,
   "metadata": {},
   "outputs": [
    {
     "data": {
      "text/plain": [
       "save_samples (generic function with 2 methods)"
      ]
     },
     "metadata": {},
     "output_type": "display_data"
    }
   ],
   "source": [
    "include(\"/Users/julietnwagwuume-ezeoke/My Drive/CS361_Optim/_fp_cs361/samples.jl\")\n"
   ]
  },
  {
   "cell_type": "code",
   "execution_count": 6,
   "metadata": {},
   "outputs": [
    {
     "name": "stdout",
     "output_type": "stream",
     "text": [
      "Table{AbstractVector{Continuous}}\n"
     ]
    },
    {
     "data": {
      "text/plain": [
       "test_opt (generic function with 1 method)"
      ]
     },
     "metadata": {},
     "output_type": "display_data"
    }
   ],
   "source": [
    "include(\"/Users/julietnwagwuume-ezeoke/My Drive/CS361_Optim/_fp_cs361/pso.jl\")"
   ]
  },
  {
   "cell_type": "markdown",
   "metadata": {},
   "source": [
    "# Data Conversion"
   ]
  },
  {
   "cell_type": "code",
   "execution_count": 7,
   "metadata": {},
   "outputs": [],
   "source": [
    "# y = convert(Array{Float64,1}, y./10e9);\n",
    "\n",
    "# # convert X from matrix to table \n",
    "# Xtable = MLJ.table(X./10e9)\n",
    "# println(scitype(Xtable))\n",
    "# schema(Xtable);"
   ]
  },
  {
   "cell_type": "markdown",
   "metadata": {},
   "source": [
    "# GaussianProcessRegressor"
   ]
  },
  {
   "cell_type": "code",
   "execution_count": 8,
   "metadata": {},
   "outputs": [],
   "source": [
    "# name = \"GaussianProcessRegressor\"\n",
    "filter(model) = model.name == \"GaussianProcessRegressor\" &&\n",
    "                model.package_name == \"ScikitLearn\"\n",
    "models(filter)[1];"
   ]
  },
  {
   "cell_type": "code",
   "execution_count": 9,
   "metadata": {},
   "outputs": [
    {
     "data": {
      "text/plain": [
       "MLJScikitLearnInterface.GaussianProcessRegressor"
      ]
     },
     "metadata": {},
     "output_type": "display_data"
    }
   ],
   "source": [
    "GPModel = @load GaussianProcessRegressor pkg=\"ScikitLearn\" verbosity=0\n",
    "\n"
   ]
  },
  {
   "cell_type": "code",
   "execution_count": 10,
   "metadata": {},
   "outputs": [
    {
     "data": {
      "text/plain": [
       "GaussianProcessRegressor(\n",
       "    kernel = nothing,\n",
       "    alpha = 1.0e-10,\n",
       "    optimizer = \"fmin_l_bfgs_b\",\n",
       "    n_restarts_optimizer = 0,\n",
       "    normalize_y = false,\n",
       "    copy_X_train = true,\n",
       "    random_state = nothing)\u001b[34m @182\u001b[39m"
      ]
     },
     "metadata": {},
     "output_type": "display_data"
    }
   ],
   "source": [
    "gpmodel = GPModel()"
   ]
  },
  {
   "cell_type": "code",
   "execution_count": 11,
   "metadata": {},
   "outputs": [],
   "source": [
    "r = range(gpmodel, :alpha, lower=10e-12, upper=10e-5, scale=:log);"
   ]
  },
  {
   "cell_type": "code",
   "execution_count": 12,
   "metadata": {},
   "outputs": [],
   "source": [
    "self_tuning_gpmodel = TunedModel(model=gpmodel,\n",
    "\t\t\t\t\t\t\t  resampling=CV(nfolds=3),\n",
    "\t\t\t\t\t\t\t  tuning=Grid(resolution=10),\n",
    "\t\t\t\t\t\t\t  range=r,\n",
    "\t\t\t\t\t\t\t  measure=rms);"
   ]
  },
  {
   "cell_type": "code",
   "execution_count": 13,
   "metadata": {},
   "outputs": [
    {
     "data": {
      "text/plain": [
       "\u001b[34mMachine{DeterministicTunedModel{Grid,…},…} @387\u001b[39m trained 1 time; caches data\n",
       "  args: \n",
       "    1:\t\u001b[34mSource @719\u001b[39m ⏎ `Table{AbstractVector{Continuous}}`\n",
       "    2:\t\u001b[34mSource @648\u001b[39m ⏎ `AbstractVector{Continuous}`\n"
      ]
     },
     "metadata": {},
     "output_type": "display_data"
    }
   ],
   "source": [
    "mach = machine(self_tuning_gpmodel, Xtable, y);\n",
    "fit!(mach, verbosity=0)"
   ]
  },
  {
   "cell_type": "code",
   "execution_count": 14,
   "metadata": {},
   "outputs": [
    {
     "data": {
      "text/plain": [
       "GaussianProcessRegressor(\n",
       "    kernel = nothing,\n",
       "    alpha = 5.99484250318941e-11,\n",
       "    optimizer = \"fmin_l_bfgs_b\",\n",
       "    n_restarts_optimizer = 0,\n",
       "    normalize_y = false,\n",
       "    copy_X_train = true,\n",
       "    random_state = nothing)\u001b[34m @181\u001b[39m"
      ]
     },
     "metadata": {},
     "output_type": "display_data"
    }
   ],
   "source": [
    "fitted_params(mach).best_model"
   ]
  },
  {
   "cell_type": "code",
   "execution_count": 15,
   "metadata": {},
   "outputs": [
    {
     "data": {
      "text/plain": [
       "(model = \u001b[34mGaussianProcessRegressor @181\u001b[39m,\n",
       " measure = [RootMeanSquaredError @409],\n",
       " measurement = [1.3311284496454001],\n",
       " per_fold = [[1.25477238415913, 1.258683132794373, 1.4686632982193895]],)"
      ]
     },
     "metadata": {},
     "output_type": "display_data"
    }
   ],
   "source": [
    "# did not impact rmse much :( \n",
    "entry = report(mach).best_history_entry"
   ]
  },
  {
   "cell_type": "code",
   "execution_count": 16,
   "metadata": {},
   "outputs": [
    {
     "data": {
      "text/plain": [
       "fpred (generic function with 1 method)"
      ]
     },
     "metadata": {},
     "output_type": "display_data"
    }
   ],
   "source": [
    "function fpred(X)\n",
    "    return MLJ.predict(mach, X)\n",
    "end\n"
   ]
  },
  {
   "cell_type": "markdown",
   "metadata": {},
   "source": [
    "# Try decision tree regressor for better rmse"
   ]
  },
  {
   "cell_type": "code",
   "execution_count": 23,
   "metadata": {},
   "outputs": [
    {
     "ename": "ErrorException",
     "evalue": "Failed to precompile MLJDecisionTreeInterface [c6f25543-311c-4c74-83dc-3ea6d1015661] to /Users/julietnwagwuume-ezeoke/.julia/compiled/v1.7/MLJDecisionTreeInterface/jl_Rt08C5.",
     "output_type": "error",
     "traceback": [
      "Failed to precompile MLJDecisionTreeInterface [c6f25543-311c-4c74-83dc-3ea6d1015661] to /Users/julietnwagwuume-ezeoke/.julia/compiled/v1.7/MLJDecisionTreeInterface/jl_Rt08C5.\n",
      "\n",
      "Stacktrace:\n",
      "  [1] error(s::String)\n",
      "    @ Base ./error.jl:33\n",
      "  [2] compilecache(pkg::Base.PkgId, path::String, internal_stderr::IO, internal_stdout::IO, ignore_loaded_modules::Bool)\n",
      "    @ Base ./loading.jl:1466\n",
      "  [3] compilecache(pkg::Base.PkgId, path::String)\n",
      "    @ Base ./loading.jl:1410\n",
      "  [4] _require(pkg::Base.PkgId)\n",
      "    @ Base ./loading.jl:1120\n",
      "  [5] require(uuidkey::Base.PkgId)\n",
      "    @ Base ./loading.jl:1013\n",
      "  [6] require(into::Module, mod::Symbol)\n",
      "    @ Base ./loading.jl:997\n",
      "  [7] eval\n",
      "    @ ./boot.jl:373 [inlined]\n",
      "  [8] eval(x::Expr)\n",
      "    @ Base.MainInclude ./client.jl:453\n",
      "  [9] _import(modl::Module, api_pkg::Symbol, pkg::Symbol, doprint::Bool)\n",
      "    @ MLJModels ~/.julia/packages/MLJModels/5itei/src/loading.jl:34\n",
      " [10] top-level scope\n",
      "    @ ~/.julia/packages/MLJModels/5itei/src/loading.jl:206\n",
      " [11] eval\n",
      "    @ ./boot.jl:373 [inlined]\n",
      " [12] include_string(mapexpr::typeof(REPL.softscope), mod::Module, code::String, filename::String)\n",
      "    @ Base ./loading.jl:1196\n",
      " [13] #invokelatest#2\n",
      "    @ ./essentials.jl:716 [inlined]\n",
      " [14] invokelatest\n",
      "    @ ./essentials.jl:714 [inlined]\n",
      " [15] (::VSCodeServer.var\"#164#165\"{VSCodeServer.NotebookRunCellArguments, String})()\n",
      "    @ VSCodeServer ~/.vscode/extensions/julialang.language-julia-1.6.17/scripts/packages/VSCodeServer/src/serve_notebook.jl:19\n",
      " [16] withpath(f::VSCodeServer.var\"#164#165\"{VSCodeServer.NotebookRunCellArguments, String}, path::String)\n",
      "    @ VSCodeServer ~/.vscode/extensions/julialang.language-julia-1.6.17/scripts/packages/VSCodeServer/src/repl.jl:184\n",
      " [17] notebook_runcell_request(conn::VSCodeServer.JSONRPC.JSONRPCEndpoint{Base.PipeEndpoint, Base.PipeEndpoint}, params::VSCodeServer.NotebookRunCellArguments)\n",
      "    @ VSCodeServer ~/.vscode/extensions/julialang.language-julia-1.6.17/scripts/packages/VSCodeServer/src/serve_notebook.jl:13\n",
      " [18] dispatch_msg(x::VSCodeServer.JSONRPC.JSONRPCEndpoint{Base.PipeEndpoint, Base.PipeEndpoint}, dispatcher::VSCodeServer.JSONRPC.MsgDispatcher, msg::Dict{String, Any})\n",
      "    @ VSCodeServer.JSONRPC ~/.vscode/extensions/julialang.language-julia-1.6.17/scripts/packages/JSONRPC/src/typed.jl:67\n",
      " [19] serve_notebook(pipename::String, outputchannel_logger::Base.CoreLogging.SimpleLogger; crashreporting_pipename::String)\n",
      "    @ VSCodeServer ~/.vscode/extensions/julialang.language-julia-1.6.17/scripts/packages/VSCodeServer/src/serve_notebook.jl:136\n",
      " [20] top-level scope\n",
      "    @ ~/.vscode/extensions/julialang.language-julia-1.6.17/scripts/notebook/notebook.jl:32\n",
      " [21] include(mod::Module, _path::String)\n",
      "    @ Base ./Base.jl:418\n",
      " [22] exec_options(opts::Base.JLOptions)\n",
      "    @ Base ./client.jl:292\n",
      " [23] _start()\n",
      "    @ Base ./client.jl:495"
     ]
    }
   ],
   "source": [
    "Tree = @load DecisionTreeRegressor pkg=DecisionTree verbosity=0;\n"
   ]
  },
  {
   "cell_type": "code",
   "execution_count": null,
   "metadata": {},
   "outputs": [],
   "source": [
    "tree = Tree()"
   ]
  },
  {
   "cell_type": "markdown",
   "metadata": {},
   "source": [
    "# Sensitivity Analysis"
   ]
  },
  {
   "cell_type": "code",
   "execution_count": 17,
   "metadata": {},
   "outputs": [],
   "source": [
    "# # generate grid of samples \n",
    "# function samples_full_factorial(a,b,m)\n",
    "#     ranges = [range]\n",
    "# end"
   ]
  },
  {
   "cell_type": "code",
   "execution_count": 18,
   "metadata": {},
   "outputs": [],
   "source": [
    "# forward / backward differentiation to calculate the indices "
   ]
  }
 ],
 "metadata": {
  "kernelspec": {
   "display_name": "Julia 1.7.2",
   "language": "julia",
   "name": "julia-1.7"
  },
  "language_info": {
   "file_extension": ".jl",
   "mimetype": "application/julia",
   "name": "julia",
   "version": "1.7.2"
  },
  "orig_nbformat": 4
 },
 "nbformat": 4,
 "nbformat_minor": 2
}
