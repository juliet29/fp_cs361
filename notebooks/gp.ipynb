{
 "cells": [
  {
   "cell_type": "code",
   "execution_count": 39,
   "metadata": {},
   "outputs": [],
   "source": [
    "using MLJ\n",
    "using DataFrames\n",
    "using LinearAlgebra"
   ]
  },
  {
   "cell_type": "code",
   "execution_count": 30,
   "metadata": {},
   "outputs": [],
   "source": [
    "using Plots"
   ]
  },
  {
   "cell_type": "code",
   "execution_count": 3,
   "metadata": {},
   "outputs": [],
   "source": [
    "include(\"/Users/julietnwagwuume-ezeoke/My Drive/CS361_Optim/_fp_cs361/gp_main.jl\")"
   ]
  },
  {
   "cell_type": "code",
   "execution_count": 36,
   "metadata": {},
   "outputs": [
    {
     "data": {
      "text/plain": [
       "save_samples (generic function with 2 methods)"
      ]
     },
     "metadata": {},
     "output_type": "display_data"
    }
   ],
   "source": [
    "include(\"/Users/julietnwagwuume-ezeoke/My Drive/CS361_Optim/_fp_cs361/samples.jl\")\n"
   ]
  },
  {
   "cell_type": "code",
   "execution_count": 43,
   "metadata": {},
   "outputs": [
    {
     "data": {
      "text/plain": [
       "particle_swarm_optimization (generic function with 4 methods)"
      ]
     },
     "metadata": {},
     "output_type": "display_data"
    }
   ],
   "source": [
    "include(\"/Users/julietnwagwuume-ezeoke/My Drive/CS361_Optim/_fp_cs361/pso.jl\")"
   ]
  },
  {
   "cell_type": "markdown",
   "metadata": {},
   "source": [
    "# Data Conversion"
   ]
  },
  {
   "cell_type": "code",
   "execution_count": 33,
   "metadata": {},
   "outputs": [
    {
     "name": "stdout",
     "output_type": "stream",
     "text": [
      "Table{AbstractVector{Continuous}}\n"
     ]
    }
   ],
   "source": [
    "y = convert(Array{Float64,1}, y./10e9);\n",
    "\n",
    "# convert X from matrix to table \n",
    "Xtable = MLJ.table(X./10e9)\n",
    "println(scitype(Xtable))\n",
    "schema(Xtable);"
   ]
  },
  {
   "cell_type": "markdown",
   "metadata": {},
   "source": [
    "# GaussianProcessRegressor"
   ]
  },
  {
   "cell_type": "code",
   "execution_count": 5,
   "metadata": {},
   "outputs": [],
   "source": [
    "# name = \"GaussianProcessRegressor\"\n",
    "filter(model) = model.name == \"GaussianProcessRegressor\" &&\n",
    "                model.package_name == \"ScikitLearn\"\n",
    "models(filter)[1];"
   ]
  },
  {
   "cell_type": "code",
   "execution_count": 6,
   "metadata": {},
   "outputs": [
    {
     "data": {
      "text/plain": [
       "MLJScikitLearnInterface.GaussianProcessRegressor"
      ]
     },
     "metadata": {},
     "output_type": "display_data"
    }
   ],
   "source": [
    "GPModel = @load GaussianProcessRegressor pkg=\"ScikitLearn\" verbosity=0\n",
    "\n"
   ]
  },
  {
   "cell_type": "code",
   "execution_count": 7,
   "metadata": {},
   "outputs": [
    {
     "data": {
      "text/plain": [
       "GaussianProcessRegressor(\n",
       "    kernel = nothing,\n",
       "    alpha = 1.0e-10,\n",
       "    optimizer = \"fmin_l_bfgs_b\",\n",
       "    n_restarts_optimizer = 0,\n",
       "    normalize_y = false,\n",
       "    copy_X_train = true,\n",
       "    random_state = nothing)\u001b[34m @033\u001b[39m"
      ]
     },
     "metadata": {},
     "output_type": "display_data"
    }
   ],
   "source": [
    "gpmodel = GPModel()"
   ]
  },
  {
   "cell_type": "code",
   "execution_count": 8,
   "metadata": {},
   "outputs": [],
   "source": [
    "r = range(gpmodel, :alpha, lower=10e-12, upper=10e-5, scale=:log);"
   ]
  },
  {
   "cell_type": "code",
   "execution_count": 9,
   "metadata": {},
   "outputs": [],
   "source": [
    "self_tuning_gpmodel = TunedModel(model=gpmodel,\n",
    "\t\t\t\t\t\t\t  resampling=CV(nfolds=3),\n",
    "\t\t\t\t\t\t\t  tuning=Grid(resolution=10),\n",
    "\t\t\t\t\t\t\t  range=r,\n",
    "\t\t\t\t\t\t\t  measure=rms);"
   ]
  },
  {
   "cell_type": "code",
   "execution_count": 27,
   "metadata": {},
   "outputs": [
    {
     "data": {
      "text/plain": [
       "\u001b[34mMachine{DeterministicTunedModel{Grid,…},…} @212\u001b[39m trained 1 time; caches data\n",
       "  args: \n",
       "    1:\t\u001b[34mSource @403\u001b[39m ⏎ `Table{AbstractVector{Continuous}}`\n",
       "    2:\t\u001b[34mSource @996\u001b[39m ⏎ `AbstractVector{Continuous}`\n"
      ]
     },
     "metadata": {},
     "output_type": "display_data"
    }
   ],
   "source": [
    "mach = machine(self_tuning_gpmodel, Xtable, y);\n",
    "fit!(mach, verbosity=0)"
   ]
  },
  {
   "cell_type": "code",
   "execution_count": 28,
   "metadata": {},
   "outputs": [
    {
     "data": {
      "text/plain": [
       "GaussianProcessRegressor(\n",
       "    kernel = nothing,\n",
       "    alpha = 5.99484250318941e-11,\n",
       "    optimizer = \"fmin_l_bfgs_b\",\n",
       "    n_restarts_optimizer = 0,\n",
       "    normalize_y = false,\n",
       "    copy_X_train = true,\n",
       "    random_state = nothing)\u001b[34m @141\u001b[39m"
      ]
     },
     "metadata": {},
     "output_type": "display_data"
    }
   ],
   "source": [
    "fitted_params(mach).best_model"
   ]
  },
  {
   "cell_type": "code",
   "execution_count": 29,
   "metadata": {},
   "outputs": [
    {
     "data": {
      "text/plain": [
       "(model = \u001b[34mGaussianProcessRegressor @141\u001b[39m,\n",
       " measure = [RootMeanSquaredError @409],\n",
       " measurement = [1.3311155389268386e-10],\n",
       " per_fold = [[1.2547715501911238e-10, 1.258646359890336e-10, 1.4686604207519295e-10]],)"
      ]
     },
     "metadata": {},
     "output_type": "display_data"
    }
   ],
   "source": [
    "# did not impact rmse much :( \n",
    "entry = report(mach).best_history_entry"
   ]
  },
  {
   "cell_type": "code",
   "execution_count": 55,
   "metadata": {},
   "outputs": [
    {
     "data": {
      "text/plain": [
       "fpred (generic function with 1 method)"
      ]
     },
     "metadata": {},
     "output_type": "display_data"
    }
   ],
   "source": [
    "function fpred(X)\n",
    "    return MLJ.predict(mach, X)\n",
    "end\n"
   ]
  },
  {
   "cell_type": "markdown",
   "metadata": {},
   "source": [
    "# Sensitivity Analysis"
   ]
  },
  {
   "cell_type": "code",
   "execution_count": 32,
   "metadata": {},
   "outputs": [],
   "source": [
    "# # generate grid of samples \n",
    "# function samples_full_factorial(a,b,m)\n",
    "#     ranges = [range]\n",
    "# end"
   ]
  },
  {
   "cell_type": "code",
   "execution_count": null,
   "metadata": {},
   "outputs": [],
   "source": [
    "# forward / backward differentiation to calculate the indices "
   ]
  },
  {
   "cell_type": "markdown",
   "metadata": {},
   "source": [
    "# PSO"
   ]
  },
  {
   "cell_type": "code",
   "execution_count": null,
   "metadata": {},
   "outputs": [],
   "source": [
    "# generate x \n",
    "positions = get_filling_set_halton(50, 61); # TODO turn arrays to vectors"
   ]
  },
  {
   "cell_type": "code",
   "execution_count": 48,
   "metadata": {},
   "outputs": [
    {
     "data": {
      "text/plain": [
       "61-element Vector{Float64}:\n",
       " 0.5\n",
       " 0.3333333333333333\n",
       " 0.2\n",
       " 0.14285714285714285\n",
       " 0.09090909090909091\n",
       " 0.07692307692307693\n",
       " 0.058823529411764705\n",
       " 0.05263157894736842\n",
       " 0.043478260869565216\n",
       " 0.034482758620689655\n",
       " ⋮\n",
       " 0.004149377593360996\n",
       " 0.00398406374501992\n",
       " 0.0038910505836575876\n",
       " 0.0038022813688212928\n",
       " 0.0037174721189591076\n",
       " 0.0036900369003690036\n",
       " 0.0036101083032490976\n",
       " 0.0035587188612099642\n",
       " 0.0035335689045936395"
      ]
     },
     "metadata": {},
     "output_type": "display_data"
    }
   ],
   "source": [
    "positions[1, :][1]"
   ]
  },
  {
   "cell_type": "code",
   "execution_count": 42,
   "metadata": {},
   "outputs": [],
   "source": [
    "# generate v \n",
    "# I matrix, 61 * 61, then take first 50 \n",
    "velocities = Matrix(1.0I, 61, 61)[1:50, :];  # Identity matrix of Float64 type"
   ]
  },
  {
   "cell_type": "code",
   "execution_count": 47,
   "metadata": {},
   "outputs": [
    {
     "data": {
      "text/plain": [
       "61-element Vector{Float64}:\n",
       " 1.0\n",
       " 0.0\n",
       " 0.0\n",
       " 0.0\n",
       " 0.0\n",
       " 0.0\n",
       " 0.0\n",
       " 0.0\n",
       " 0.0\n",
       " 0.0\n",
       " ⋮\n",
       " 0.0\n",
       " 0.0\n",
       " 0.0\n",
       " 0.0\n",
       " 0.0\n",
       " 0.0\n",
       " 0.0\n",
       " 0.0\n",
       " 0.0"
      ]
     },
     "metadata": {},
     "output_type": "display_data"
    }
   ],
   "source": [
    "velocities[1, :]"
   ]
  },
  {
   "cell_type": "code",
   "execution_count": 51,
   "metadata": {},
   "outputs": [
    {
     "data": {
      "text/plain": [
       "50"
      ]
     },
     "metadata": {},
     "output_type": "display_data"
    }
   ],
   "source": [
    "size(positions, 1)"
   ]
  },
  {
   "cell_type": "code",
   "execution_count": 53,
   "metadata": {},
   "outputs": [],
   "source": [
    "# create population \n",
    "population = []\n",
    "for i in 1:size(positions, 1)\n",
    "    x = positions[i, :][1]\n",
    "    v = velocities[i, :]\n",
    "    push!(population, Particle(x, v, x))\n",
    "end\n",
    "\n",
    "population;"
   ]
  },
  {
   "cell_type": "code",
   "execution_count": null,
   "metadata": {},
   "outputs": [],
   "source": [
    "particle_swarm_optimization(fpred, population, 100, w=1, c1=1, c2=1)"
   ]
  }
 ],
 "metadata": {
  "kernelspec": {
   "display_name": "Julia 1.7.2",
   "language": "julia",
   "name": "julia-1.7"
  },
  "language_info": {
   "file_extension": ".jl",
   "mimetype": "application/julia",
   "name": "julia",
   "version": "1.7.2"
  },
  "orig_nbformat": 4
 },
 "nbformat": 4,
 "nbformat_minor": 2
}
